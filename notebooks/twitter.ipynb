{
 "cells": [
  {
   "cell_type": "markdown",
   "id": "636a1cb5",
   "metadata": {},
   "source": [
    "# Hack The Feed: Insights From Social Media Data\n",
    "\n",
    "This notebook presents the results of our analysis and visualization of the Playhouse Communications twitter dataset for the Dicey Tech hackathon. Each notebook is a standalone file that can be run from the top down to reproduce the findings of our analysis.\n",
    "\n",
    "## Data loading and pre-processing"
   ]
  },
  {
   "cell_type": "code",
   "execution_count": null,
   "id": "b6113356",
   "metadata": {},
   "outputs": [],
   "source": [
    "import pandas as pd\n",
    "import numpy as np\n",
    "\n",
    "file = \"../data/twitter.csv\"\n",
    "\n",
    "df = pd.read_csv(file, low_memory=False)\n",
    "\n",
    "df[\"Date\"] = pd.to_datetime(df[\"Date\"], format=\"%m/%d/%Y %I:%M %p\")\n",
    "\n",
    "df.head()"
   ]
  },
  {
   "cell_type": "code",
   "execution_count": null,
   "id": "3e8590cc",
   "metadata": {},
   "outputs": [],
   "source": [
    "%cd .."
   ]
  },
  {
   "cell_type": "code",
   "execution_count": null,
   "id": "4daf9def",
   "metadata": {},
   "outputs": [],
   "source": [
    "# import function to pre-process the dataset\n",
    "from src.clean_data import clean_df\n",
    "\n",
    "new_df = clean_df(df)\n",
    "new_df.index = pd.to_datetime(new_df.index)\n",
    "\n",
    "new_df.head()"
   ]
  },
  {
   "cell_type": "markdown",
   "id": "b68e62ad",
   "metadata": {},
   "source": [
    "## Analysis and Visualization\n",
    "\n",
    "\n",
    "###  Impressions and Reach\n",
    "The following sub-sections provide insights on the `Impressions` and `Reach` of the twitter posts.\n",
    "\n",
    "#### QUESTION: What type of content generates the most impressions?"
   ]
  },
  {
   "cell_type": "code",
   "execution_count": null,
   "id": "51dcb7b9",
   "metadata": {},
   "outputs": [],
   "source": [
    "# create a slice of the dataframe containing non-zero values for the `Impression` column.\n",
    "valid_impressions = new_df[(new_df[\"Impressions\"] != 0) & ~new_df[\"Impressions\"].isna()]\n",
    "\n",
    "# group by `Content Type` and calculate the mean `Impressions for each content type\n",
    "content_df = (\n",
    "    valid_impressions.groupby(\"Content Type\")[\"Impressions\"]\n",
    "    .mean()\n",
    "    .reset_index()\n",
    "    .sort_values(\"Impressions\", ascending=False)\n",
    ")\n",
    "\n",
    "content_df"
   ]
  },
  {
   "cell_type": "code",
   "execution_count": null,
   "id": "779bc295",
   "metadata": {},
   "outputs": [],
   "source": [
    "# import necessary plotting libraries\n",
    "from bokeh.io import output_notebook\n",
    "\n",
    "output_notebook()"
   ]
  },
  {
   "cell_type": "code",
   "execution_count": null,
   "id": "c281296a",
   "metadata": {},
   "outputs": [],
   "source": [
    "# create a bar chart showing the average impressions by content type\n",
    "from bokeh.plotting import figure, show\n",
    "\n",
    "x_range = content_df[\"Content Type\"]\n",
    "y_range = content_df[\"Impressions\"]\n",
    "\n",
    "p = figure(\n",
    "    title=\"Average Impressions by Content Type\",\n",
    "    x_range=x_range,\n",
    "    height=400,\n",
    "    width=600,\n",
    "    y_axis_label=\"Average Impression\",\n",
    ")\n",
    "\n",
    "p.vbar(x=x_range, top=y_range, width=0.8)\n",
    "\n",
    "p.yaxis.minor_tick_out = 0\n",
    "p.y_range.start = 1000\n",
    "\n",
    "show(p)"
   ]
  },
  {
   "cell_type": "markdown",
   "id": "9457934f",
   "metadata": {},
   "source": [
    "#### QUESTION: What is the trend of impressions over the years?"
   ]
  },
  {
   "cell_type": "code",
   "execution_count": null,
   "id": "6276f9a3",
   "metadata": {},
   "outputs": [],
   "source": [
    "# import relevant plotting libraries\n",
    "%matplotlib inline\n",
    "import matplotlib.pyplot as plt\n",
    "\n",
    "plt.style.use(\"seaborn-v0_8-whitegrid\")"
   ]
  },
  {
   "cell_type": "code",
   "execution_count": null,
   "id": "a1288add",
   "metadata": {},
   "outputs": [],
   "source": [
    "# calculate the mean impressions per month\n",
    "mmi = valid_impressions[\"Impressions\"].resample(\"M\").mean()\n",
    "\n",
    "# forward fill the data for months with empty values and generate a line plot\n",
    "ax = mmi.fillna(method=\"ffill\").plot(title=\"Average Impressions over time\")\n",
    "\n",
    "plt.savefig(\"docs/twitter_avg_impression_per_time.png\")\n",
    "plt.show();"
   ]
  },
  {
   "cell_type": "markdown",
   "id": "25e518ba",
   "metadata": {},
   "source": [
    "#### QUESTION: When is the best time to post on Twitter?"
   ]
  },
  {
   "cell_type": "code",
   "execution_count": null,
   "id": "42067597",
   "metadata": {},
   "outputs": [],
   "source": [
    "# group the dataframe by content type and time period the post was made\n",
    "cbt = (\n",
    "    valid_impressions.groupby([\"Content Type\", \"Time Period\"])[\"Potential Reach\"]\n",
    "    .mean()\n",
    "    .reset_index()\n",
    ")\n",
    "\n",
    "time_period_order = [\"morning\", \"afternoon\", \"evening\"]\n",
    "\n",
    "# arrange the time period in order of morning, afternoon, and evening.\n",
    "cbt[\"Time Period\"] = pd.Categorical(\n",
    "    cbt[\"Time Period\"], categories=time_period_order, ordered=True\n",
    ")\n",
    "\n",
    "# sort the grouped dataframe by time period order\n",
    "cbt = cbt.sort_values([\"Content Type\", \"Time Period\"])\n",
    "cbt.reset_index(drop=True, inplace=True)"
   ]
  },
  {
   "cell_type": "code",
   "execution_count": null,
   "id": "a451f261",
   "metadata": {},
   "outputs": [],
   "source": [
    "# slice the grouped dataframe into content types\n",
    "link = cbt.iloc[:3]\n",
    "link.name = \"Links\"\n",
    "\n",
    "photo = cbt.iloc[3:6]\n",
    "photo.name = \"Photos\"\n",
    "\n",
    "text = cbt.iloc[6:9]\n",
    "text.name = \"Texts\"\n",
    "\n",
    "video = cbt.iloc[9:]\n",
    "video.name = \"Videos\"\n",
    "\n",
    "content = (link, photo, text, video)"
   ]
  },
  {
   "cell_type": "code",
   "execution_count": null,
   "id": "3aec5978",
   "metadata": {},
   "outputs": [],
   "source": [
    "# create a function that plots a Bokeh bar chart for the time period data.\n",
    "\n",
    "from bokeh.models import NumeralTickFormatter as NTF\n",
    "\n",
    "\n",
    "def plot_bar(df):\n",
    "    p = figure(title=df.name, x_range=list(df[\"Time Period\"]), height=300, width=400)\n",
    "\n",
    "    p.vbar(x=\"Time Period\", top=\"Potential Reach\", source=df, width=0.8)\n",
    "\n",
    "    p.axis.major_tick_out = 0\n",
    "\n",
    "    p.xgrid.grid_line_color = None\n",
    "\n",
    "    p.yaxis.formatter = NTF(format=\"0,0\")\n",
    "    p.yaxis.axis_label = \"Average Potential Reach\"\n",
    "    p.yaxis.minor_tick_out = 0\n",
    "    p.y_range.start = 100000\n",
    "    p.y_range.end = 500000\n",
    "\n",
    "    return p"
   ]
  },
  {
   "cell_type": "code",
   "execution_count": null,
   "id": "3ecaf053",
   "metadata": {
    "scrolled": false
   },
   "outputs": [],
   "source": [
    "# import the gridplot function to display the plots in a gridplot\n",
    "from bokeh.layouts import gridplot\n",
    "\n",
    "# create an empty list and append the bar plots in list\n",
    "plots = []\n",
    "for c in content:\n",
    "    plot = plot_bar(c)\n",
    "    plots.append(plot)\n",
    "\n",
    "# create a 2x2 layout for the plots and display it\n",
    "layout = gridplot(plots, ncols=2, toolbar_location=None)\n",
    "show(layout)"
   ]
  },
  {
   "cell_type": "markdown",
   "id": "95b26e17",
   "metadata": {},
   "source": [
    "#### QUESTION: How often do users click on shared links?"
   ]
  },
  {
   "cell_type": "code",
   "execution_count": null,
   "id": "180af161",
   "metadata": {},
   "outputs": [],
   "source": [
    "# slice the `valid_impressions` dataframe to include only the rows with values for `Linked Content` and `Click-Through Rate`\n",
    "linked = valid_impressions[\n",
    "    (~valid_impressions[\"Linked Content\"].isna())\n",
    "    & (~valid_impressions[\"Click-Through Rate\"].isna())\n",
    "]\n",
    "\n",
    "# convert the `Click-Through Rate` column to float values (decimal numbers)\n",
    "linked.loc[:, \"Click-Through Rate\"] = linked[\"Click-Through Rate\"].apply(\n",
    "    lambda x: float(x.replace(\",\", \"\").replace(\"%\", \"\"))\n",
    ")\n",
    "\n",
    "# group the `linked` dataframe by `Content Type` and calculate the mean `Click-Through Rate(ctr)`\n",
    "ctr = (\n",
    "    linked.groupby(\"Content Type\")[\"Click-Through Rate\"]\n",
    "    .mean()\n",
    "    .reset_index()\n",
    "    .sort_values(\"Click-Through Rate\", ascending=False)\n",
    ")"
   ]
  },
  {
   "cell_type": "code",
   "execution_count": null,
   "id": "70ac21f3",
   "metadata": {},
   "outputs": [],
   "source": [
    "# plot a bar chart to show the ctr for each content type\n",
    "from bokeh.plotting import figure, show\n",
    "from bokeh.models import ColumnDataSource\n",
    "\n",
    "# Convert the DataFrame to a ColumnDataSource\n",
    "source = ColumnDataSource(ctr)\n",
    "\n",
    "# Create a Bokeh figure\n",
    "p = figure(\n",
    "    title=\"Click-through rate for each content type\",\n",
    "    x_range=ctr[\"Content Type\"],\n",
    "    y_axis_label=\"Click through rate\",\n",
    ")\n",
    "\n",
    "p.vbar(x=\"Content Type\", top=\"Click-Through Rate\", source=source, width=0.8)\n",
    "\n",
    "p.y_range.start = 0\n",
    "\n",
    "show(p)"
   ]
  },
  {
   "cell_type": "code",
   "execution_count": null,
   "id": "ca0177e1",
   "metadata": {},
   "outputs": [],
   "source": []
  }
 ],
 "metadata": {
  "kernelspec": {
   "display_name": "Python 3 (ipykernel)",
   "language": "python",
   "name": "python3"
  },
  "language_info": {
   "codemirror_mode": {
    "name": "ipython",
    "version": 3
   },
   "file_extension": ".py",
   "mimetype": "text/x-python",
   "name": "python",
   "nbconvert_exporter": "python",
   "pygments_lexer": "ipython3",
   "version": "3.11.5"
  }
 },
 "nbformat": 4,
 "nbformat_minor": 5
}
