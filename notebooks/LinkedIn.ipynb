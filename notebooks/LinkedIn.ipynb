{
 "cells": [
  {
   "cell_type": "code",
   "execution_count": 1,
   "id": "1a24e1a0",
   "metadata": {
    "ExecuteTime": {
     "end_time": "2023-10-08T19:47:27.569884Z",
     "start_time": "2023-10-08T19:47:26.211803Z"
    }
   },
   "outputs": [
    {
     "data": {
      "text/html": [
       "<div>\n",
       "<style scoped>\n",
       "    .dataframe tbody tr th:only-of-type {\n",
       "        vertical-align: middle;\n",
       "    }\n",
       "\n",
       "    .dataframe tbody tr th {\n",
       "        vertical-align: top;\n",
       "    }\n",
       "\n",
       "    .dataframe thead th {\n",
       "        text-align: right;\n",
       "    }\n",
       "</style>\n",
       "<table border=\"1\" class=\"dataframe\">\n",
       "  <thead>\n",
       "    <tr style=\"text-align: right;\">\n",
       "      <th></th>\n",
       "      <th>Date</th>\n",
       "      <th>Post ID</th>\n",
       "      <th>Network</th>\n",
       "      <th>Post Type</th>\n",
       "      <th>Content Type</th>\n",
       "      <th>Profile</th>\n",
       "      <th>Sent by</th>\n",
       "      <th>Link</th>\n",
       "      <th>Post</th>\n",
       "      <th>Linked Content</th>\n",
       "      <th>...</th>\n",
       "      <th>Video Removed from Playlists</th>\n",
       "      <th>Annotation Impressions</th>\n",
       "      <th>Annotation Clickable Impressions</th>\n",
       "      <th>Annotation Closable Impressions</th>\n",
       "      <th>Annotation Closes</th>\n",
       "      <th>Card Impressions</th>\n",
       "      <th>Card Teaser Impressions</th>\n",
       "      <th>Card Teaser Clicks</th>\n",
       "      <th>Poll Votes</th>\n",
       "      <th>Tags</th>\n",
       "    </tr>\n",
       "  </thead>\n",
       "  <tbody>\n",
       "    <tr>\n",
       "      <th>0</th>\n",
       "      <td>7/13/2023 12:03 pm</td>\n",
       "      <td>7085212016608456704</td>\n",
       "      <td>LinkedIn</td>\n",
       "      <td>Post</td>\n",
       "      <td>Photo</td>\n",
       "      <td>Stanbic IBTC</td>\n",
       "      <td>Blessing Ubah</td>\n",
       "      <td>https://linkedin.com/feed/update/urn:li:share:...</td>\n",
       "      <td>Your money should not be a gamble. Before you ...</td>\n",
       "      <td>NaN</td>\n",
       "      <td>...</td>\n",
       "      <td>NaN</td>\n",
       "      <td>NaN</td>\n",
       "      <td>NaN</td>\n",
       "      <td>NaN</td>\n",
       "      <td>NaN</td>\n",
       "      <td>NaN</td>\n",
       "      <td>NaN</td>\n",
       "      <td>NaN</td>\n",
       "      <td>NaN</td>\n",
       "      <td>CIB Posts</td>\n",
       "    </tr>\n",
       "    <tr>\n",
       "      <th>1</th>\n",
       "      <td>7/12/2023 8:00 pm</td>\n",
       "      <td>7084969706025009152</td>\n",
       "      <td>LinkedIn</td>\n",
       "      <td>Post</td>\n",
       "      <td>Text</td>\n",
       "      <td>Stanbic IBTC</td>\n",
       "      <td>Blessing Ubah</td>\n",
       "      <td>https://linkedin.com/feed/update/urn:li:share:...</td>\n",
       "      <td>What skill (s) do you have, that no one ever t...</td>\n",
       "      <td>NaN</td>\n",
       "      <td>...</td>\n",
       "      <td>NaN</td>\n",
       "      <td>NaN</td>\n",
       "      <td>NaN</td>\n",
       "      <td>NaN</td>\n",
       "      <td>NaN</td>\n",
       "      <td>NaN</td>\n",
       "      <td>NaN</td>\n",
       "      <td>NaN</td>\n",
       "      <td>NaN</td>\n",
       "      <td>NaN</td>\n",
       "    </tr>\n",
       "  </tbody>\n",
       "</table>\n",
       "<p>2 rows × 147 columns</p>\n",
       "</div>"
      ],
      "text/plain": [
       "                 Date              Post ID   Network Post Type Content Type  \\\n",
       "0  7/13/2023 12:03 pm  7085212016608456704  LinkedIn      Post        Photo   \n",
       "1   7/12/2023 8:00 pm  7084969706025009152  LinkedIn      Post         Text   \n",
       "\n",
       "        Profile        Sent by  \\\n",
       "0  Stanbic IBTC  Blessing Ubah   \n",
       "1  Stanbic IBTC  Blessing Ubah   \n",
       "\n",
       "                                                Link  \\\n",
       "0  https://linkedin.com/feed/update/urn:li:share:...   \n",
       "1  https://linkedin.com/feed/update/urn:li:share:...   \n",
       "\n",
       "                                                Post Linked Content  ...  \\\n",
       "0  Your money should not be a gamble. Before you ...            NaN  ...   \n",
       "1  What skill (s) do you have, that no one ever t...            NaN  ...   \n",
       "\n",
       "  Video Removed from Playlists Annotation Impressions  \\\n",
       "0                          NaN                    NaN   \n",
       "1                          NaN                    NaN   \n",
       "\n",
       "   Annotation Clickable Impressions  Annotation Closable Impressions  \\\n",
       "0                               NaN                              NaN   \n",
       "1                               NaN                              NaN   \n",
       "\n",
       "   Annotation Closes  Card Impressions  Card Teaser Impressions  \\\n",
       "0                NaN               NaN                      NaN   \n",
       "1                NaN               NaN                      NaN   \n",
       "\n",
       "   Card Teaser Clicks  Poll Votes       Tags  \n",
       "0                 NaN         NaN  CIB Posts  \n",
       "1                 NaN         NaN        NaN  \n",
       "\n",
       "[2 rows x 147 columns]"
      ]
     },
     "execution_count": 1,
     "metadata": {},
     "output_type": "execute_result"
    }
   ],
   "source": [
    "import pandas as pd\n",
    "import numpy as np\n",
    "\n",
    "file = \"../data/linkedin.csv\"\n",
    "\n",
    "df = pd.read_csv(file, low_memory=False, parse_dates=[0])\n",
    "\n",
    "df.head(2)"
   ]
  },
  {
   "cell_type": "code",
   "execution_count": 2,
   "id": "77b5e8dc",
   "metadata": {
    "ExecuteTime": {
     "end_time": "2023-10-08T19:47:27.626087Z",
     "start_time": "2023-10-08T19:47:27.574791Z"
    }
   },
   "outputs": [],
   "source": [
    "# Optimized the date column for data cleaning\n",
    "df[\"Date\"] = pd.to_datetime(df[\"Date\"], format=\"%m/%d/%Y %I:%M %p\")"
   ]
  },
  {
   "cell_type": "code",
   "execution_count": 3,
   "id": "524757be",
   "metadata": {
    "ExecuteTime": {
     "end_time": "2023-10-08T19:47:27.639646Z",
     "start_time": "2023-10-08T19:47:27.631362Z"
    }
   },
   "outputs": [],
   "source": [
    "# increase pandas default max_rows so I can view all columns at once\n",
    "pd.options.display.max_rows = 200\n",
    "pd.options.display.max_columns = 200"
   ]
  },
  {
   "cell_type": "code",
   "execution_count": 4,
   "id": "5e1a22d4",
   "metadata": {
    "ExecuteTime": {
     "end_time": "2023-10-08T19:47:27.661186Z",
     "start_time": "2023-10-08T19:47:27.647100Z"
    }
   },
   "outputs": [
    {
     "data": {
      "text/plain": [
       "(7760, 147)"
      ]
     },
     "execution_count": 4,
     "metadata": {},
     "output_type": "execute_result"
    }
   ],
   "source": [
    "df.shape  # Number of rows and columns befor data cleaning"
   ]
  },
  {
   "cell_type": "code",
   "execution_count": 5,
   "id": "dc939d4d",
   "metadata": {
    "ExecuteTime": {
     "end_time": "2023-10-08T19:47:27.703437Z",
     "start_time": "2023-10-08T19:47:27.687195Z"
    }
   },
   "outputs": [
    {
     "name": "stdout",
     "output_type": "stream",
     "text": [
      "/Users/pablo/Documents/Documents - Peter’s MacBook Pro/GitHub/Hack the Feed/hack-the-feed/hack-the-feed\n"
     ]
    }
   ],
   "source": [
    "%cd .."
   ]
  },
  {
   "cell_type": "code",
   "execution_count": 6,
   "id": "aebd3538",
   "metadata": {
    "ExecuteTime": {
     "end_time": "2023-10-08T19:47:27.735750Z",
     "start_time": "2023-10-08T19:47:27.714563Z"
    }
   },
   "outputs": [],
   "source": [
    "# Data Cleaning\n",
    "from src.clean_data import clean_df"
   ]
  },
  {
   "cell_type": "code",
   "execution_count": 7,
   "id": "7c84de7c",
   "metadata": {
    "ExecuteTime": {
     "end_time": "2023-10-08T19:47:28.343705Z",
     "start_time": "2023-10-08T19:47:27.739881Z"
    }
   },
   "outputs": [],
   "source": [
    "linkedin_df = clean_df(df)"
   ]
  },
  {
   "cell_type": "code",
   "execution_count": 8,
   "id": "cabaad56",
   "metadata": {
    "ExecuteTime": {
     "end_time": "2023-10-08T19:47:28.374370Z",
     "start_time": "2023-10-08T19:47:28.346574Z"
    }
   },
   "outputs": [
    {
     "data": {
      "text/html": [
       "<div>\n",
       "<style scoped>\n",
       "    .dataframe tbody tr th:only-of-type {\n",
       "        vertical-align: middle;\n",
       "    }\n",
       "\n",
       "    .dataframe tbody tr th {\n",
       "        vertical-align: top;\n",
       "    }\n",
       "\n",
       "    .dataframe thead th {\n",
       "        text-align: right;\n",
       "    }\n",
       "</style>\n",
       "<table border=\"1\" class=\"dataframe\">\n",
       "  <thead>\n",
       "    <tr style=\"text-align: right;\">\n",
       "      <th></th>\n",
       "      <th>Content Type</th>\n",
       "      <th>Sent by</th>\n",
       "      <th>Link</th>\n",
       "      <th>Post</th>\n",
       "      <th>Linked Content</th>\n",
       "      <th>Impressions</th>\n",
       "      <th>Organic Impressions</th>\n",
       "      <th>Engagement Rate (per Impression)</th>\n",
       "      <th>Engagements</th>\n",
       "      <th>Reactions</th>\n",
       "      <th>Likes</th>\n",
       "      <th>Comments</th>\n",
       "      <th>Shares</th>\n",
       "      <th>Click-Through Rate</th>\n",
       "      <th>Post Link Clicks</th>\n",
       "      <th>Post Clicks (All)</th>\n",
       "      <th>Video Views</th>\n",
       "      <th>Organic Video Views</th>\n",
       "      <th>Poll Votes</th>\n",
       "      <th>Tags</th>\n",
       "      <th>Time</th>\n",
       "      <th>Time Period</th>\n",
       "    </tr>\n",
       "    <tr>\n",
       "      <th>Date</th>\n",
       "      <th></th>\n",
       "      <th></th>\n",
       "      <th></th>\n",
       "      <th></th>\n",
       "      <th></th>\n",
       "      <th></th>\n",
       "      <th></th>\n",
       "      <th></th>\n",
       "      <th></th>\n",
       "      <th></th>\n",
       "      <th></th>\n",
       "      <th></th>\n",
       "      <th></th>\n",
       "      <th></th>\n",
       "      <th></th>\n",
       "      <th></th>\n",
       "      <th></th>\n",
       "      <th></th>\n",
       "      <th></th>\n",
       "      <th></th>\n",
       "      <th></th>\n",
       "      <th></th>\n",
       "    </tr>\n",
       "  </thead>\n",
       "  <tbody>\n",
       "    <tr>\n",
       "      <th>2014-05-05</th>\n",
       "      <td>Link</td>\n",
       "      <td></td>\n",
       "      <td>https://linkedin.com/feed/update/urn:li:activi...</td>\n",
       "      <td>\"How small businesses can leverage the supply ...</td>\n",
       "      <td>http://www.thisdaylive.com/articles/stanbic-ib...</td>\n",
       "      <td>NaN</td>\n",
       "      <td>NaN</td>\n",
       "      <td>NaN</td>\n",
       "      <td>NaN</td>\n",
       "      <td>NaN</td>\n",
       "      <td>NaN</td>\n",
       "      <td>NaN</td>\n",
       "      <td>NaN</td>\n",
       "      <td>NaN</td>\n",
       "      <td>NaN</td>\n",
       "      <td>NaN</td>\n",
       "      <td>NaN</td>\n",
       "      <td>NaN</td>\n",
       "      <td>NaN</td>\n",
       "      <td>NaN</td>\n",
       "      <td>10:57:00</td>\n",
       "      <td>morning</td>\n",
       "    </tr>\n",
       "    <tr>\n",
       "      <th>2014-05-06</th>\n",
       "      <td>Link</td>\n",
       "      <td></td>\n",
       "      <td>https://linkedin.com/feed/update/urn:li:activi...</td>\n",
       "      <td>Do you own a business? Here's something on how...</td>\n",
       "      <td>http://socialmediatoday.com/1876456/why-your-b...</td>\n",
       "      <td>NaN</td>\n",
       "      <td>NaN</td>\n",
       "      <td>NaN</td>\n",
       "      <td>NaN</td>\n",
       "      <td>NaN</td>\n",
       "      <td>NaN</td>\n",
       "      <td>NaN</td>\n",
       "      <td>NaN</td>\n",
       "      <td>NaN</td>\n",
       "      <td>NaN</td>\n",
       "      <td>NaN</td>\n",
       "      <td>NaN</td>\n",
       "      <td>NaN</td>\n",
       "      <td>NaN</td>\n",
       "      <td>NaN</td>\n",
       "      <td>13:40:00</td>\n",
       "      <td>afternoon</td>\n",
       "    </tr>\n",
       "    <tr>\n",
       "      <th>2014-05-07</th>\n",
       "      <td>Link</td>\n",
       "      <td></td>\n",
       "      <td>https://linkedin.com/feed/update/urn:li:activi...</td>\n",
       "      <td>Are professional advisers important for small ...</td>\n",
       "      <td>http://www.forbes.com/sites/sage/2014/04/21/do...</td>\n",
       "      <td>NaN</td>\n",
       "      <td>NaN</td>\n",
       "      <td>NaN</td>\n",
       "      <td>NaN</td>\n",
       "      <td>NaN</td>\n",
       "      <td>NaN</td>\n",
       "      <td>NaN</td>\n",
       "      <td>NaN</td>\n",
       "      <td>NaN</td>\n",
       "      <td>NaN</td>\n",
       "      <td>NaN</td>\n",
       "      <td>NaN</td>\n",
       "      <td>NaN</td>\n",
       "      <td>NaN</td>\n",
       "      <td>NaN</td>\n",
       "      <td>13:28:00</td>\n",
       "      <td>afternoon</td>\n",
       "    </tr>\n",
       "    <tr>\n",
       "      <th>2014-05-08</th>\n",
       "      <td>Photo</td>\n",
       "      <td></td>\n",
       "      <td>https://linkedin.com/feed/update/urn:li:activi...</td>\n",
       "      <td>When going for an interview these tips might b...</td>\n",
       "      <td>NaN</td>\n",
       "      <td>NaN</td>\n",
       "      <td>NaN</td>\n",
       "      <td>NaN</td>\n",
       "      <td>NaN</td>\n",
       "      <td>NaN</td>\n",
       "      <td>NaN</td>\n",
       "      <td>NaN</td>\n",
       "      <td>NaN</td>\n",
       "      <td>NaN</td>\n",
       "      <td>NaN</td>\n",
       "      <td>NaN</td>\n",
       "      <td>NaN</td>\n",
       "      <td>NaN</td>\n",
       "      <td>NaN</td>\n",
       "      <td>NaN</td>\n",
       "      <td>14:15:00</td>\n",
       "      <td>afternoon</td>\n",
       "    </tr>\n",
       "    <tr>\n",
       "      <th>2014-05-09</th>\n",
       "      <td>Photo</td>\n",
       "      <td></td>\n",
       "      <td>https://linkedin.com/feed/update/urn:li:activi...</td>\n",
       "      <td>We understand that as a Nigerian living outsid...</td>\n",
       "      <td>NaN</td>\n",
       "      <td>NaN</td>\n",
       "      <td>NaN</td>\n",
       "      <td>NaN</td>\n",
       "      <td>NaN</td>\n",
       "      <td>NaN</td>\n",
       "      <td>NaN</td>\n",
       "      <td>NaN</td>\n",
       "      <td>NaN</td>\n",
       "      <td>NaN</td>\n",
       "      <td>NaN</td>\n",
       "      <td>NaN</td>\n",
       "      <td>NaN</td>\n",
       "      <td>NaN</td>\n",
       "      <td>NaN</td>\n",
       "      <td>NaN</td>\n",
       "      <td>11:24:00</td>\n",
       "      <td>morning</td>\n",
       "    </tr>\n",
       "  </tbody>\n",
       "</table>\n",
       "</div>"
      ],
      "text/plain": [
       "           Content Type Sent by  \\\n",
       "Date                              \n",
       "2014-05-05         Link           \n",
       "2014-05-06         Link           \n",
       "2014-05-07         Link           \n",
       "2014-05-08        Photo           \n",
       "2014-05-09        Photo           \n",
       "\n",
       "                                                         Link  \\\n",
       "Date                                                            \n",
       "2014-05-05  https://linkedin.com/feed/update/urn:li:activi...   \n",
       "2014-05-06  https://linkedin.com/feed/update/urn:li:activi...   \n",
       "2014-05-07  https://linkedin.com/feed/update/urn:li:activi...   \n",
       "2014-05-08  https://linkedin.com/feed/update/urn:li:activi...   \n",
       "2014-05-09  https://linkedin.com/feed/update/urn:li:activi...   \n",
       "\n",
       "                                                         Post  \\\n",
       "Date                                                            \n",
       "2014-05-05  \"How small businesses can leverage the supply ...   \n",
       "2014-05-06  Do you own a business? Here's something on how...   \n",
       "2014-05-07  Are professional advisers important for small ...   \n",
       "2014-05-08  When going for an interview these tips might b...   \n",
       "2014-05-09  We understand that as a Nigerian living outsid...   \n",
       "\n",
       "                                               Linked Content  Impressions  \\\n",
       "Date                                                                         \n",
       "2014-05-05  http://www.thisdaylive.com/articles/stanbic-ib...          NaN   \n",
       "2014-05-06  http://socialmediatoday.com/1876456/why-your-b...          NaN   \n",
       "2014-05-07  http://www.forbes.com/sites/sage/2014/04/21/do...          NaN   \n",
       "2014-05-08                                                NaN          NaN   \n",
       "2014-05-09                                                NaN          NaN   \n",
       "\n",
       "            Organic Impressions Engagement Rate (per Impression)  Engagements  \\\n",
       "Date                                                                            \n",
       "2014-05-05                  NaN                              NaN          NaN   \n",
       "2014-05-06                  NaN                              NaN          NaN   \n",
       "2014-05-07                  NaN                              NaN          NaN   \n",
       "2014-05-08                  NaN                              NaN          NaN   \n",
       "2014-05-09                  NaN                              NaN          NaN   \n",
       "\n",
       "            Reactions  Likes  Comments  Shares Click-Through Rate  \\\n",
       "Date                                                                \n",
       "2014-05-05        NaN    NaN       NaN     NaN                NaN   \n",
       "2014-05-06        NaN    NaN       NaN     NaN                NaN   \n",
       "2014-05-07        NaN    NaN       NaN     NaN                NaN   \n",
       "2014-05-08        NaN    NaN       NaN     NaN                NaN   \n",
       "2014-05-09        NaN    NaN       NaN     NaN                NaN   \n",
       "\n",
       "            Post Link Clicks  Post Clicks (All)  Video Views  \\\n",
       "Date                                                           \n",
       "2014-05-05               NaN                NaN          NaN   \n",
       "2014-05-06               NaN                NaN          NaN   \n",
       "2014-05-07               NaN                NaN          NaN   \n",
       "2014-05-08               NaN                NaN          NaN   \n",
       "2014-05-09               NaN                NaN          NaN   \n",
       "\n",
       "            Organic Video Views  Poll Votes Tags      Time Time Period  \n",
       "Date                                                                    \n",
       "2014-05-05                  NaN         NaN  NaN  10:57:00     morning  \n",
       "2014-05-06                  NaN         NaN  NaN  13:40:00   afternoon  \n",
       "2014-05-07                  NaN         NaN  NaN  13:28:00   afternoon  \n",
       "2014-05-08                  NaN         NaN  NaN  14:15:00   afternoon  \n",
       "2014-05-09                  NaN         NaN  NaN  11:24:00     morning  "
      ]
     },
     "execution_count": 8,
     "metadata": {},
     "output_type": "execute_result"
    }
   ],
   "source": [
    "linkedin_df.head()"
   ]
  },
  {
   "cell_type": "code",
   "execution_count": 9,
   "id": "bc72d327",
   "metadata": {
    "ExecuteTime": {
     "end_time": "2023-10-08T19:47:28.392670Z",
     "start_time": "2023-10-08T19:47:28.386096Z"
    }
   },
   "outputs": [
    {
     "data": {
      "text/plain": [
       "(7760, 22)"
      ]
     },
     "execution_count": 9,
     "metadata": {},
     "output_type": "execute_result"
    }
   ],
   "source": [
    "linkedin_df.shape  # Number of rows and columns after data cleaning"
   ]
  },
  {
   "cell_type": "code",
   "execution_count": 10,
   "id": "2d3c925b",
   "metadata": {
    "ExecuteTime": {
     "end_time": "2023-10-08T19:47:28.426151Z",
     "start_time": "2023-10-08T19:47:28.417370Z"
    }
   },
   "outputs": [
    {
     "data": {
      "text/plain": [
       "Index(['Content Type', 'Sent by', 'Link', 'Post', 'Linked Content',\n",
       "       'Impressions', 'Organic Impressions',\n",
       "       'Engagement Rate (per Impression)', 'Engagements', 'Reactions', 'Likes',\n",
       "       'Comments', 'Shares', 'Click-Through Rate', 'Post Link Clicks',\n",
       "       'Post Clicks (All)', 'Video Views', 'Organic Video Views', 'Poll Votes',\n",
       "       'Tags', 'Time', 'Time Period'],\n",
       "      dtype='object')"
      ]
     },
     "execution_count": 10,
     "metadata": {},
     "output_type": "execute_result"
    }
   ],
   "source": [
    "linkedin_df.columns"
   ]
  },
  {
   "cell_type": "code",
   "execution_count": 11,
   "id": "2f4f5c2a",
   "metadata": {
    "ExecuteTime": {
     "end_time": "2023-10-08T19:47:28.440096Z",
     "start_time": "2023-10-08T19:47:28.431358Z"
    }
   },
   "outputs": [],
   "source": [
    "features_after_cleaning = list(\n",
    "    linkedin_df.columns\n",
    ")  # list of features after data cleaning"
   ]
  },
  {
   "cell_type": "code",
   "execution_count": 12,
   "id": "60ea3521",
   "metadata": {
    "ExecuteTime": {
     "end_time": "2023-10-08T19:47:28.467992Z",
     "start_time": "2023-10-08T19:47:28.451434Z"
    }
   },
   "outputs": [
    {
     "data": {
      "text/plain": [
       "22"
      ]
     },
     "execution_count": 12,
     "metadata": {},
     "output_type": "execute_result"
    }
   ],
   "source": [
    "len(features_after_cleaning)  # Number of features after data cleaning"
   ]
  },
  {
   "cell_type": "code",
   "execution_count": 13,
   "id": "76dc4320",
   "metadata": {
    "ExecuteTime": {
     "end_time": "2023-10-08T19:47:28.493959Z",
     "start_time": "2023-10-08T19:47:28.488776Z"
    }
   },
   "outputs": [],
   "source": [
    "list_features = list(df.columns)  # list of features before data cleaning"
   ]
  },
  {
   "cell_type": "code",
   "execution_count": 14,
   "id": "3082325f",
   "metadata": {
    "ExecuteTime": {
     "end_time": "2023-10-08T19:47:28.506076Z",
     "start_time": "2023-10-08T19:47:28.499268Z"
    }
   },
   "outputs": [
    {
     "data": {
      "text/plain": [
       "126"
      ]
     },
     "execution_count": 14,
     "metadata": {},
     "output_type": "execute_result"
    }
   ],
   "source": [
    "len(list_features) - len(\n",
    "    features_after_cleaning\n",
    ")  # 126 features did not have values in them"
   ]
  },
  {
   "cell_type": "code",
   "execution_count": 15,
   "id": "cd40a195",
   "metadata": {
    "ExecuteTime": {
     "end_time": "2023-10-08T19:47:28.561331Z",
     "start_time": "2023-10-08T19:47:28.510452Z"
    }
   },
   "outputs": [
    {
     "name": "stdout",
     "output_type": "stream",
     "text": [
      "<class 'pandas.core.frame.DataFrame'>\n",
      "Index: 7760 entries, 2014-05-05 to 2023-07-13\n",
      "Data columns (total 22 columns):\n",
      " #   Column                            Non-Null Count  Dtype  \n",
      "---  ------                            --------------  -----  \n",
      " 0   Content Type                      7760 non-null   object \n",
      " 1   Sent by                           7760 non-null   object \n",
      " 2   Link                              7756 non-null   object \n",
      " 3   Post                              7729 non-null   object \n",
      " 4   Linked Content                    107 non-null    object \n",
      " 5   Impressions                       6332 non-null   float64\n",
      " 6   Organic Impressions               6332 non-null   float64\n",
      " 7   Engagement Rate (per Impression)  6332 non-null   object \n",
      " 8   Engagements                       6332 non-null   float64\n",
      " 9   Reactions                         6332 non-null   float64\n",
      " 10  Likes                             6332 non-null   float64\n",
      " 11  Comments                          6332 non-null   float64\n",
      " 12  Shares                            6332 non-null   float64\n",
      " 13  Click-Through Rate                6332 non-null   object \n",
      " 14  Post Link Clicks                  6332 non-null   float64\n",
      " 15  Post Clicks (All)                 6332 non-null   float64\n",
      " 16  Video Views                       888 non-null    float64\n",
      " 17  Organic Video Views               841 non-null    float64\n",
      " 18  Poll Votes                        2 non-null      float64\n",
      " 19  Tags                              1640 non-null   object \n",
      " 20  Time                              7760 non-null   object \n",
      " 21  Time Period                       7760 non-null   object \n",
      "dtypes: float64(12), object(10)\n",
      "memory usage: 1.4+ MB\n"
     ]
    }
   ],
   "source": [
    "linkedin_df.info()  # A conscise summary of the cleaned dataframe"
   ]
  },
  {
   "cell_type": "code",
   "execution_count": 16,
   "id": "561c6baa",
   "metadata": {
    "ExecuteTime": {
     "end_time": "2023-10-08T19:47:28.596628Z",
     "start_time": "2023-10-08T19:47:28.570280Z"
    }
   },
   "outputs": [
    {
     "data": {
      "text/plain": [
       "Date\n",
       "2023-07-11    5.05%\n",
       "2023-07-11    1.83%\n",
       "2023-07-12    9.52%\n",
       "2023-07-12      NaN\n",
       "2023-07-13      NaN\n",
       "Name: Engagement Rate (per Impression), dtype: object"
      ]
     },
     "execution_count": 16,
     "metadata": {},
     "output_type": "execute_result"
    }
   ],
   "source": [
    "# I need to convert the Engagement Rate (per Impression) data type to floats\n",
    "linkedin_df[\"Engagement Rate (per Impression)\"].tail()"
   ]
  },
  {
   "cell_type": "code",
   "execution_count": 17,
   "id": "1055636f",
   "metadata": {
    "ExecuteTime": {
     "end_time": "2023-10-08T19:47:28.670686Z",
     "start_time": "2023-10-08T19:47:28.630080Z"
    }
   },
   "outputs": [],
   "source": [
    "# Remove the '%' sign\n",
    "linkedin_df[\"Engagement Rate (per Impression)\"] = linkedin_df[\n",
    "    \"Engagement Rate (per Impression)\"\n",
    "].str.replace(\"%\", \"\")\n",
    "\n",
    "# Remove the comma ','\n",
    "# insta_df['Engagement Rate (per Impression)'] = insta_df['Engagement Rate (per Impression)'].str.replace(',', '')\n",
    "\n",
    "\n",
    "# Convert to float\n",
    "linkedin_df[\"Engagement Rate (per Impression)\"] = linkedin_df[\n",
    "    \"Engagement Rate (per Impression)\"\n",
    "].astype(float)"
   ]
  },
  {
   "cell_type": "code",
   "execution_count": 18,
   "id": "5ee9dd11",
   "metadata": {
    "ExecuteTime": {
     "end_time": "2023-10-08T19:47:28.721290Z",
     "start_time": "2023-10-08T19:47:28.691801Z"
    }
   },
   "outputs": [
    {
     "name": "stdout",
     "output_type": "stream",
     "text": [
      "<class 'pandas.core.frame.DataFrame'>\n",
      "Index: 7760 entries, 2014-05-05 to 2023-07-13\n",
      "Data columns (total 22 columns):\n",
      " #   Column                            Non-Null Count  Dtype  \n",
      "---  ------                            --------------  -----  \n",
      " 0   Content Type                      7760 non-null   object \n",
      " 1   Sent by                           7760 non-null   object \n",
      " 2   Link                              7756 non-null   object \n",
      " 3   Post                              7729 non-null   object \n",
      " 4   Linked Content                    107 non-null    object \n",
      " 5   Impressions                       6332 non-null   float64\n",
      " 6   Organic Impressions               6332 non-null   float64\n",
      " 7   Engagement Rate (per Impression)  6332 non-null   float64\n",
      " 8   Engagements                       6332 non-null   float64\n",
      " 9   Reactions                         6332 non-null   float64\n",
      " 10  Likes                             6332 non-null   float64\n",
      " 11  Comments                          6332 non-null   float64\n",
      " 12  Shares                            6332 non-null   float64\n",
      " 13  Click-Through Rate                6332 non-null   object \n",
      " 14  Post Link Clicks                  6332 non-null   float64\n",
      " 15  Post Clicks (All)                 6332 non-null   float64\n",
      " 16  Video Views                       888 non-null    float64\n",
      " 17  Organic Video Views               841 non-null    float64\n",
      " 18  Poll Votes                        2 non-null      float64\n",
      " 19  Tags                              1640 non-null   object \n",
      " 20  Time                              7760 non-null   object \n",
      " 21  Time Period                       7760 non-null   object \n",
      "dtypes: float64(13), object(9)\n",
      "memory usage: 1.4+ MB\n"
     ]
    }
   ],
   "source": [
    "linkedin_df.info()  # Confirm the data type change"
   ]
  },
  {
   "cell_type": "markdown",
   "id": "e07fa180",
   "metadata": {},
   "source": [
    "## Analysis and Visualization\n",
    "\n",
    "### Impressions and Reach\n",
    "\n",
    "The following sub-sections provide insights on the Impressions, Reach, and Engagements of the LinkedIn posts.\n",
    "\n",
    "QUESTION: What type of content generates the most impressions?"
   ]
  },
  {
   "cell_type": "code",
   "execution_count": 19,
   "id": "c04d8fd3",
   "metadata": {
    "ExecuteTime": {
     "end_time": "2023-10-08T19:47:28.763895Z",
     "start_time": "2023-10-08T19:47:28.726053Z"
    }
   },
   "outputs": [],
   "source": [
    "# create a slice of the dataframe containing non-zero values for the `Impression` column.\n",
    "valid_impressions = linkedin_df[\n",
    "    (linkedin_df[\"Impressions\"] != 0) & ~linkedin_df[\"Impressions\"].isna()\n",
    "]\n",
    "\n",
    "# group by `Content Type` and calculate the mean `Impressions for each content type\n",
    "content_df = (\n",
    "    valid_impressions.groupby(\"Content Type\")[\"Impressions\"]\n",
    "    .mean()\n",
    "    .reset_index()\n",
    "    .sort_values(\"Impressions\", ascending=False)\n",
    ")"
   ]
  },
  {
   "cell_type": "code",
   "execution_count": 20,
   "id": "f558bf2c",
   "metadata": {
    "ExecuteTime": {
     "end_time": "2023-10-08T19:47:29.700140Z",
     "start_time": "2023-10-08T19:47:28.767151Z"
    }
   },
   "outputs": [
    {
     "data": {
      "text/html": [
       "<style>\n",
       "        .bk-notebook-logo {\n",
       "            display: block;\n",
       "            width: 20px;\n",
       "            height: 20px;\n",
       "            background-image: url(data:image/png;base64,iVBORw0KGgoAAAANSUhEUgAAABQAAAAUCAYAAACNiR0NAAAABHNCSVQICAgIfAhkiAAAAAlwSFlzAAALEgAACxIB0t1+/AAAABx0RVh0U29mdHdhcmUAQWRvYmUgRmlyZXdvcmtzIENTNui8sowAAAOkSURBVDiNjZRtaJVlGMd/1/08zzln5zjP1LWcU9N0NkN8m2CYjpgQYQXqSs0I84OLIC0hkEKoPtiH3gmKoiJDU7QpLgoLjLIQCpEsNJ1vqUOdO7ppbuec5+V+rj4ctwzd8IIbbi6u+8f1539dt3A78eXC7QizUF7gyV1fD1Yqg4JWz84yffhm0qkFqBogB9rM8tZdtwVsPUhWhGcFJngGeWrPzHm5oaMmkfEg1usvLFyc8jLRqDOMru7AyC8saQr7GG7f5fvDeH7Ej8CM66nIF+8yngt6HWaKh7k49Soy9nXurCi1o3qUbS3zWfrYeQDTB/Qj6kX6Ybhw4B+bOYoLKCC9H3Nu/leUTZ1JdRWkkn2ldcCamzrcf47KKXdAJllSlxAOkRgyHsGC/zRday5Qld9DyoM4/q/rUoy/CXh3jzOu3bHUVZeU+DEn8FInkPBFlu3+nW3Nw0mk6vCDiWg8CeJaxEwuHS3+z5RgY+YBR6V1Z1nxSOfoaPa4LASWxxdNp+VWTk7+4vzaou8v8PN+xo+KY2xsw6une2frhw05CTYOmQvsEhjhWjn0bmXPjpE1+kplmmkP3suftwTubK9Vq22qKmrBhpY4jvd5afdRA3wGjFAgcnTK2s4hY0/GPNIb0nErGMCRxWOOX64Z8RAC4oCXdklmEvcL8o0BfkNK4lUg9HTl+oPlQxdNo3Mg4Nv175e/1LDGzZen30MEjRUtmXSfiTVu1kK8W4txyV6BMKlbgk3lMwYCiusNy9fVfvvwMxv8Ynl6vxoByANLTWplvuj/nF9m2+PDtt1eiHPBr1oIfhCChQMBw6Aw0UulqTKZdfVvfG7VcfIqLG9bcldL/+pdWTLxLUy8Qq38heUIjh4XlzZxzQm19lLFlr8vdQ97rjZVOLf8nclzckbcD4wxXMidpX30sFd37Fv/GtwwhzhxGVAprjbg0gCAEeIgwCZyTV2Z1REEW8O4py0wsjeloKoMr6iCY6dP92H6Vw/oTyICIthibxjm/DfN9lVz8IqtqKYLUXfoKVMVQVVJOElGjrnnUt9T9wbgp8AyYKaGlqingHZU/uG2NTZSVqwHQTWkx9hxjkpWDaCg6Ckj5qebgBVbT3V3NNXMSiWSDdGV3hrtzla7J+duwPOToIg42ChPQOQjspnSlp1V+Gjdged7+8UN5CRAV7a5EdFNwCjEaBR27b3W890TE7g24NAP/mMDXRWrGoFPQI9ls/MWO2dWFAar/xcOIImbbpA3zgAAAABJRU5ErkJggg==);\n",
       "        }\n",
       "    </style>\n",
       "    <div>\n",
       "        <a href=\"https://bokeh.org\" target=\"_blank\" class=\"bk-notebook-logo\"></a>\n",
       "        <span id=\"d56ce96a-85aa-4e45-a91a-b832c00d9fc5\">Loading BokehJS ...</span>\n",
       "    </div>\n"
      ]
     },
     "metadata": {},
     "output_type": "display_data"
    },
    {
     "data": {
      "application/javascript": [
       "(function(root) {\n",
       "  function now() {\n",
       "    return new Date();\n",
       "  }\n",
       "\n",
       "  const force = true;\n",
       "\n",
       "  if (typeof root._bokeh_onload_callbacks === \"undefined\" || force === true) {\n",
       "    root._bokeh_onload_callbacks = [];\n",
       "    root._bokeh_is_loading = undefined;\n",
       "  }\n",
       "\n",
       "const JS_MIME_TYPE = 'application/javascript';\n",
       "  const HTML_MIME_TYPE = 'text/html';\n",
       "  const EXEC_MIME_TYPE = 'application/vnd.bokehjs_exec.v0+json';\n",
       "  const CLASS_NAME = 'output_bokeh rendered_html';\n",
       "\n",
       "  /**\n",
       "   * Render data to the DOM node\n",
       "   */\n",
       "  function render(props, node) {\n",
       "    const script = document.createElement(\"script\");\n",
       "    node.appendChild(script);\n",
       "  }\n",
       "\n",
       "  /**\n",
       "   * Handle when an output is cleared or removed\n",
       "   */\n",
       "  function handleClearOutput(event, handle) {\n",
       "    const cell = handle.cell;\n",
       "\n",
       "    const id = cell.output_area._bokeh_element_id;\n",
       "    const server_id = cell.output_area._bokeh_server_id;\n",
       "    // Clean up Bokeh references\n",
       "    if (id != null && id in Bokeh.index) {\n",
       "      Bokeh.index[id].model.document.clear();\n",
       "      delete Bokeh.index[id];\n",
       "    }\n",
       "\n",
       "    if (server_id !== undefined) {\n",
       "      // Clean up Bokeh references\n",
       "      const cmd_clean = \"from bokeh.io.state import curstate; print(curstate().uuid_to_server['\" + server_id + \"'].get_sessions()[0].document.roots[0]._id)\";\n",
       "      cell.notebook.kernel.execute(cmd_clean, {\n",
       "        iopub: {\n",
       "          output: function(msg) {\n",
       "            const id = msg.content.text.trim();\n",
       "            if (id in Bokeh.index) {\n",
       "              Bokeh.index[id].model.document.clear();\n",
       "              delete Bokeh.index[id];\n",
       "            }\n",
       "          }\n",
       "        }\n",
       "      });\n",
       "      // Destroy server and session\n",
       "      const cmd_destroy = \"import bokeh.io.notebook as ion; ion.destroy_server('\" + server_id + \"')\";\n",
       "      cell.notebook.kernel.execute(cmd_destroy);\n",
       "    }\n",
       "  }\n",
       "\n",
       "  /**\n",
       "   * Handle when a new output is added\n",
       "   */\n",
       "  function handleAddOutput(event, handle) {\n",
       "    const output_area = handle.output_area;\n",
       "    const output = handle.output;\n",
       "\n",
       "    // limit handleAddOutput to display_data with EXEC_MIME_TYPE content only\n",
       "    if ((output.output_type != \"display_data\") || (!Object.prototype.hasOwnProperty.call(output.data, EXEC_MIME_TYPE))) {\n",
       "      return\n",
       "    }\n",
       "\n",
       "    const toinsert = output_area.element.find(\".\" + CLASS_NAME.split(' ')[0]);\n",
       "\n",
       "    if (output.metadata[EXEC_MIME_TYPE][\"id\"] !== undefined) {\n",
       "      toinsert[toinsert.length - 1].firstChild.textContent = output.data[JS_MIME_TYPE];\n",
       "      // store reference to embed id on output_area\n",
       "      output_area._bokeh_element_id = output.metadata[EXEC_MIME_TYPE][\"id\"];\n",
       "    }\n",
       "    if (output.metadata[EXEC_MIME_TYPE][\"server_id\"] !== undefined) {\n",
       "      const bk_div = document.createElement(\"div\");\n",
       "      bk_div.innerHTML = output.data[HTML_MIME_TYPE];\n",
       "      const script_attrs = bk_div.children[0].attributes;\n",
       "      for (let i = 0; i < script_attrs.length; i++) {\n",
       "        toinsert[toinsert.length - 1].firstChild.setAttribute(script_attrs[i].name, script_attrs[i].value);\n",
       "        toinsert[toinsert.length - 1].firstChild.textContent = bk_div.children[0].textContent\n",
       "      }\n",
       "      // store reference to server id on output_area\n",
       "      output_area._bokeh_server_id = output.metadata[EXEC_MIME_TYPE][\"server_id\"];\n",
       "    }\n",
       "  }\n",
       "\n",
       "  function register_renderer(events, OutputArea) {\n",
       "\n",
       "    function append_mime(data, metadata, element) {\n",
       "      // create a DOM node to render to\n",
       "      const toinsert = this.create_output_subarea(\n",
       "        metadata,\n",
       "        CLASS_NAME,\n",
       "        EXEC_MIME_TYPE\n",
       "      );\n",
       "      this.keyboard_manager.register_events(toinsert);\n",
       "      // Render to node\n",
       "      const props = {data: data, metadata: metadata[EXEC_MIME_TYPE]};\n",
       "      render(props, toinsert[toinsert.length - 1]);\n",
       "      element.append(toinsert);\n",
       "      return toinsert\n",
       "    }\n",
       "\n",
       "    /* Handle when an output is cleared or removed */\n",
       "    events.on('clear_output.CodeCell', handleClearOutput);\n",
       "    events.on('delete.Cell', handleClearOutput);\n",
       "\n",
       "    /* Handle when a new output is added */\n",
       "    events.on('output_added.OutputArea', handleAddOutput);\n",
       "\n",
       "    /**\n",
       "     * Register the mime type and append_mime function with output_area\n",
       "     */\n",
       "    OutputArea.prototype.register_mime_type(EXEC_MIME_TYPE, append_mime, {\n",
       "      /* Is output safe? */\n",
       "      safe: true,\n",
       "      /* Index of renderer in `output_area.display_order` */\n",
       "      index: 0\n",
       "    });\n",
       "  }\n",
       "\n",
       "  // register the mime type if in Jupyter Notebook environment and previously unregistered\n",
       "  if (root.Jupyter !== undefined) {\n",
       "    const events = require('base/js/events');\n",
       "    const OutputArea = require('notebook/js/outputarea').OutputArea;\n",
       "\n",
       "    if (OutputArea.prototype.mime_types().indexOf(EXEC_MIME_TYPE) == -1) {\n",
       "      register_renderer(events, OutputArea);\n",
       "    }\n",
       "  }\n",
       "  if (typeof (root._bokeh_timeout) === \"undefined\" || force === true) {\n",
       "    root._bokeh_timeout = Date.now() + 5000;\n",
       "    root._bokeh_failed_load = false;\n",
       "  }\n",
       "\n",
       "  const NB_LOAD_WARNING = {'data': {'text/html':\n",
       "     \"<div style='background-color: #fdd'>\\n\"+\n",
       "     \"<p>\\n\"+\n",
       "     \"BokehJS does not appear to have successfully loaded. If loading BokehJS from CDN, this \\n\"+\n",
       "     \"may be due to a slow or bad network connection. Possible fixes:\\n\"+\n",
       "     \"</p>\\n\"+\n",
       "     \"<ul>\\n\"+\n",
       "     \"<li>re-rerun `output_notebook()` to attempt to load from CDN again, or</li>\\n\"+\n",
       "     \"<li>use INLINE resources instead, as so:</li>\\n\"+\n",
       "     \"</ul>\\n\"+\n",
       "     \"<code>\\n\"+\n",
       "     \"from bokeh.resources import INLINE\\n\"+\n",
       "     \"output_notebook(resources=INLINE)\\n\"+\n",
       "     \"</code>\\n\"+\n",
       "     \"</div>\"}};\n",
       "\n",
       "  function display_loaded() {\n",
       "    const el = document.getElementById(\"d56ce96a-85aa-4e45-a91a-b832c00d9fc5\");\n",
       "    if (el != null) {\n",
       "      el.textContent = \"BokehJS is loading...\";\n",
       "    }\n",
       "    if (root.Bokeh !== undefined) {\n",
       "      if (el != null) {\n",
       "        el.textContent = \"BokehJS \" + root.Bokeh.version + \" successfully loaded.\";\n",
       "      }\n",
       "    } else if (Date.now() < root._bokeh_timeout) {\n",
       "      setTimeout(display_loaded, 100)\n",
       "    }\n",
       "  }\n",
       "\n",
       "  function run_callbacks() {\n",
       "    try {\n",
       "      root._bokeh_onload_callbacks.forEach(function(callback) {\n",
       "        if (callback != null)\n",
       "          callback();\n",
       "      });\n",
       "    } finally {\n",
       "      delete root._bokeh_onload_callbacks\n",
       "    }\n",
       "    console.debug(\"Bokeh: all callbacks have finished\");\n",
       "  }\n",
       "\n",
       "  function load_libs(css_urls, js_urls, callback) {\n",
       "    if (css_urls == null) css_urls = [];\n",
       "    if (js_urls == null) js_urls = [];\n",
       "\n",
       "    root._bokeh_onload_callbacks.push(callback);\n",
       "    if (root._bokeh_is_loading > 0) {\n",
       "      console.debug(\"Bokeh: BokehJS is being loaded, scheduling callback at\", now());\n",
       "      return null;\n",
       "    }\n",
       "    if (js_urls == null || js_urls.length === 0) {\n",
       "      run_callbacks();\n",
       "      return null;\n",
       "    }\n",
       "    console.debug(\"Bokeh: BokehJS not loaded, scheduling load and callback at\", now());\n",
       "    root._bokeh_is_loading = css_urls.length + js_urls.length;\n",
       "\n",
       "    function on_load() {\n",
       "      root._bokeh_is_loading--;\n",
       "      if (root._bokeh_is_loading === 0) {\n",
       "        console.debug(\"Bokeh: all BokehJS libraries/stylesheets loaded\");\n",
       "        run_callbacks()\n",
       "      }\n",
       "    }\n",
       "\n",
       "    function on_error(url) {\n",
       "      console.error(\"failed to load \" + url);\n",
       "    }\n",
       "\n",
       "    for (let i = 0; i < css_urls.length; i++) {\n",
       "      const url = css_urls[i];\n",
       "      const element = document.createElement(\"link\");\n",
       "      element.onload = on_load;\n",
       "      element.onerror = on_error.bind(null, url);\n",
       "      element.rel = \"stylesheet\";\n",
       "      element.type = \"text/css\";\n",
       "      element.href = url;\n",
       "      console.debug(\"Bokeh: injecting link tag for BokehJS stylesheet: \", url);\n",
       "      document.body.appendChild(element);\n",
       "    }\n",
       "\n",
       "    for (let i = 0; i < js_urls.length; i++) {\n",
       "      const url = js_urls[i];\n",
       "      const element = document.createElement('script');\n",
       "      element.onload = on_load;\n",
       "      element.onerror = on_error.bind(null, url);\n",
       "      element.async = false;\n",
       "      element.src = url;\n",
       "      console.debug(\"Bokeh: injecting script tag for BokehJS library: \", url);\n",
       "      document.head.appendChild(element);\n",
       "    }\n",
       "  };\n",
       "\n",
       "  function inject_raw_css(css) {\n",
       "    const element = document.createElement(\"style\");\n",
       "    element.appendChild(document.createTextNode(css));\n",
       "    document.body.appendChild(element);\n",
       "  }\n",
       "\n",
       "  const js_urls = [\"https://cdn.bokeh.org/bokeh/release/bokeh-3.2.1.min.js\", \"https://cdn.bokeh.org/bokeh/release/bokeh-gl-3.2.1.min.js\", \"https://cdn.bokeh.org/bokeh/release/bokeh-widgets-3.2.1.min.js\", \"https://cdn.bokeh.org/bokeh/release/bokeh-tables-3.2.1.min.js\", \"https://cdn.bokeh.org/bokeh/release/bokeh-mathjax-3.2.1.min.js\"];\n",
       "  const css_urls = [];\n",
       "\n",
       "  const inline_js = [    function(Bokeh) {\n",
       "      Bokeh.set_log_level(\"info\");\n",
       "    },\n",
       "function(Bokeh) {\n",
       "    }\n",
       "  ];\n",
       "\n",
       "  function run_inline_js() {\n",
       "    if (root.Bokeh !== undefined || force === true) {\n",
       "          for (let i = 0; i < inline_js.length; i++) {\n",
       "      inline_js[i].call(root, root.Bokeh);\n",
       "    }\n",
       "if (force === true) {\n",
       "        display_loaded();\n",
       "      }} else if (Date.now() < root._bokeh_timeout) {\n",
       "      setTimeout(run_inline_js, 100);\n",
       "    } else if (!root._bokeh_failed_load) {\n",
       "      console.log(\"Bokeh: BokehJS failed to load within specified timeout.\");\n",
       "      root._bokeh_failed_load = true;\n",
       "    } else if (force !== true) {\n",
       "      const cell = $(document.getElementById(\"d56ce96a-85aa-4e45-a91a-b832c00d9fc5\")).parents('.cell').data().cell;\n",
       "      cell.output_area.append_execute_result(NB_LOAD_WARNING)\n",
       "    }\n",
       "  }\n",
       "\n",
       "  if (root._bokeh_is_loading === 0) {\n",
       "    console.debug(\"Bokeh: BokehJS loaded, going straight to plotting\");\n",
       "    run_inline_js();\n",
       "  } else {\n",
       "    load_libs(css_urls, js_urls, function() {\n",
       "      console.debug(\"Bokeh: BokehJS plotting callback run at\", now());\n",
       "      run_inline_js();\n",
       "    });\n",
       "  }\n",
       "}(window));"
      ],
      "application/vnd.bokehjs_load.v0+json": "(function(root) {\n  function now() {\n    return new Date();\n  }\n\n  const force = true;\n\n  if (typeof root._bokeh_onload_callbacks === \"undefined\" || force === true) {\n    root._bokeh_onload_callbacks = [];\n    root._bokeh_is_loading = undefined;\n  }\n\n\n  if (typeof (root._bokeh_timeout) === \"undefined\" || force === true) {\n    root._bokeh_timeout = Date.now() + 5000;\n    root._bokeh_failed_load = false;\n  }\n\n  const NB_LOAD_WARNING = {'data': {'text/html':\n     \"<div style='background-color: #fdd'>\\n\"+\n     \"<p>\\n\"+\n     \"BokehJS does not appear to have successfully loaded. If loading BokehJS from CDN, this \\n\"+\n     \"may be due to a slow or bad network connection. Possible fixes:\\n\"+\n     \"</p>\\n\"+\n     \"<ul>\\n\"+\n     \"<li>re-rerun `output_notebook()` to attempt to load from CDN again, or</li>\\n\"+\n     \"<li>use INLINE resources instead, as so:</li>\\n\"+\n     \"</ul>\\n\"+\n     \"<code>\\n\"+\n     \"from bokeh.resources import INLINE\\n\"+\n     \"output_notebook(resources=INLINE)\\n\"+\n     \"</code>\\n\"+\n     \"</div>\"}};\n\n  function display_loaded() {\n    const el = document.getElementById(\"d56ce96a-85aa-4e45-a91a-b832c00d9fc5\");\n    if (el != null) {\n      el.textContent = \"BokehJS is loading...\";\n    }\n    if (root.Bokeh !== undefined) {\n      if (el != null) {\n        el.textContent = \"BokehJS \" + root.Bokeh.version + \" successfully loaded.\";\n      }\n    } else if (Date.now() < root._bokeh_timeout) {\n      setTimeout(display_loaded, 100)\n    }\n  }\n\n  function run_callbacks() {\n    try {\n      root._bokeh_onload_callbacks.forEach(function(callback) {\n        if (callback != null)\n          callback();\n      });\n    } finally {\n      delete root._bokeh_onload_callbacks\n    }\n    console.debug(\"Bokeh: all callbacks have finished\");\n  }\n\n  function load_libs(css_urls, js_urls, callback) {\n    if (css_urls == null) css_urls = [];\n    if (js_urls == null) js_urls = [];\n\n    root._bokeh_onload_callbacks.push(callback);\n    if (root._bokeh_is_loading > 0) {\n      console.debug(\"Bokeh: BokehJS is being loaded, scheduling callback at\", now());\n      return null;\n    }\n    if (js_urls == null || js_urls.length === 0) {\n      run_callbacks();\n      return null;\n    }\n    console.debug(\"Bokeh: BokehJS not loaded, scheduling load and callback at\", now());\n    root._bokeh_is_loading = css_urls.length + js_urls.length;\n\n    function on_load() {\n      root._bokeh_is_loading--;\n      if (root._bokeh_is_loading === 0) {\n        console.debug(\"Bokeh: all BokehJS libraries/stylesheets loaded\");\n        run_callbacks()\n      }\n    }\n\n    function on_error(url) {\n      console.error(\"failed to load \" + url);\n    }\n\n    for (let i = 0; i < css_urls.length; i++) {\n      const url = css_urls[i];\n      const element = document.createElement(\"link\");\n      element.onload = on_load;\n      element.onerror = on_error.bind(null, url);\n      element.rel = \"stylesheet\";\n      element.type = \"text/css\";\n      element.href = url;\n      console.debug(\"Bokeh: injecting link tag for BokehJS stylesheet: \", url);\n      document.body.appendChild(element);\n    }\n\n    for (let i = 0; i < js_urls.length; i++) {\n      const url = js_urls[i];\n      const element = document.createElement('script');\n      element.onload = on_load;\n      element.onerror = on_error.bind(null, url);\n      element.async = false;\n      element.src = url;\n      console.debug(\"Bokeh: injecting script tag for BokehJS library: \", url);\n      document.head.appendChild(element);\n    }\n  };\n\n  function inject_raw_css(css) {\n    const element = document.createElement(\"style\");\n    element.appendChild(document.createTextNode(css));\n    document.body.appendChild(element);\n  }\n\n  const js_urls = [\"https://cdn.bokeh.org/bokeh/release/bokeh-3.2.1.min.js\", \"https://cdn.bokeh.org/bokeh/release/bokeh-gl-3.2.1.min.js\", \"https://cdn.bokeh.org/bokeh/release/bokeh-widgets-3.2.1.min.js\", \"https://cdn.bokeh.org/bokeh/release/bokeh-tables-3.2.1.min.js\", \"https://cdn.bokeh.org/bokeh/release/bokeh-mathjax-3.2.1.min.js\"];\n  const css_urls = [];\n\n  const inline_js = [    function(Bokeh) {\n      Bokeh.set_log_level(\"info\");\n    },\nfunction(Bokeh) {\n    }\n  ];\n\n  function run_inline_js() {\n    if (root.Bokeh !== undefined || force === true) {\n          for (let i = 0; i < inline_js.length; i++) {\n      inline_js[i].call(root, root.Bokeh);\n    }\nif (force === true) {\n        display_loaded();\n      }} else if (Date.now() < root._bokeh_timeout) {\n      setTimeout(run_inline_js, 100);\n    } else if (!root._bokeh_failed_load) {\n      console.log(\"Bokeh: BokehJS failed to load within specified timeout.\");\n      root._bokeh_failed_load = true;\n    } else if (force !== true) {\n      const cell = $(document.getElementById(\"d56ce96a-85aa-4e45-a91a-b832c00d9fc5\")).parents('.cell').data().cell;\n      cell.output_area.append_execute_result(NB_LOAD_WARNING)\n    }\n  }\n\n  if (root._bokeh_is_loading === 0) {\n    console.debug(\"Bokeh: BokehJS loaded, going straight to plotting\");\n    run_inline_js();\n  } else {\n    load_libs(css_urls, js_urls, function() {\n      console.debug(\"Bokeh: BokehJS plotting callback run at\", now());\n      run_inline_js();\n    });\n  }\n}(window));"
     },
     "metadata": {},
     "output_type": "display_data"
    }
   ],
   "source": [
    "# import necessary plotting libraries\n",
    "from bokeh.io import output_notebook\n",
    "\n",
    "output_notebook()"
   ]
  },
  {
   "cell_type": "code",
   "execution_count": 21,
   "id": "f5fbd919",
   "metadata": {
    "ExecuteTime": {
     "end_time": "2023-10-08T19:47:30.054848Z",
     "start_time": "2023-10-08T19:47:29.769593Z"
    },
    "scrolled": true
   },
   "outputs": [
    {
     "data": {
      "text/html": [
       "\n",
       "  <div id=\"ab8fa18b-75d3-4942-8ac1-3de379dcb1bb\" data-root-id=\"p1001\" style=\"display: contents;\"></div>\n"
      ]
     },
     "metadata": {},
     "output_type": "display_data"
    },
    {
     "data": {
      "application/javascript": [
       "(function(root) {\n",
       "  function embed_document(root) {\n",
       "  const docs_json = {\"f5423405-50ea-4f7e-8684-bc00833d29ca\":{\"version\":\"3.2.1\",\"title\":\"Bokeh Application\",\"roots\":[{\"type\":\"object\",\"name\":\"Figure\",\"id\":\"p1001\",\"attributes\":{\"height\":400,\"x_range\":{\"type\":\"object\",\"name\":\"FactorRange\",\"id\":\"p1011\",\"attributes\":{\"factors\":[\"Poll\",\"Text\",\"Document\",\"Link\",\"Video\",\"Photo\"]}},\"y_range\":{\"type\":\"object\",\"name\":\"DataRange1d\",\"id\":\"p1003\",\"attributes\":{\"start\":1000}},\"x_scale\":{\"type\":\"object\",\"name\":\"CategoricalScale\",\"id\":\"p1012\"},\"y_scale\":{\"type\":\"object\",\"name\":\"LinearScale\",\"id\":\"p1013\"},\"title\":{\"type\":\"object\",\"name\":\"Title\",\"id\":\"p1004\",\"attributes\":{\"text\":\"Average Impressions by Content Type\"}},\"renderers\":[{\"type\":\"object\",\"name\":\"GlyphRenderer\",\"id\":\"p1037\",\"attributes\":{\"data_source\":{\"type\":\"object\",\"name\":\"ColumnDataSource\",\"id\":\"p1031\",\"attributes\":{\"selected\":{\"type\":\"object\",\"name\":\"Selection\",\"id\":\"p1032\",\"attributes\":{\"indices\":[],\"line_indices\":[]}},\"selection_policy\":{\"type\":\"object\",\"name\":\"UnionRenderers\",\"id\":\"p1033\"},\"data\":{\"type\":\"map\",\"entries\":[[\"x\",{\"type\":\"ndarray\",\"array\":[\"Poll\",\"Text\",\"Document\",\"Link\",\"Video\",\"Photo\"],\"shape\":[6],\"dtype\":\"object\",\"order\":\"little\"}],[\"top\",{\"type\":\"ndarray\",\"array\":{\"type\":\"bytes\",\"data\":\"AAAAAEDV1UA7sRM78YKXQAAAAAAAeJZAAAAAAIAhlUBu8hyg3ZmTQFE/woEMFJBA\"},\"shape\":[6],\"dtype\":\"float64\",\"order\":\"little\"}]]}}},\"view\":{\"type\":\"object\",\"name\":\"CDSView\",\"id\":\"p1038\",\"attributes\":{\"filter\":{\"type\":\"object\",\"name\":\"AllIndices\",\"id\":\"p1039\"}}},\"glyph\":{\"type\":\"object\",\"name\":\"VBar\",\"id\":\"p1034\",\"attributes\":{\"x\":{\"type\":\"field\",\"field\":\"x\"},\"width\":{\"type\":\"value\",\"value\":0.8},\"top\":{\"type\":\"field\",\"field\":\"top\"},\"line_color\":{\"type\":\"value\",\"value\":\"#1f77b4\"},\"fill_color\":{\"type\":\"value\",\"value\":\"#1f77b4\"}}},\"nonselection_glyph\":{\"type\":\"object\",\"name\":\"VBar\",\"id\":\"p1035\",\"attributes\":{\"x\":{\"type\":\"field\",\"field\":\"x\"},\"width\":{\"type\":\"value\",\"value\":0.8},\"top\":{\"type\":\"field\",\"field\":\"top\"},\"line_color\":{\"type\":\"value\",\"value\":\"#1f77b4\"},\"line_alpha\":{\"type\":\"value\",\"value\":0.1},\"fill_color\":{\"type\":\"value\",\"value\":\"#1f77b4\"},\"fill_alpha\":{\"type\":\"value\",\"value\":0.1},\"hatch_alpha\":{\"type\":\"value\",\"value\":0.1}}},\"muted_glyph\":{\"type\":\"object\",\"name\":\"VBar\",\"id\":\"p1036\",\"attributes\":{\"x\":{\"type\":\"field\",\"field\":\"x\"},\"width\":{\"type\":\"value\",\"value\":0.8},\"top\":{\"type\":\"field\",\"field\":\"top\"},\"line_color\":{\"type\":\"value\",\"value\":\"#1f77b4\"},\"line_alpha\":{\"type\":\"value\",\"value\":0.2},\"fill_color\":{\"type\":\"value\",\"value\":\"#1f77b4\"},\"fill_alpha\":{\"type\":\"value\",\"value\":0.2},\"hatch_alpha\":{\"type\":\"value\",\"value\":0.2}}}}}],\"toolbar\":{\"type\":\"object\",\"name\":\"Toolbar\",\"id\":\"p1010\",\"attributes\":{\"tools\":[{\"type\":\"object\",\"name\":\"PanTool\",\"id\":\"p1024\"},{\"type\":\"object\",\"name\":\"WheelZoomTool\",\"id\":\"p1025\"},{\"type\":\"object\",\"name\":\"BoxZoomTool\",\"id\":\"p1026\",\"attributes\":{\"overlay\":{\"type\":\"object\",\"name\":\"BoxAnnotation\",\"id\":\"p1027\",\"attributes\":{\"syncable\":false,\"level\":\"overlay\",\"visible\":false,\"left_units\":\"canvas\",\"right_units\":\"canvas\",\"bottom_units\":\"canvas\",\"top_units\":\"canvas\",\"line_color\":\"black\",\"line_alpha\":1.0,\"line_width\":2,\"line_dash\":[4,4],\"fill_color\":\"lightgrey\",\"fill_alpha\":0.5}}}},{\"type\":\"object\",\"name\":\"SaveTool\",\"id\":\"p1028\"},{\"type\":\"object\",\"name\":\"ResetTool\",\"id\":\"p1029\"},{\"type\":\"object\",\"name\":\"HelpTool\",\"id\":\"p1030\"}]}},\"left\":[{\"type\":\"object\",\"name\":\"LinearAxis\",\"id\":\"p1019\",\"attributes\":{\"ticker\":{\"type\":\"object\",\"name\":\"BasicTicker\",\"id\":\"p1020\",\"attributes\":{\"mantissas\":[1,2,5]}},\"formatter\":{\"type\":\"object\",\"name\":\"BasicTickFormatter\",\"id\":\"p1021\"},\"axis_label\":\"Average Impression\",\"major_label_policy\":{\"type\":\"object\",\"name\":\"AllLabels\",\"id\":\"p1022\"},\"minor_tick_out\":0}}],\"below\":[{\"type\":\"object\",\"name\":\"CategoricalAxis\",\"id\":\"p1014\",\"attributes\":{\"ticker\":{\"type\":\"object\",\"name\":\"CategoricalTicker\",\"id\":\"p1015\"},\"formatter\":{\"type\":\"object\",\"name\":\"CategoricalTickFormatter\",\"id\":\"p1016\"},\"major_label_policy\":{\"type\":\"object\",\"name\":\"AllLabels\",\"id\":\"p1017\"}}}],\"center\":[{\"type\":\"object\",\"name\":\"Grid\",\"id\":\"p1018\",\"attributes\":{\"axis\":{\"id\":\"p1014\"}}},{\"type\":\"object\",\"name\":\"Grid\",\"id\":\"p1023\",\"attributes\":{\"dimension\":1,\"axis\":{\"id\":\"p1019\"}}}]}}]}};\n",
       "  const render_items = [{\"docid\":\"f5423405-50ea-4f7e-8684-bc00833d29ca\",\"roots\":{\"p1001\":\"ab8fa18b-75d3-4942-8ac1-3de379dcb1bb\"},\"root_ids\":[\"p1001\"]}];\n",
       "  root.Bokeh.embed.embed_items_notebook(docs_json, render_items);\n",
       "  }\n",
       "  if (root.Bokeh !== undefined) {\n",
       "    embed_document(root);\n",
       "  } else {\n",
       "    let attempts = 0;\n",
       "    const timer = setInterval(function(root) {\n",
       "      if (root.Bokeh !== undefined) {\n",
       "        clearInterval(timer);\n",
       "        embed_document(root);\n",
       "      } else {\n",
       "        attempts++;\n",
       "        if (attempts > 100) {\n",
       "          clearInterval(timer);\n",
       "          console.log(\"Bokeh: ERROR: Unable to run BokehJS code because BokehJS library is missing\");\n",
       "        }\n",
       "      }\n",
       "    }, 10, root)\n",
       "  }\n",
       "})(window);"
      ],
      "application/vnd.bokehjs_exec.v0+json": ""
     },
     "metadata": {
      "application/vnd.bokehjs_exec.v0+json": {
       "id": "p1001"
      }
     },
     "output_type": "display_data"
    }
   ],
   "source": [
    "# create a bar chart showing the average impressions by content type\n",
    "from bokeh.plotting import figure, output_file, show\n",
    "\n",
    "x_range = content_df[\"Content Type\"]\n",
    "y_range = content_df[\"Impressions\"]\n",
    "\n",
    "p = figure(\n",
    "    title=\"Average Impressions by Content Type\",\n",
    "    x_range=x_range,\n",
    "    height=400,\n",
    "    width=600,\n",
    "    y_axis_label=\"Average Impression\",\n",
    ")\n",
    "\n",
    "p.vbar(x=x_range, top=y_range, width=0.8)\n",
    "\n",
    "p.yaxis.minor_tick_out = 0\n",
    "p.y_range.start = 1000\n",
    "\n",
    "show(p)"
   ]
  },
  {
   "cell_type": "markdown",
   "id": "6b24eeaa",
   "metadata": {},
   "source": [
    "### Question: What is the the trend of impressions over the years?"
   ]
  },
  {
   "cell_type": "code",
   "execution_count": 22,
   "id": "0532c5d6",
   "metadata": {
    "ExecuteTime": {
     "end_time": "2023-10-08T19:47:30.755889Z",
     "start_time": "2023-10-08T19:47:30.058865Z"
    }
   },
   "outputs": [],
   "source": [
    "# import relevant plotting libraries\n",
    "%matplotlib inline\n",
    "import matplotlib.pyplot as plt\n",
    "\n",
    "plt.style.use(\"seaborn-v0_8-whitegrid\")"
   ]
  },
  {
   "cell_type": "code",
   "execution_count": 23,
   "id": "321c9978",
   "metadata": {
    "ExecuteTime": {
     "end_time": "2023-10-08T19:47:30.770309Z",
     "start_time": "2023-10-08T19:47:30.758821Z"
    }
   },
   "outputs": [
    {
     "name": "stderr",
     "output_type": "stream",
     "text": [
      "/var/folders/sj/vpbs2tm52r3gw6r1vgvt92200000gn/T/ipykernel_49995/2969413702.py:3: SettingWithCopyWarning: \n",
      "A value is trying to be set on a copy of a slice from a DataFrame\n",
      "\n",
      "See the caveats in the documentation: https://pandas.pydata.org/pandas-docs/stable/user_guide/indexing.html#returning-a-view-versus-a-copy\n",
      "  valid_impressions.rename(columns={\"index\": \"date\"}, inplace=True)\n"
     ]
    }
   ],
   "source": [
    "# I reseted the index and renamed it to date\n",
    "valid_impressions.reset_index(inplace=True)\n",
    "valid_impressions.rename(columns={\"index\": \"date\"}, inplace=True)"
   ]
  },
  {
   "cell_type": "code",
   "execution_count": 24,
   "id": "95aa5398",
   "metadata": {
    "ExecuteTime": {
     "end_time": "2023-10-08T19:47:30.806268Z",
     "start_time": "2023-10-08T19:47:30.776966Z"
    }
   },
   "outputs": [
    {
     "data": {
      "text/html": [
       "<div>\n",
       "<style scoped>\n",
       "    .dataframe tbody tr th:only-of-type {\n",
       "        vertical-align: middle;\n",
       "    }\n",
       "\n",
       "    .dataframe tbody tr th {\n",
       "        vertical-align: top;\n",
       "    }\n",
       "\n",
       "    .dataframe thead th {\n",
       "        text-align: right;\n",
       "    }\n",
       "</style>\n",
       "<table border=\"1\" class=\"dataframe\">\n",
       "  <thead>\n",
       "    <tr style=\"text-align: right;\">\n",
       "      <th></th>\n",
       "      <th>Date</th>\n",
       "      <th>Content Type</th>\n",
       "      <th>Sent by</th>\n",
       "      <th>Link</th>\n",
       "      <th>Post</th>\n",
       "      <th>Linked Content</th>\n",
       "      <th>Impressions</th>\n",
       "      <th>Organic Impressions</th>\n",
       "      <th>Engagement Rate (per Impression)</th>\n",
       "      <th>Engagements</th>\n",
       "      <th>Reactions</th>\n",
       "      <th>Likes</th>\n",
       "      <th>Comments</th>\n",
       "      <th>Shares</th>\n",
       "      <th>Click-Through Rate</th>\n",
       "      <th>Post Link Clicks</th>\n",
       "      <th>Post Clicks (All)</th>\n",
       "      <th>Video Views</th>\n",
       "      <th>Organic Video Views</th>\n",
       "      <th>Poll Votes</th>\n",
       "      <th>Tags</th>\n",
       "      <th>Time</th>\n",
       "      <th>Time Period</th>\n",
       "    </tr>\n",
       "  </thead>\n",
       "  <tbody>\n",
       "    <tr>\n",
       "      <th>0</th>\n",
       "      <td>2018-01-29</td>\n",
       "      <td>Photo</td>\n",
       "      <td></td>\n",
       "      <td>https://linkedin.com/feed/update/urn:li:activi...</td>\n",
       "      <td>#MotivationMonday\\nWherever you find yourself,...</td>\n",
       "      <td>NaN</td>\n",
       "      <td>6.0</td>\n",
       "      <td>6.0</td>\n",
       "      <td>516.67</td>\n",
       "      <td>31.0</td>\n",
       "      <td>30.0</td>\n",
       "      <td>30.0</td>\n",
       "      <td>0.0</td>\n",
       "      <td>1.0</td>\n",
       "      <td>0%</td>\n",
       "      <td>0.0</td>\n",
       "      <td>0.0</td>\n",
       "      <td>NaN</td>\n",
       "      <td>NaN</td>\n",
       "      <td>NaN</td>\n",
       "      <td>NaN</td>\n",
       "      <td>10:00:00</td>\n",
       "      <td>morning</td>\n",
       "    </tr>\n",
       "    <tr>\n",
       "      <th>1</th>\n",
       "      <td>2018-01-29</td>\n",
       "      <td>Photo</td>\n",
       "      <td></td>\n",
       "      <td>https://linkedin.com/feed/update/urn:li:activi...</td>\n",
       "      <td>Members of  Stanbic IBTC Asset Management's Ex...</td>\n",
       "      <td>NaN</td>\n",
       "      <td>10.0</td>\n",
       "      <td>10.0</td>\n",
       "      <td>600.00</td>\n",
       "      <td>60.0</td>\n",
       "      <td>57.0</td>\n",
       "      <td>57.0</td>\n",
       "      <td>0.0</td>\n",
       "      <td>1.0</td>\n",
       "      <td>20%</td>\n",
       "      <td>2.0</td>\n",
       "      <td>2.0</td>\n",
       "      <td>NaN</td>\n",
       "      <td>NaN</td>\n",
       "      <td>NaN</td>\n",
       "      <td>NaN</td>\n",
       "      <td>12:12:00</td>\n",
       "      <td>afternoon</td>\n",
       "    </tr>\n",
       "  </tbody>\n",
       "</table>\n",
       "</div>"
      ],
      "text/plain": [
       "         Date Content Type Sent by  \\\n",
       "0  2018-01-29        Photo           \n",
       "1  2018-01-29        Photo           \n",
       "\n",
       "                                                Link  \\\n",
       "0  https://linkedin.com/feed/update/urn:li:activi...   \n",
       "1  https://linkedin.com/feed/update/urn:li:activi...   \n",
       "\n",
       "                                                Post Linked Content  \\\n",
       "0  #MotivationMonday\\nWherever you find yourself,...            NaN   \n",
       "1  Members of  Stanbic IBTC Asset Management's Ex...            NaN   \n",
       "\n",
       "   Impressions  Organic Impressions  Engagement Rate (per Impression)  \\\n",
       "0          6.0                  6.0                            516.67   \n",
       "1         10.0                 10.0                            600.00   \n",
       "\n",
       "   Engagements  Reactions  Likes  Comments  Shares Click-Through Rate  \\\n",
       "0         31.0       30.0   30.0       0.0     1.0                 0%   \n",
       "1         60.0       57.0   57.0       0.0     1.0                20%   \n",
       "\n",
       "   Post Link Clicks  Post Clicks (All)  Video Views  Organic Video Views  \\\n",
       "0               0.0                0.0          NaN                  NaN   \n",
       "1               2.0                2.0          NaN                  NaN   \n",
       "\n",
       "   Poll Votes Tags      Time Time Period  \n",
       "0         NaN  NaN  10:00:00     morning  \n",
       "1         NaN  NaN  12:12:00   afternoon  "
      ]
     },
     "execution_count": 24,
     "metadata": {},
     "output_type": "execute_result"
    }
   ],
   "source": [
    "valid_impressions.head(2)"
   ]
  },
  {
   "cell_type": "code",
   "execution_count": 25,
   "id": "568c8763",
   "metadata": {
    "ExecuteTime": {
     "end_time": "2023-10-08T19:47:30.841149Z",
     "start_time": "2023-10-08T19:47:30.828826Z"
    }
   },
   "outputs": [
    {
     "name": "stderr",
     "output_type": "stream",
     "text": [
      "/var/folders/sj/vpbs2tm52r3gw6r1vgvt92200000gn/T/ipykernel_49995/2766421927.py:2: SettingWithCopyWarning: \n",
      "A value is trying to be set on a copy of a slice from a DataFrame.\n",
      "Try using .loc[row_indexer,col_indexer] = value instead\n",
      "\n",
      "See the caveats in the documentation: https://pandas.pydata.org/pandas-docs/stable/user_guide/indexing.html#returning-a-view-versus-a-copy\n",
      "  valid_impressions[\"Date\"] = pd.to_datetime(valid_impressions[\"Date\"])\n"
     ]
    }
   ],
   "source": [
    "# Converted the date column to a datetime format\n",
    "valid_impressions[\"Date\"] = pd.to_datetime(valid_impressions[\"Date\"])"
   ]
  },
  {
   "cell_type": "code",
   "execution_count": 26,
   "id": "9ea153dc",
   "metadata": {
    "ExecuteTime": {
     "end_time": "2023-10-08T19:47:30.871719Z",
     "start_time": "2023-10-08T19:47:30.848807Z"
    }
   },
   "outputs": [],
   "source": [
    "# Set the date as index\n",
    "valid_impressions.set_index(\"Date\", inplace=True)"
   ]
  },
  {
   "cell_type": "code",
   "execution_count": 27,
   "id": "2badbcec",
   "metadata": {
    "ExecuteTime": {
     "end_time": "2023-10-08T19:47:31.227719Z",
     "start_time": "2023-10-08T19:47:30.887494Z"
    }
   },
   "outputs": [
    {
     "data": {
      "image/png": "[encoded data removed]",
      "text/plain": [
       "<Figure size 640x480 with 1 Axes>"
      ]
     },
     "metadata": {},
     "output_type": "display_data"
    }
   ],
   "source": [
    "# calculate the mean impressions per month\n",
    "mmi = valid_impressions[\"Impressions\"].resample(\"M\").mean()\n",
    "\n",
    "# forward fill the data for months with empty values and generate a line plot\n",
    "ax = mmi.fillna(method=\"ffill\").plot(title=\"Average Impressions over time\")\n",
    "\n",
    "plt.show();"
   ]
  },
  {
   "cell_type": "markdown",
   "id": "c4eab7c2",
   "metadata": {},
   "source": [
    "### QUESTION: When is the best time to post on LinkedIn?"
   ]
  },
  {
   "cell_type": "code",
   "execution_count": 28,
   "id": "03d805ce",
   "metadata": {
    "ExecuteTime": {
     "end_time": "2023-10-08T19:47:31.257473Z",
     "start_time": "2023-10-08T19:47:31.239883Z"
    }
   },
   "outputs": [],
   "source": [
    "# group the dataframe by content type and time period the post was made\n",
    "cbt = (\n",
    "    valid_impressions.groupby([\"Content Type\", \"Time Period\"])[\"Engagements\"]\n",
    "    .mean()\n",
    "    .reset_index()\n",
    ")\n",
    "\n",
    "time_period_order = [\"morning\", \"afternoon\", \"evening\"]\n",
    "\n",
    "# arrange the time period in order of morning, afternoon, and evening.\n",
    "cbt[\"Time Period\"] = pd.Categorical(\n",
    "    cbt[\"Time Period\"], categories=time_period_order, ordered=True\n",
    ")\n",
    "\n",
    "# sort the grouped dataframe by time period order\n",
    "cbt = cbt.sort_values([\"Content Type\", \"Time Period\"])\n",
    "cbt.reset_index(drop=True, inplace=True)"
   ]
  },
  {
   "cell_type": "code",
   "execution_count": 29,
   "id": "8d1ecac6",
   "metadata": {
    "ExecuteTime": {
     "end_time": "2023-10-08T19:47:31.287875Z",
     "start_time": "2023-10-08T19:47:31.261768Z"
    }
   },
   "outputs": [
    {
     "data": {
      "text/plain": [
       "array(['Document', 'Link', 'Photo', 'Poll', 'Text', 'Video'], dtype=object)"
      ]
     },
     "execution_count": 29,
     "metadata": {},
     "output_type": "execute_result"
    }
   ],
   "source": [
    "# The unique contents\n",
    "cbt[\"Content Type\"].unique()"
   ]
  },
  {
   "cell_type": "code",
   "execution_count": 30,
   "id": "4c3a8a82",
   "metadata": {
    "ExecuteTime": {
     "end_time": "2023-10-08T19:47:31.305535Z",
     "start_time": "2023-10-08T19:47:31.296919Z"
    }
   },
   "outputs": [],
   "source": [
    "# slice the grouped dataframe into content types\n",
    "document = cbt.iloc[:1]\n",
    "document.name = \"Document\"\n",
    "\n",
    "link = cbt.iloc[1:4]\n",
    "link.name = \"Links\"\n",
    "\n",
    "photo = cbt.iloc[4:7]\n",
    "photo.name = \"Photos\"\n",
    "\n",
    "text = cbt.iloc[9:12]\n",
    "text.name = \"Texts\"\n",
    "\n",
    "video = cbt.iloc[12:]\n",
    "video.name = \"Videos\"\n",
    "\n",
    "content = (document, link, photo, text, video)"
   ]
  },
  {
   "cell_type": "code",
   "execution_count": 31,
   "id": "5782fe59",
   "metadata": {
    "ExecuteTime": {
     "end_time": "2023-10-08T19:47:31.330190Z",
     "start_time": "2023-10-08T19:47:31.311306Z"
    }
   },
   "outputs": [],
   "source": [
    "# create a function that plots a Bokeh bar chart for the time period data.\n",
    "def plot_bar(df):\n",
    "    p = figure(title=df.name, x_range=list(df[\"Time Period\"]), height=300, width=400)\n",
    "\n",
    "    p.vbar(x=\"Time Period\", top=\"Engagements\", color=\"#99CCFF\", source=df, width=0.8)\n",
    "\n",
    "    p.axis.major_tick_out = 0\n",
    "\n",
    "    p.xgrid.grid_line_color = None\n",
    "\n",
    "    p.yaxis.axis_label = \"Average Engagement\"\n",
    "    p.yaxis.minor_tick_out = 0\n",
    "    p.y_range.start = 0\n",
    "    p.y_range.end = 500\n",
    "\n",
    "    return p"
   ]
  },
  {
   "cell_type": "code",
   "execution_count": 32,
   "id": "23a61229",
   "metadata": {
    "ExecuteTime": {
     "end_time": "2023-10-08T19:47:31.663078Z",
     "start_time": "2023-10-08T19:47:31.340209Z"
    }
   },
   "outputs": [
    {
     "data": {
      "text/html": [
       "\n",
       "  <div id=\"fe384089-ee4c-4c79-bac9-3504a53a302b\" data-root-id=\"p1258\" style=\"display: contents;\"></div>\n"
      ]
     },
     "metadata": {},
     "output_type": "display_data"
    },
    {
     "data": {
      "application/javascript": [
       "(function(root) {\n",
       "  function embed_document(root) {\n",
       "  const docs_json = {\"67fab57e-038e-4cf5-8b73-a5ef8d6f1de9\":{\"version\":\"3.2.1\",\"title\":\"Bokeh Application\",\"roots\":[{\"type\":\"object\",\"name\":\"GridPlot\",\"id\":\"p1258\",\"attributes\":{\"rows\":null,\"cols\":null,\"toolbar\":{\"type\":\"object\",\"name\":\"Toolbar\",\"id\":\"p1257\",\"attributes\":{\"tools\":[{\"type\":\"object\",\"name\":\"ToolProxy\",\"id\":\"p1251\",\"attributes\":{\"tools\":[{\"type\":\"object\",\"name\":\"PanTool\",\"id\":\"p1064\"},{\"type\":\"object\",\"name\":\"PanTool\",\"id\":\"p1106\"},{\"type\":\"object\",\"name\":\"PanTool\",\"id\":\"p1148\"},{\"type\":\"object\",\"name\":\"PanTool\",\"id\":\"p1190\"},{\"type\":\"object\",\"name\":\"PanTool\",\"id\":\"p1232\"}]}},{\"type\":\"object\",\"name\":\"ToolProxy\",\"id\":\"p1252\",\"attributes\":{\"tools\":[{\"type\":\"object\",\"name\":\"WheelZoomTool\",\"id\":\"p1065\"},{\"type\":\"object\",\"name\":\"WheelZoomTool\",\"id\":\"p1107\"},{\"type\":\"object\",\"name\":\"WheelZoomTool\",\"id\":\"p1149\"},{\"type\":\"object\",\"name\":\"WheelZoomTool\",\"id\":\"p1191\"},{\"type\":\"object\",\"name\":\"WheelZoomTool\",\"id\":\"p1233\"}]}},{\"type\":\"object\",\"name\":\"ToolProxy\",\"id\":\"p1253\",\"attributes\":{\"tools\":[{\"type\":\"object\",\"name\":\"BoxZoomTool\",\"id\":\"p1066\",\"attributes\":{\"overlay\":{\"type\":\"object\",\"name\":\"BoxAnnotation\",\"id\":\"p1067\",\"attributes\":{\"syncable\":false,\"level\":\"overlay\",\"visible\":false,\"left_units\":\"canvas\",\"right_units\":\"canvas\",\"bottom_units\":\"canvas\",\"top_units\":\"canvas\",\"line_color\":\"black\",\"line_alpha\":1.0,\"line_width\":2,\"line_dash\":[4,4],\"fill_color\":\"lightgrey\",\"fill_alpha\":0.5}}}},{\"type\":\"object\",\"name\":\"BoxZoomTool\",\"id\":\"p1108\",\"attributes\":{\"overlay\":{\"type\":\"object\",\"name\":\"BoxAnnotation\",\"id\":\"p1109\",\"attributes\":{\"syncable\":false,\"level\":\"overlay\",\"visible\":false,\"left_units\":\"canvas\",\"right_units\":\"canvas\",\"bottom_units\":\"canvas\",\"top_units\":\"canvas\",\"line_color\":\"black\",\"line_alpha\":1.0,\"line_width\":2,\"line_dash\":[4,4],\"fill_color\":\"lightgrey\",\"fill_alpha\":0.5}}}},{\"type\":\"object\",\"name\":\"BoxZoomTool\",\"id\":\"p1150\",\"attributes\":{\"overlay\":{\"type\":\"object\",\"name\":\"BoxAnnotation\",\"id\":\"p1151\",\"attributes\":{\"syncable\":false,\"level\":\"overlay\",\"visible\":false,\"left_units\":\"canvas\",\"right_units\":\"canvas\",\"bottom_units\":\"canvas\",\"top_units\":\"canvas\",\"line_color\":\"black\",\"line_alpha\":1.0,\"line_width\":2,\"line_dash\":[4,4],\"fill_color\":\"lightgrey\",\"fill_alpha\":0.5}}}},{\"type\":\"object\",\"name\":\"BoxZoomTool\",\"id\":\"p1192\",\"attributes\":{\"overlay\":{\"type\":\"object\",\"name\":\"BoxAnnotation\",\"id\":\"p1193\",\"attributes\":{\"syncable\":false,\"level\":\"overlay\",\"visible\":false,\"left_units\":\"canvas\",\"right_units\":\"canvas\",\"bottom_units\":\"canvas\",\"top_units\":\"canvas\",\"line_color\":\"black\",\"line_alpha\":1.0,\"line_width\":2,\"line_dash\":[4,4],\"fill_color\":\"lightgrey\",\"fill_alpha\":0.5}}}},{\"type\":\"object\",\"name\":\"BoxZoomTool\",\"id\":\"p1234\",\"attributes\":{\"overlay\":{\"type\":\"object\",\"name\":\"BoxAnnotation\",\"id\":\"p1235\",\"attributes\":{\"syncable\":false,\"level\":\"overlay\",\"visible\":false,\"left_units\":\"canvas\",\"right_units\":\"canvas\",\"bottom_units\":\"canvas\",\"top_units\":\"canvas\",\"line_color\":\"black\",\"line_alpha\":1.0,\"line_width\":2,\"line_dash\":[4,4],\"fill_color\":\"lightgrey\",\"fill_alpha\":0.5}}}}]}},{\"type\":\"object\",\"name\":\"SaveTool\",\"id\":\"p1254\"},{\"type\":\"object\",\"name\":\"ToolProxy\",\"id\":\"p1255\",\"attributes\":{\"tools\":[{\"type\":\"object\",\"name\":\"ResetTool\",\"id\":\"p1069\"},{\"type\":\"object\",\"name\":\"ResetTool\",\"id\":\"p1111\"},{\"type\":\"object\",\"name\":\"ResetTool\",\"id\":\"p1153\"},{\"type\":\"object\",\"name\":\"ResetTool\",\"id\":\"p1195\"},{\"type\":\"object\",\"name\":\"ResetTool\",\"id\":\"p1237\"}]}},{\"type\":\"object\",\"name\":\"ToolProxy\",\"id\":\"p1256\",\"attributes\":{\"tools\":[{\"type\":\"object\",\"name\":\"HelpTool\",\"id\":\"p1070\"},{\"type\":\"object\",\"name\":\"HelpTool\",\"id\":\"p1112\"},{\"type\":\"object\",\"name\":\"HelpTool\",\"id\":\"p1154\"},{\"type\":\"object\",\"name\":\"HelpTool\",\"id\":\"p1196\"},{\"type\":\"object\",\"name\":\"HelpTool\",\"id\":\"p1238\"}]}}]}},\"toolbar_location\":null,\"children\":[[{\"type\":\"object\",\"name\":\"Figure\",\"id\":\"p1041\",\"attributes\":{\"width\":400,\"height\":300,\"x_range\":{\"type\":\"object\",\"name\":\"FactorRange\",\"id\":\"p1051\",\"attributes\":{\"factors\":[\"evening\"]}},\"y_range\":{\"type\":\"object\",\"name\":\"DataRange1d\",\"id\":\"p1043\",\"attributes\":{\"start\":0,\"end\":500}},\"x_scale\":{\"type\":\"object\",\"name\":\"CategoricalScale\",\"id\":\"p1052\"},\"y_scale\":{\"type\":\"object\",\"name\":\"LinearScale\",\"id\":\"p1053\"},\"title\":{\"type\":\"object\",\"name\":\"Title\",\"id\":\"p1044\",\"attributes\":{\"text\":\"Document\"}},\"renderers\":[{\"type\":\"object\",\"name\":\"GlyphRenderer\",\"id\":\"p1080\",\"attributes\":{\"data_source\":{\"type\":\"object\",\"name\":\"ColumnDataSource\",\"id\":\"p1071\",\"attributes\":{\"selected\":{\"type\":\"object\",\"name\":\"Selection\",\"id\":\"p1072\",\"attributes\":{\"indices\":[],\"line_indices\":[]}},\"selection_policy\":{\"type\":\"object\",\"name\":\"UnionRenderers\",\"id\":\"p1073\"},\"data\":{\"type\":\"map\",\"entries\":[[\"index\",{\"type\":\"ndarray\",\"array\":{\"type\":\"bytes\",\"data\":\"AAAAAA==\"},\"shape\":[1],\"dtype\":\"int32\",\"order\":\"little\"}],[\"Content Type\",{\"type\":\"ndarray\",\"array\":[\"Document\"],\"shape\":[1],\"dtype\":\"object\",\"order\":\"little\"}],[\"Time Period\",{\"type\":\"ndarray\",\"array\":[\"evening\"],\"shape\":[1],\"dtype\":\"object\",\"order\":\"little\"}],[\"Engagements\",{\"type\":\"ndarray\",\"array\":{\"type\":\"bytes\",\"data\":\"AAAAAABAcEA=\"},\"shape\":[1],\"dtype\":\"float64\",\"order\":\"little\"}]]}}},\"view\":{\"type\":\"object\",\"name\":\"CDSView\",\"id\":\"p1081\",\"attributes\":{\"filter\":{\"type\":\"object\",\"name\":\"AllIndices\",\"id\":\"p1082\"}}},\"glyph\":{\"type\":\"object\",\"name\":\"VBar\",\"id\":\"p1077\",\"attributes\":{\"x\":{\"type\":\"field\",\"field\":\"Time Period\"},\"width\":{\"type\":\"value\",\"value\":0.8},\"top\":{\"type\":\"field\",\"field\":\"Engagements\"},\"line_color\":{\"type\":\"value\",\"value\":\"#99CCFF\"},\"fill_color\":{\"type\":\"value\",\"value\":\"#99CCFF\"},\"hatch_color\":{\"type\":\"value\",\"value\":\"#99CCFF\"}}},\"nonselection_glyph\":{\"type\":\"object\",\"name\":\"VBar\",\"id\":\"p1078\",\"attributes\":{\"x\":{\"type\":\"field\",\"field\":\"Time Period\"},\"width\":{\"type\":\"value\",\"value\":0.8},\"top\":{\"type\":\"field\",\"field\":\"Engagements\"},\"line_color\":{\"type\":\"value\",\"value\":\"#99CCFF\"},\"line_alpha\":{\"type\":\"value\",\"value\":0.1},\"fill_color\":{\"type\":\"value\",\"value\":\"#99CCFF\"},\"fill_alpha\":{\"type\":\"value\",\"value\":0.1},\"hatch_color\":{\"type\":\"value\",\"value\":\"#99CCFF\"},\"hatch_alpha\":{\"type\":\"value\",\"value\":0.1}}},\"muted_glyph\":{\"type\":\"object\",\"name\":\"VBar\",\"id\":\"p1079\",\"attributes\":{\"x\":{\"type\":\"field\",\"field\":\"Time Period\"},\"width\":{\"type\":\"value\",\"value\":0.8},\"top\":{\"type\":\"field\",\"field\":\"Engagements\"},\"line_color\":{\"type\":\"value\",\"value\":\"#99CCFF\"},\"line_alpha\":{\"type\":\"value\",\"value\":0.2},\"fill_color\":{\"type\":\"value\",\"value\":\"#99CCFF\"},\"fill_alpha\":{\"type\":\"value\",\"value\":0.2},\"hatch_color\":{\"type\":\"value\",\"value\":\"#99CCFF\"},\"hatch_alpha\":{\"type\":\"value\",\"value\":0.2}}}}}],\"toolbar\":{\"type\":\"object\",\"name\":\"Toolbar\",\"id\":\"p1050\",\"attributes\":{\"tools\":[{\"id\":\"p1064\"},{\"id\":\"p1065\"},{\"id\":\"p1066\"},{\"type\":\"object\",\"name\":\"SaveTool\",\"id\":\"p1068\"},{\"id\":\"p1069\"},{\"id\":\"p1070\"}]}},\"toolbar_location\":null,\"left\":[{\"type\":\"object\",\"name\":\"LinearAxis\",\"id\":\"p1059\",\"attributes\":{\"ticker\":{\"type\":\"object\",\"name\":\"BasicTicker\",\"id\":\"p1060\",\"attributes\":{\"mantissas\":[1,2,5]}},\"formatter\":{\"type\":\"object\",\"name\":\"BasicTickFormatter\",\"id\":\"p1061\"},\"axis_label\":\"Average Engagement\",\"major_label_policy\":{\"type\":\"object\",\"name\":\"AllLabels\",\"id\":\"p1062\"},\"major_tick_out\":0,\"minor_tick_out\":0}}],\"below\":[{\"type\":\"object\",\"name\":\"CategoricalAxis\",\"id\":\"p1054\",\"attributes\":{\"ticker\":{\"type\":\"object\",\"name\":\"CategoricalTicker\",\"id\":\"p1055\"},\"formatter\":{\"type\":\"object\",\"name\":\"CategoricalTickFormatter\",\"id\":\"p1056\"},\"major_label_policy\":{\"type\":\"object\",\"name\":\"AllLabels\",\"id\":\"p1057\"},\"major_tick_out\":0}}],\"center\":[{\"type\":\"object\",\"name\":\"Grid\",\"id\":\"p1058\",\"attributes\":{\"axis\":{\"id\":\"p1054\"},\"grid_line_color\":null}},{\"type\":\"object\",\"name\":\"Grid\",\"id\":\"p1063\",\"attributes\":{\"dimension\":1,\"axis\":{\"id\":\"p1059\"}}}]}},0,0],[{\"type\":\"object\",\"name\":\"Figure\",\"id\":\"p1083\",\"attributes\":{\"width\":400,\"height\":300,\"x_range\":{\"type\":\"object\",\"name\":\"FactorRange\",\"id\":\"p1093\",\"attributes\":{\"factors\":[\"morning\",\"afternoon\",\"evening\"]}},\"y_range\":{\"type\":\"object\",\"name\":\"DataRange1d\",\"id\":\"p1085\",\"attributes\":{\"start\":0,\"end\":500}},\"x_scale\":{\"type\":\"object\",\"name\":\"CategoricalScale\",\"id\":\"p1094\"},\"y_scale\":{\"type\":\"object\",\"name\":\"LinearScale\",\"id\":\"p1095\"},\"title\":{\"type\":\"object\",\"name\":\"Title\",\"id\":\"p1086\",\"attributes\":{\"text\":\"Links\"}},\"renderers\":[{\"type\":\"object\",\"name\":\"GlyphRenderer\",\"id\":\"p1122\",\"attributes\":{\"data_source\":{\"type\":\"object\",\"name\":\"ColumnDataSource\",\"id\":\"p1113\",\"attributes\":{\"selected\":{\"type\":\"object\",\"name\":\"Selection\",\"id\":\"p1114\",\"attributes\":{\"indices\":[],\"line_indices\":[]}},\"selection_policy\":{\"type\":\"object\",\"name\":\"UnionRenderers\",\"id\":\"p1115\"},\"data\":{\"type\":\"map\",\"entries\":[[\"index\",{\"type\":\"ndarray\",\"array\":{\"type\":\"bytes\",\"data\":\"AQAAAAIAAAADAAAA\"},\"shape\":[3],\"dtype\":\"int32\",\"order\":\"little\"}],[\"Content Type\",{\"type\":\"ndarray\",\"array\":[\"Link\",\"Link\",\"Link\"],\"shape\":[3],\"dtype\":\"object\",\"order\":\"little\"}],[\"Time Period\",{\"type\":\"ndarray\",\"array\":[\"morning\",\"afternoon\",\"evening\"],\"shape\":[3],\"dtype\":\"object\",\"order\":\"little\"}],[\"Engagements\",{\"type\":\"ndarray\",\"array\":{\"type\":\"bytes\",\"data\":\"jC666KKLRUAndmIndmJGQAAAAAAAYE1A\"},\"shape\":[3],\"dtype\":\"float64\",\"order\":\"little\"}]]}}},\"view\":{\"type\":\"object\",\"name\":\"CDSView\",\"id\":\"p1123\",\"attributes\":{\"filter\":{\"type\":\"object\",\"name\":\"AllIndices\",\"id\":\"p1124\"}}},\"glyph\":{\"type\":\"object\",\"name\":\"VBar\",\"id\":\"p1119\",\"attributes\":{\"x\":{\"type\":\"field\",\"field\":\"Time Period\"},\"width\":{\"type\":\"value\",\"value\":0.8},\"top\":{\"type\":\"field\",\"field\":\"Engagements\"},\"line_color\":{\"type\":\"value\",\"value\":\"#99CCFF\"},\"fill_color\":{\"type\":\"value\",\"value\":\"#99CCFF\"},\"hatch_color\":{\"type\":\"value\",\"value\":\"#99CCFF\"}}},\"nonselection_glyph\":{\"type\":\"object\",\"name\":\"VBar\",\"id\":\"p1120\",\"attributes\":{\"x\":{\"type\":\"field\",\"field\":\"Time Period\"},\"width\":{\"type\":\"value\",\"value\":0.8},\"top\":{\"type\":\"field\",\"field\":\"Engagements\"},\"line_color\":{\"type\":\"value\",\"value\":\"#99CCFF\"},\"line_alpha\":{\"type\":\"value\",\"value\":0.1},\"fill_color\":{\"type\":\"value\",\"value\":\"#99CCFF\"},\"fill_alpha\":{\"type\":\"value\",\"value\":0.1},\"hatch_color\":{\"type\":\"value\",\"value\":\"#99CCFF\"},\"hatch_alpha\":{\"type\":\"value\",\"value\":0.1}}},\"muted_glyph\":{\"type\":\"object\",\"name\":\"VBar\",\"id\":\"p1121\",\"attributes\":{\"x\":{\"type\":\"field\",\"field\":\"Time Period\"},\"width\":{\"type\":\"value\",\"value\":0.8},\"top\":{\"type\":\"field\",\"field\":\"Engagements\"},\"line_color\":{\"type\":\"value\",\"value\":\"#99CCFF\"},\"line_alpha\":{\"type\":\"value\",\"value\":0.2},\"fill_color\":{\"type\":\"value\",\"value\":\"#99CCFF\"},\"fill_alpha\":{\"type\":\"value\",\"value\":0.2},\"hatch_color\":{\"type\":\"value\",\"value\":\"#99CCFF\"},\"hatch_alpha\":{\"type\":\"value\",\"value\":0.2}}}}}],\"toolbar\":{\"type\":\"object\",\"name\":\"Toolbar\",\"id\":\"p1092\",\"attributes\":{\"tools\":[{\"id\":\"p1106\"},{\"id\":\"p1107\"},{\"id\":\"p1108\"},{\"type\":\"object\",\"name\":\"SaveTool\",\"id\":\"p1110\"},{\"id\":\"p1111\"},{\"id\":\"p1112\"}]}},\"toolbar_location\":null,\"left\":[{\"type\":\"object\",\"name\":\"LinearAxis\",\"id\":\"p1101\",\"attributes\":{\"ticker\":{\"type\":\"object\",\"name\":\"BasicTicker\",\"id\":\"p1102\",\"attributes\":{\"mantissas\":[1,2,5]}},\"formatter\":{\"type\":\"object\",\"name\":\"BasicTickFormatter\",\"id\":\"p1103\"},\"axis_label\":\"Average Engagement\",\"major_label_policy\":{\"type\":\"object\",\"name\":\"AllLabels\",\"id\":\"p1104\"},\"major_tick_out\":0,\"minor_tick_out\":0}}],\"below\":[{\"type\":\"object\",\"name\":\"CategoricalAxis\",\"id\":\"p1096\",\"attributes\":{\"ticker\":{\"type\":\"object\",\"name\":\"CategoricalTicker\",\"id\":\"p1097\"},\"formatter\":{\"type\":\"object\",\"name\":\"CategoricalTickFormatter\",\"id\":\"p1098\"},\"major_label_policy\":{\"type\":\"object\",\"name\":\"AllLabels\",\"id\":\"p1099\"},\"major_tick_out\":0}}],\"center\":[{\"type\":\"object\",\"name\":\"Grid\",\"id\":\"p1100\",\"attributes\":{\"axis\":{\"id\":\"p1096\"},\"grid_line_color\":null}},{\"type\":\"object\",\"name\":\"Grid\",\"id\":\"p1105\",\"attributes\":{\"dimension\":1,\"axis\":{\"id\":\"p1101\"}}}]}},0,1],[{\"type\":\"object\",\"name\":\"Figure\",\"id\":\"p1125\",\"attributes\":{\"width\":400,\"height\":300,\"x_range\":{\"type\":\"object\",\"name\":\"FactorRange\",\"id\":\"p1135\",\"attributes\":{\"factors\":[\"morning\",\"afternoon\",\"evening\"]}},\"y_range\":{\"type\":\"object\",\"name\":\"DataRange1d\",\"id\":\"p1127\",\"attributes\":{\"start\":0,\"end\":500}},\"x_scale\":{\"type\":\"object\",\"name\":\"CategoricalScale\",\"id\":\"p1136\"},\"y_scale\":{\"type\":\"object\",\"name\":\"LinearScale\",\"id\":\"p1137\"},\"title\":{\"type\":\"object\",\"name\":\"Title\",\"id\":\"p1128\",\"attributes\":{\"text\":\"Photos\"}},\"renderers\":[{\"type\":\"object\",\"name\":\"GlyphRenderer\",\"id\":\"p1164\",\"attributes\":{\"data_source\":{\"type\":\"object\",\"name\":\"ColumnDataSource\",\"id\":\"p1155\",\"attributes\":{\"selected\":{\"type\":\"object\",\"name\":\"Selection\",\"id\":\"p1156\",\"attributes\":{\"indices\":[],\"line_indices\":[]}},\"selection_policy\":{\"type\":\"object\",\"name\":\"UnionRenderers\",\"id\":\"p1157\"},\"data\":{\"type\":\"map\",\"entries\":[[\"index\",{\"type\":\"ndarray\",\"array\":{\"type\":\"bytes\",\"data\":\"BAAAAAUAAAAGAAAA\"},\"shape\":[3],\"dtype\":\"int32\",\"order\":\"little\"}],[\"Content Type\",{\"type\":\"ndarray\",\"array\":[\"Photo\",\"Photo\",\"Photo\"],\"shape\":[3],\"dtype\":\"object\",\"order\":\"little\"}],[\"Time Period\",{\"type\":\"ndarray\",\"array\":[\"morning\",\"afternoon\",\"evening\"],\"shape\":[3],\"dtype\":\"object\",\"order\":\"little\"}],[\"Engagements\",{\"type\":\"ndarray\",\"array\":{\"type\":\"bytes\",\"data\":\"vFJvUXzPRUBiIfJ6tXxMQA/baVN8Hk5A\"},\"shape\":[3],\"dtype\":\"float64\",\"order\":\"little\"}]]}}},\"view\":{\"type\":\"object\",\"name\":\"CDSView\",\"id\":\"p1165\",\"attributes\":{\"filter\":{\"type\":\"object\",\"name\":\"AllIndices\",\"id\":\"p1166\"}}},\"glyph\":{\"type\":\"object\",\"name\":\"VBar\",\"id\":\"p1161\",\"attributes\":{\"x\":{\"type\":\"field\",\"field\":\"Time Period\"},\"width\":{\"type\":\"value\",\"value\":0.8},\"top\":{\"type\":\"field\",\"field\":\"Engagements\"},\"line_color\":{\"type\":\"value\",\"value\":\"#99CCFF\"},\"fill_color\":{\"type\":\"value\",\"value\":\"#99CCFF\"},\"hatch_color\":{\"type\":\"value\",\"value\":\"#99CCFF\"}}},\"nonselection_glyph\":{\"type\":\"object\",\"name\":\"VBar\",\"id\":\"p1162\",\"attributes\":{\"x\":{\"type\":\"field\",\"field\":\"Time Period\"},\"width\":{\"type\":\"value\",\"value\":0.8},\"top\":{\"type\":\"field\",\"field\":\"Engagements\"},\"line_color\":{\"type\":\"value\",\"value\":\"#99CCFF\"},\"line_alpha\":{\"type\":\"value\",\"value\":0.1},\"fill_color\":{\"type\":\"value\",\"value\":\"#99CCFF\"},\"fill_alpha\":{\"type\":\"value\",\"value\":0.1},\"hatch_color\":{\"type\":\"value\",\"value\":\"#99CCFF\"},\"hatch_alpha\":{\"type\":\"value\",\"value\":0.1}}},\"muted_glyph\":{\"type\":\"object\",\"name\":\"VBar\",\"id\":\"p1163\",\"attributes\":{\"x\":{\"type\":\"field\",\"field\":\"Time Period\"},\"width\":{\"type\":\"value\",\"value\":0.8},\"top\":{\"type\":\"field\",\"field\":\"Engagements\"},\"line_color\":{\"type\":\"value\",\"value\":\"#99CCFF\"},\"line_alpha\":{\"type\":\"value\",\"value\":0.2},\"fill_color\":{\"type\":\"value\",\"value\":\"#99CCFF\"},\"fill_alpha\":{\"type\":\"value\",\"value\":0.2},\"hatch_color\":{\"type\":\"value\",\"value\":\"#99CCFF\"},\"hatch_alpha\":{\"type\":\"value\",\"value\":0.2}}}}}],\"toolbar\":{\"type\":\"object\",\"name\":\"Toolbar\",\"id\":\"p1134\",\"attributes\":{\"tools\":[{\"id\":\"p1148\"},{\"id\":\"p1149\"},{\"id\":\"p1150\"},{\"type\":\"object\",\"name\":\"SaveTool\",\"id\":\"p1152\"},{\"id\":\"p1153\"},{\"id\":\"p1154\"}]}},\"toolbar_location\":null,\"left\":[{\"type\":\"object\",\"name\":\"LinearAxis\",\"id\":\"p1143\",\"attributes\":{\"ticker\":{\"type\":\"object\",\"name\":\"BasicTicker\",\"id\":\"p1144\",\"attributes\":{\"mantissas\":[1,2,5]}},\"formatter\":{\"type\":\"object\",\"name\":\"BasicTickFormatter\",\"id\":\"p1145\"},\"axis_label\":\"Average Engagement\",\"major_label_policy\":{\"type\":\"object\",\"name\":\"AllLabels\",\"id\":\"p1146\"},\"major_tick_out\":0,\"minor_tick_out\":0}}],\"below\":[{\"type\":\"object\",\"name\":\"CategoricalAxis\",\"id\":\"p1138\",\"attributes\":{\"ticker\":{\"type\":\"object\",\"name\":\"CategoricalTicker\",\"id\":\"p1139\"},\"formatter\":{\"type\":\"object\",\"name\":\"CategoricalTickFormatter\",\"id\":\"p1140\"},\"major_label_policy\":{\"type\":\"object\",\"name\":\"AllLabels\",\"id\":\"p1141\"},\"major_tick_out\":0}}],\"center\":[{\"type\":\"object\",\"name\":\"Grid\",\"id\":\"p1142\",\"attributes\":{\"axis\":{\"id\":\"p1138\"},\"grid_line_color\":null}},{\"type\":\"object\",\"name\":\"Grid\",\"id\":\"p1147\",\"attributes\":{\"dimension\":1,\"axis\":{\"id\":\"p1143\"}}}]}},1,0],[{\"type\":\"object\",\"name\":\"Figure\",\"id\":\"p1167\",\"attributes\":{\"width\":400,\"height\":300,\"x_range\":{\"type\":\"object\",\"name\":\"FactorRange\",\"id\":\"p1177\",\"attributes\":{\"factors\":[\"morning\",\"afternoon\",\"evening\"]}},\"y_range\":{\"type\":\"object\",\"name\":\"DataRange1d\",\"id\":\"p1169\",\"attributes\":{\"start\":0,\"end\":500}},\"x_scale\":{\"type\":\"object\",\"name\":\"CategoricalScale\",\"id\":\"p1178\"},\"y_scale\":{\"type\":\"object\",\"name\":\"LinearScale\",\"id\":\"p1179\"},\"title\":{\"type\":\"object\",\"name\":\"Title\",\"id\":\"p1170\",\"attributes\":{\"text\":\"Texts\"}},\"renderers\":[{\"type\":\"object\",\"name\":\"GlyphRenderer\",\"id\":\"p1206\",\"attributes\":{\"data_source\":{\"type\":\"object\",\"name\":\"ColumnDataSource\",\"id\":\"p1197\",\"attributes\":{\"selected\":{\"type\":\"object\",\"name\":\"Selection\",\"id\":\"p1198\",\"attributes\":{\"indices\":[],\"line_indices\":[]}},\"selection_policy\":{\"type\":\"object\",\"name\":\"UnionRenderers\",\"id\":\"p1199\"},\"data\":{\"type\":\"map\",\"entries\":[[\"index\",{\"type\":\"ndarray\",\"array\":{\"type\":\"bytes\",\"data\":\"CQAAAAoAAAALAAAA\"},\"shape\":[3],\"dtype\":\"int32\",\"order\":\"little\"}],[\"Content Type\",{\"type\":\"ndarray\",\"array\":[\"Text\",\"Text\",\"Text\"],\"shape\":[3],\"dtype\":\"object\",\"order\":\"little\"}],[\"Time Period\",{\"type\":\"ndarray\",\"array\":[\"morning\",\"afternoon\",\"evening\"],\"shape\":[3],\"dtype\":\"object\",\"order\":\"little\"}],[\"Engagements\",{\"type\":\"ndarray\",\"array\":{\"type\":\"bytes\",\"data\":\"XkN5DeU1MUB8GmG5p5FIQB3UQR3UwUNA\"},\"shape\":[3],\"dtype\":\"float64\",\"order\":\"little\"}]]}}},\"view\":{\"type\":\"object\",\"name\":\"CDSView\",\"id\":\"p1207\",\"attributes\":{\"filter\":{\"type\":\"object\",\"name\":\"AllIndices\",\"id\":\"p1208\"}}},\"glyph\":{\"type\":\"object\",\"name\":\"VBar\",\"id\":\"p1203\",\"attributes\":{\"x\":{\"type\":\"field\",\"field\":\"Time Period\"},\"width\":{\"type\":\"value\",\"value\":0.8},\"top\":{\"type\":\"field\",\"field\":\"Engagements\"},\"line_color\":{\"type\":\"value\",\"value\":\"#99CCFF\"},\"fill_color\":{\"type\":\"value\",\"value\":\"#99CCFF\"},\"hatch_color\":{\"type\":\"value\",\"value\":\"#99CCFF\"}}},\"nonselection_glyph\":{\"type\":\"object\",\"name\":\"VBar\",\"id\":\"p1204\",\"attributes\":{\"x\":{\"type\":\"field\",\"field\":\"Time Period\"},\"width\":{\"type\":\"value\",\"value\":0.8},\"top\":{\"type\":\"field\",\"field\":\"Engagements\"},\"line_color\":{\"type\":\"value\",\"value\":\"#99CCFF\"},\"line_alpha\":{\"type\":\"value\",\"value\":0.1},\"fill_color\":{\"type\":\"value\",\"value\":\"#99CCFF\"},\"fill_alpha\":{\"type\":\"value\",\"value\":0.1},\"hatch_color\":{\"type\":\"value\",\"value\":\"#99CCFF\"},\"hatch_alpha\":{\"type\":\"value\",\"value\":0.1}}},\"muted_glyph\":{\"type\":\"object\",\"name\":\"VBar\",\"id\":\"p1205\",\"attributes\":{\"x\":{\"type\":\"field\",\"field\":\"Time Period\"},\"width\":{\"type\":\"value\",\"value\":0.8},\"top\":{\"type\":\"field\",\"field\":\"Engagements\"},\"line_color\":{\"type\":\"value\",\"value\":\"#99CCFF\"},\"line_alpha\":{\"type\":\"value\",\"value\":0.2},\"fill_color\":{\"type\":\"value\",\"value\":\"#99CCFF\"},\"fill_alpha\":{\"type\":\"value\",\"value\":0.2},\"hatch_color\":{\"type\":\"value\",\"value\":\"#99CCFF\"},\"hatch_alpha\":{\"type\":\"value\",\"value\":0.2}}}}}],\"toolbar\":{\"type\":\"object\",\"name\":\"Toolbar\",\"id\":\"p1176\",\"attributes\":{\"tools\":[{\"id\":\"p1190\"},{\"id\":\"p1191\"},{\"id\":\"p1192\"},{\"type\":\"object\",\"name\":\"SaveTool\",\"id\":\"p1194\"},{\"id\":\"p1195\"},{\"id\":\"p1196\"}]}},\"toolbar_location\":null,\"left\":[{\"type\":\"object\",\"name\":\"LinearAxis\",\"id\":\"p1185\",\"attributes\":{\"ticker\":{\"type\":\"object\",\"name\":\"BasicTicker\",\"id\":\"p1186\",\"attributes\":{\"mantissas\":[1,2,5]}},\"formatter\":{\"type\":\"object\",\"name\":\"BasicTickFormatter\",\"id\":\"p1187\"},\"axis_label\":\"Average Engagement\",\"major_label_policy\":{\"type\":\"object\",\"name\":\"AllLabels\",\"id\":\"p1188\"},\"major_tick_out\":0,\"minor_tick_out\":0}}],\"below\":[{\"type\":\"object\",\"name\":\"CategoricalAxis\",\"id\":\"p1180\",\"attributes\":{\"ticker\":{\"type\":\"object\",\"name\":\"CategoricalTicker\",\"id\":\"p1181\"},\"formatter\":{\"type\":\"object\",\"name\":\"CategoricalTickFormatter\",\"id\":\"p1182\"},\"major_label_policy\":{\"type\":\"object\",\"name\":\"AllLabels\",\"id\":\"p1183\"},\"major_tick_out\":0}}],\"center\":[{\"type\":\"object\",\"name\":\"Grid\",\"id\":\"p1184\",\"attributes\":{\"axis\":{\"id\":\"p1180\"},\"grid_line_color\":null}},{\"type\":\"object\",\"name\":\"Grid\",\"id\":\"p1189\",\"attributes\":{\"dimension\":1,\"axis\":{\"id\":\"p1185\"}}}]}},1,1],[{\"type\":\"object\",\"name\":\"Figure\",\"id\":\"p1209\",\"attributes\":{\"width\":400,\"height\":300,\"x_range\":{\"type\":\"object\",\"name\":\"FactorRange\",\"id\":\"p1219\",\"attributes\":{\"factors\":[\"morning\",\"afternoon\",\"evening\"]}},\"y_range\":{\"type\":\"object\",\"name\":\"DataRange1d\",\"id\":\"p1211\",\"attributes\":{\"start\":0,\"end\":500}},\"x_scale\":{\"type\":\"object\",\"name\":\"CategoricalScale\",\"id\":\"p1220\"},\"y_scale\":{\"type\":\"object\",\"name\":\"LinearScale\",\"id\":\"p1221\"},\"title\":{\"type\":\"object\",\"name\":\"Title\",\"id\":\"p1212\",\"attributes\":{\"text\":\"Videos\"}},\"renderers\":[{\"type\":\"object\",\"name\":\"GlyphRenderer\",\"id\":\"p1248\",\"attributes\":{\"data_source\":{\"type\":\"object\",\"name\":\"ColumnDataSource\",\"id\":\"p1239\",\"attributes\":{\"selected\":{\"type\":\"object\",\"name\":\"Selection\",\"id\":\"p1240\",\"attributes\":{\"indices\":[],\"line_indices\":[]}},\"selection_policy\":{\"type\":\"object\",\"name\":\"UnionRenderers\",\"id\":\"p1241\"},\"data\":{\"type\":\"map\",\"entries\":[[\"index\",{\"type\":\"ndarray\",\"array\":{\"type\":\"bytes\",\"data\":\"DAAAAA0AAAAOAAAA\"},\"shape\":[3],\"dtype\":\"int32\",\"order\":\"little\"}],[\"Content Type\",{\"type\":\"ndarray\",\"array\":[\"Video\",\"Video\",\"Video\"],\"shape\":[3],\"dtype\":\"object\",\"order\":\"little\"}],[\"Time Period\",{\"type\":\"ndarray\",\"array\":[\"morning\",\"afternoon\",\"evening\"],\"shape\":[3],\"dtype\":\"object\",\"order\":\"little\"}],[\"Engagements\",{\"type\":\"ndarray\",\"array\":{\"type\":\"bytes\",\"data\":\"J3ZiJ3biQUB00UUXXXxAQCVJkiRJnkFA\"},\"shape\":[3],\"dtype\":\"float64\",\"order\":\"little\"}]]}}},\"view\":{\"type\":\"object\",\"name\":\"CDSView\",\"id\":\"p1249\",\"attributes\":{\"filter\":{\"type\":\"object\",\"name\":\"AllIndices\",\"id\":\"p1250\"}}},\"glyph\":{\"type\":\"object\",\"name\":\"VBar\",\"id\":\"p1245\",\"attributes\":{\"x\":{\"type\":\"field\",\"field\":\"Time Period\"},\"width\":{\"type\":\"value\",\"value\":0.8},\"top\":{\"type\":\"field\",\"field\":\"Engagements\"},\"line_color\":{\"type\":\"value\",\"value\":\"#99CCFF\"},\"fill_color\":{\"type\":\"value\",\"value\":\"#99CCFF\"},\"hatch_color\":{\"type\":\"value\",\"value\":\"#99CCFF\"}}},\"nonselection_glyph\":{\"type\":\"object\",\"name\":\"VBar\",\"id\":\"p1246\",\"attributes\":{\"x\":{\"type\":\"field\",\"field\":\"Time Period\"},\"width\":{\"type\":\"value\",\"value\":0.8},\"top\":{\"type\":\"field\",\"field\":\"Engagements\"},\"line_color\":{\"type\":\"value\",\"value\":\"#99CCFF\"},\"line_alpha\":{\"type\":\"value\",\"value\":0.1},\"fill_color\":{\"type\":\"value\",\"value\":\"#99CCFF\"},\"fill_alpha\":{\"type\":\"value\",\"value\":0.1},\"hatch_color\":{\"type\":\"value\",\"value\":\"#99CCFF\"},\"hatch_alpha\":{\"type\":\"value\",\"value\":0.1}}},\"muted_glyph\":{\"type\":\"object\",\"name\":\"VBar\",\"id\":\"p1247\",\"attributes\":{\"x\":{\"type\":\"field\",\"field\":\"Time Period\"},\"width\":{\"type\":\"value\",\"value\":0.8},\"top\":{\"type\":\"field\",\"field\":\"Engagements\"},\"line_color\":{\"type\":\"value\",\"value\":\"#99CCFF\"},\"line_alpha\":{\"type\":\"value\",\"value\":0.2},\"fill_color\":{\"type\":\"value\",\"value\":\"#99CCFF\"},\"fill_alpha\":{\"type\":\"value\",\"value\":0.2},\"hatch_color\":{\"type\":\"value\",\"value\":\"#99CCFF\"},\"hatch_alpha\":{\"type\":\"value\",\"value\":0.2}}}}}],\"toolbar\":{\"type\":\"object\",\"name\":\"Toolbar\",\"id\":\"p1218\",\"attributes\":{\"tools\":[{\"id\":\"p1232\"},{\"id\":\"p1233\"},{\"id\":\"p1234\"},{\"type\":\"object\",\"name\":\"SaveTool\",\"id\":\"p1236\"},{\"id\":\"p1237\"},{\"id\":\"p1238\"}]}},\"toolbar_location\":null,\"left\":[{\"type\":\"object\",\"name\":\"LinearAxis\",\"id\":\"p1227\",\"attributes\":{\"ticker\":{\"type\":\"object\",\"name\":\"BasicTicker\",\"id\":\"p1228\",\"attributes\":{\"mantissas\":[1,2,5]}},\"formatter\":{\"type\":\"object\",\"name\":\"BasicTickFormatter\",\"id\":\"p1229\"},\"axis_label\":\"Average Engagement\",\"major_label_policy\":{\"type\":\"object\",\"name\":\"AllLabels\",\"id\":\"p1230\"},\"major_tick_out\":0,\"minor_tick_out\":0}}],\"below\":[{\"type\":\"object\",\"name\":\"CategoricalAxis\",\"id\":\"p1222\",\"attributes\":{\"ticker\":{\"type\":\"object\",\"name\":\"CategoricalTicker\",\"id\":\"p1223\"},\"formatter\":{\"type\":\"object\",\"name\":\"CategoricalTickFormatter\",\"id\":\"p1224\"},\"major_label_policy\":{\"type\":\"object\",\"name\":\"AllLabels\",\"id\":\"p1225\"},\"major_tick_out\":0}}],\"center\":[{\"type\":\"object\",\"name\":\"Grid\",\"id\":\"p1226\",\"attributes\":{\"axis\":{\"id\":\"p1222\"},\"grid_line_color\":null}},{\"type\":\"object\",\"name\":\"Grid\",\"id\":\"p1231\",\"attributes\":{\"dimension\":1,\"axis\":{\"id\":\"p1227\"}}}]}},2,0]]}}]}};\n",
       "  const render_items = [{\"docid\":\"67fab57e-038e-4cf5-8b73-a5ef8d6f1de9\",\"roots\":{\"p1258\":\"fe384089-ee4c-4c79-bac9-3504a53a302b\"},\"root_ids\":[\"p1258\"]}];\n",
       "  root.Bokeh.embed.embed_items_notebook(docs_json, render_items);\n",
       "  }\n",
       "  if (root.Bokeh !== undefined) {\n",
       "    embed_document(root);\n",
       "  } else {\n",
       "    let attempts = 0;\n",
       "    const timer = setInterval(function(root) {\n",
       "      if (root.Bokeh !== undefined) {\n",
       "        clearInterval(timer);\n",
       "        embed_document(root);\n",
       "      } else {\n",
       "        attempts++;\n",
       "        if (attempts > 100) {\n",
       "          clearInterval(timer);\n",
       "          console.log(\"Bokeh: ERROR: Unable to run BokehJS code because BokehJS library is missing\");\n",
       "        }\n",
       "      }\n",
       "    }, 10, root)\n",
       "  }\n",
       "})(window);"
      ],
      "application/vnd.bokehjs_exec.v0+json": ""
     },
     "metadata": {
      "application/vnd.bokehjs_exec.v0+json": {
       "id": "p1258"
      }
     },
     "output_type": "display_data"
    }
   ],
   "source": [
    "# import the gridplot function to display the plots in a gridplot\n",
    "from bokeh.layouts import gridplot\n",
    "\n",
    "# create an empty list and append the bar plots in list\n",
    "plots = []\n",
    "for c in content:\n",
    "    plot = plot_bar(c)\n",
    "    plots.append(plot)\n",
    "\n",
    "# create a 2x2 layout for the plots and display it\n",
    "layout = gridplot(plots, ncols=2, toolbar_location=None)\n",
    "show(layout)"
   ]
  },
  {
   "cell_type": "markdown",
   "id": "5d7c3bc8",
   "metadata": {},
   "source": [
    "### QUESTION: What type of content has the broadest appeal?"
   ]
  },
  {
   "cell_type": "code",
   "execution_count": 33,
   "id": "f9c7c919",
   "metadata": {
    "ExecuteTime": {
     "end_time": "2023-10-08T19:47:31.686705Z",
     "start_time": "2023-10-08T19:47:31.672021Z"
    }
   },
   "outputs": [],
   "source": [
    "# group sliced dataframe by content type and calaculate the mean \"Organic Reach\"\n",
    "org_reach = (\n",
    "    valid_impressions.groupby(\"Content Type\")[\"Organic Impressions\"]\n",
    "    .mean()\n",
    "    .reset_index()\n",
    ")\n",
    "\n",
    "# sort the grouped in descending order\n",
    "org_reach.sort_values(\"Organic Impressions\", ascending=False, inplace=True)"
   ]
  },
  {
   "cell_type": "code",
   "execution_count": 34,
   "id": "95ca1940",
   "metadata": {
    "ExecuteTime": {
     "end_time": "2023-10-08T19:47:32.020982Z",
     "start_time": "2023-10-08T19:47:31.698733Z"
    }
   },
   "outputs": [
    {
     "data": {
      "text/html": [
       "\n",
       "  <div id=\"e5991852-f4e3-4846-af5c-58f5c667c707\" data-root-id=\"p1270\" style=\"display: contents;\"></div>\n"
      ]
     },
     "metadata": {},
     "output_type": "display_data"
    },
    {
     "data": {
      "application/javascript": [
       "(function(root) {\n",
       "  function embed_document(root) {\n",
       "  const docs_json = {\"99dd496a-7ef6-4590-ad4e-7016cb4464c7\":{\"version\":\"3.2.1\",\"title\":\"Bokeh Application\",\"roots\":[{\"type\":\"object\",\"name\":\"Figure\",\"id\":\"p1270\",\"attributes\":{\"height\":400,\"x_range\":{\"type\":\"object\",\"name\":\"FactorRange\",\"id\":\"p1280\",\"attributes\":{\"factors\":[\"Poll\",\"Text\",\"Document\",\"Link\",\"Video\",\"Photo\"]}},\"y_range\":{\"type\":\"object\",\"name\":\"DataRange1d\",\"id\":\"p1272\",\"attributes\":{\"start\":1000}},\"x_scale\":{\"type\":\"object\",\"name\":\"CategoricalScale\",\"id\":\"p1281\"},\"y_scale\":{\"type\":\"object\",\"name\":\"LinearScale\",\"id\":\"p1282\"},\"title\":{\"type\":\"object\",\"name\":\"Title\",\"id\":\"p1273\",\"attributes\":{\"text\":\"Average organic impressions of content\"}},\"renderers\":[{\"type\":\"object\",\"name\":\"GlyphRenderer\",\"id\":\"p1306\",\"attributes\":{\"data_source\":{\"type\":\"object\",\"name\":\"ColumnDataSource\",\"id\":\"p1300\",\"attributes\":{\"selected\":{\"type\":\"object\",\"name\":\"Selection\",\"id\":\"p1301\",\"attributes\":{\"indices\":[],\"line_indices\":[]}},\"selection_policy\":{\"type\":\"object\",\"name\":\"UnionRenderers\",\"id\":\"p1302\"},\"data\":{\"type\":\"map\",\"entries\":[[\"x\",{\"type\":\"ndarray\",\"array\":[\"Poll\",\"Text\",\"Document\",\"Link\",\"Video\",\"Photo\"],\"shape\":[6],\"dtype\":\"object\",\"order\":\"little\"}],[\"top\",{\"type\":\"ndarray\",\"array\":{\"type\":\"bytes\",\"data\":\"AAAAAEDV1UA7sRM78YKXQAAAAAAAeJZAAAAAAIAhlUBu8hyg3ZmTQFE/woEMFJBA\"},\"shape\":[6],\"dtype\":\"float64\",\"order\":\"little\"}]]}}},\"view\":{\"type\":\"object\",\"name\":\"CDSView\",\"id\":\"p1307\",\"attributes\":{\"filter\":{\"type\":\"object\",\"name\":\"AllIndices\",\"id\":\"p1308\"}}},\"glyph\":{\"type\":\"object\",\"name\":\"VBar\",\"id\":\"p1303\",\"attributes\":{\"x\":{\"type\":\"field\",\"field\":\"x\"},\"width\":{\"type\":\"value\",\"value\":0.8},\"top\":{\"type\":\"field\",\"field\":\"top\"},\"line_color\":{\"type\":\"value\",\"value\":\"#1f77b4\"},\"fill_color\":{\"type\":\"value\",\"value\":\"#1f77b4\"}}},\"nonselection_glyph\":{\"type\":\"object\",\"name\":\"VBar\",\"id\":\"p1304\",\"attributes\":{\"x\":{\"type\":\"field\",\"field\":\"x\"},\"width\":{\"type\":\"value\",\"value\":0.8},\"top\":{\"type\":\"field\",\"field\":\"top\"},\"line_color\":{\"type\":\"value\",\"value\":\"#1f77b4\"},\"line_alpha\":{\"type\":\"value\",\"value\":0.1},\"fill_color\":{\"type\":\"value\",\"value\":\"#1f77b4\"},\"fill_alpha\":{\"type\":\"value\",\"value\":0.1},\"hatch_alpha\":{\"type\":\"value\",\"value\":0.1}}},\"muted_glyph\":{\"type\":\"object\",\"name\":\"VBar\",\"id\":\"p1305\",\"attributes\":{\"x\":{\"type\":\"field\",\"field\":\"x\"},\"width\":{\"type\":\"value\",\"value\":0.8},\"top\":{\"type\":\"field\",\"field\":\"top\"},\"line_color\":{\"type\":\"value\",\"value\":\"#1f77b4\"},\"line_alpha\":{\"type\":\"value\",\"value\":0.2},\"fill_color\":{\"type\":\"value\",\"value\":\"#1f77b4\"},\"fill_alpha\":{\"type\":\"value\",\"value\":0.2},\"hatch_alpha\":{\"type\":\"value\",\"value\":0.2}}}}}],\"toolbar\":{\"type\":\"object\",\"name\":\"Toolbar\",\"id\":\"p1279\",\"attributes\":{\"tools\":[{\"type\":\"object\",\"name\":\"PanTool\",\"id\":\"p1293\"},{\"type\":\"object\",\"name\":\"WheelZoomTool\",\"id\":\"p1294\"},{\"type\":\"object\",\"name\":\"BoxZoomTool\",\"id\":\"p1295\",\"attributes\":{\"overlay\":{\"type\":\"object\",\"name\":\"BoxAnnotation\",\"id\":\"p1296\",\"attributes\":{\"syncable\":false,\"level\":\"overlay\",\"visible\":false,\"left_units\":\"canvas\",\"right_units\":\"canvas\",\"bottom_units\":\"canvas\",\"top_units\":\"canvas\",\"line_color\":\"black\",\"line_alpha\":1.0,\"line_width\":2,\"line_dash\":[4,4],\"fill_color\":\"lightgrey\",\"fill_alpha\":0.5}}}},{\"type\":\"object\",\"name\":\"SaveTool\",\"id\":\"p1297\"},{\"type\":\"object\",\"name\":\"ResetTool\",\"id\":\"p1298\"},{\"type\":\"object\",\"name\":\"HelpTool\",\"id\":\"p1299\"}]}},\"left\":[{\"type\":\"object\",\"name\":\"LinearAxis\",\"id\":\"p1288\",\"attributes\":{\"ticker\":{\"type\":\"object\",\"name\":\"BasicTicker\",\"id\":\"p1289\",\"attributes\":{\"mantissas\":[1,2,5]}},\"formatter\":{\"type\":\"object\",\"name\":\"BasicTickFormatter\",\"id\":\"p1290\"},\"axis_label\":\"Average Organic Impressions\",\"major_label_policy\":{\"type\":\"object\",\"name\":\"AllLabels\",\"id\":\"p1291\"},\"minor_tick_out\":0}}],\"below\":[{\"type\":\"object\",\"name\":\"CategoricalAxis\",\"id\":\"p1283\",\"attributes\":{\"ticker\":{\"type\":\"object\",\"name\":\"CategoricalTicker\",\"id\":\"p1284\"},\"formatter\":{\"type\":\"object\",\"name\":\"CategoricalTickFormatter\",\"id\":\"p1285\"},\"major_label_policy\":{\"type\":\"object\",\"name\":\"AllLabels\",\"id\":\"p1286\"}}}],\"center\":[{\"type\":\"object\",\"name\":\"Grid\",\"id\":\"p1287\",\"attributes\":{\"axis\":{\"id\":\"p1283\"}}},{\"type\":\"object\",\"name\":\"Grid\",\"id\":\"p1292\",\"attributes\":{\"dimension\":1,\"axis\":{\"id\":\"p1288\"}}}]}}]}};\n",
       "  const render_items = [{\"docid\":\"99dd496a-7ef6-4590-ad4e-7016cb4464c7\",\"roots\":{\"p1270\":\"e5991852-f4e3-4846-af5c-58f5c667c707\"},\"root_ids\":[\"p1270\"]}];\n",
       "  root.Bokeh.embed.embed_items_notebook(docs_json, render_items);\n",
       "  }\n",
       "  if (root.Bokeh !== undefined) {\n",
       "    embed_document(root);\n",
       "  } else {\n",
       "    let attempts = 0;\n",
       "    const timer = setInterval(function(root) {\n",
       "      if (root.Bokeh !== undefined) {\n",
       "        clearInterval(timer);\n",
       "        embed_document(root);\n",
       "      } else {\n",
       "        attempts++;\n",
       "        if (attempts > 100) {\n",
       "          clearInterval(timer);\n",
       "          console.log(\"Bokeh: ERROR: Unable to run BokehJS code because BokehJS library is missing\");\n",
       "        }\n",
       "      }\n",
       "    }, 10, root)\n",
       "  }\n",
       "})(window);"
      ],
      "application/vnd.bokehjs_exec.v0+json": ""
     },
     "metadata": {
      "application/vnd.bokehjs_exec.v0+json": {
       "id": "p1270"
      }
     },
     "output_type": "display_data"
    }
   ],
   "source": [
    "# create a bar chart showing the average organic reach by content type\n",
    "from bokeh.plotting import figure, show\n",
    "\n",
    "x_range = org_reach[\"Content Type\"]\n",
    "y_range = org_reach[\"Organic Impressions\"]\n",
    "\n",
    "p = figure(\n",
    "    title=\"Average organic impressions of content\",\n",
    "    x_range=x_range,\n",
    "    height=400,\n",
    "    width=600,\n",
    "    y_axis_label=\"Average Organic Impressions\",\n",
    ")\n",
    "\n",
    "p.vbar(x=x_range, top=y_range, width=0.8)\n",
    "\n",
    "p.yaxis.minor_tick_out = 0\n",
    "p.y_range.start = 1000\n",
    "\n",
    "show(p)"
   ]
  },
  {
   "cell_type": "markdown",
   "id": "ce49dba4",
   "metadata": {},
   "source": [
    "### What type of contents have the most authentic engagements?"
   ]
  },
  {
   "cell_type": "code",
   "execution_count": 35,
   "id": "fd95e577",
   "metadata": {
    "ExecuteTime": {
     "end_time": "2023-10-08T19:47:32.035057Z",
     "start_time": "2023-10-08T19:47:32.026838Z"
    }
   },
   "outputs": [],
   "source": [
    "# group sliced dataframe by content type and calaculate the mean \"Organic Reach\"\n",
    "org_reach = (\n",
    "    valid_impressions.groupby(\"Content Type\")[\"Organic Impressions\"]\n",
    "    .mean()\n",
    "    .reset_index()\n",
    ")\n",
    "\n",
    "# sort the grouped in descending order\n",
    "org_reach.sort_values(\"Organic Impressions\", ascending=False, inplace=True)"
   ]
  },
  {
   "cell_type": "code",
   "execution_count": 36,
   "id": "e763889a",
   "metadata": {
    "ExecuteTime": {
     "end_time": "2023-10-08T19:47:32.195121Z",
     "start_time": "2023-10-08T19:47:32.038786Z"
    }
   },
   "outputs": [
    {
     "data": {
      "text/html": [
       "\n",
       "  <div id=\"b6e4bd39-178b-4e77-a8bc-aa24428c7342\" data-root-id=\"p1310\" style=\"display: contents;\"></div>\n"
      ]
     },
     "metadata": {},
     "output_type": "display_data"
    },
    {
     "data": {
      "application/javascript": [
       "(function(root) {\n",
       "  function embed_document(root) {\n",
       "  const docs_json = {\"d25625e0-7c2e-4b9b-a14d-38c1175b9cb2\":{\"version\":\"3.2.1\",\"title\":\"Bokeh Application\",\"roots\":[{\"type\":\"object\",\"name\":\"Figure\",\"id\":\"p1310\",\"attributes\":{\"height\":400,\"x_range\":{\"type\":\"object\",\"name\":\"FactorRange\",\"id\":\"p1320\",\"attributes\":{\"factors\":[\"Poll\",\"Text\",\"Document\",\"Link\",\"Video\",\"Photo\"]}},\"y_range\":{\"type\":\"object\",\"name\":\"DataRange1d\",\"id\":\"p1312\",\"attributes\":{\"start\":1000}},\"x_scale\":{\"type\":\"object\",\"name\":\"CategoricalScale\",\"id\":\"p1321\"},\"y_scale\":{\"type\":\"object\",\"name\":\"LinearScale\",\"id\":\"p1322\"},\"title\":{\"type\":\"object\",\"name\":\"Title\",\"id\":\"p1313\",\"attributes\":{\"text\":\"Average organic impressions of content\"}},\"renderers\":[{\"type\":\"object\",\"name\":\"GlyphRenderer\",\"id\":\"p1346\",\"attributes\":{\"data_source\":{\"type\":\"object\",\"name\":\"ColumnDataSource\",\"id\":\"p1340\",\"attributes\":{\"selected\":{\"type\":\"object\",\"name\":\"Selection\",\"id\":\"p1341\",\"attributes\":{\"indices\":[],\"line_indices\":[]}},\"selection_policy\":{\"type\":\"object\",\"name\":\"UnionRenderers\",\"id\":\"p1342\"},\"data\":{\"type\":\"map\",\"entries\":[[\"x\",{\"type\":\"ndarray\",\"array\":[\"Poll\",\"Text\",\"Document\",\"Link\",\"Video\",\"Photo\"],\"shape\":[6],\"dtype\":\"object\",\"order\":\"little\"}],[\"top\",{\"type\":\"ndarray\",\"array\":{\"type\":\"bytes\",\"data\":\"AAAAAEDV1UA7sRM78YKXQAAAAAAAeJZAAAAAAIAhlUBu8hyg3ZmTQFE/woEMFJBA\"},\"shape\":[6],\"dtype\":\"float64\",\"order\":\"little\"}]]}}},\"view\":{\"type\":\"object\",\"name\":\"CDSView\",\"id\":\"p1347\",\"attributes\":{\"filter\":{\"type\":\"object\",\"name\":\"AllIndices\",\"id\":\"p1348\"}}},\"glyph\":{\"type\":\"object\",\"name\":\"VBar\",\"id\":\"p1343\",\"attributes\":{\"x\":{\"type\":\"field\",\"field\":\"x\"},\"width\":{\"type\":\"value\",\"value\":0.8},\"top\":{\"type\":\"field\",\"field\":\"top\"},\"line_color\":{\"type\":\"value\",\"value\":\"#1f77b4\"},\"fill_color\":{\"type\":\"value\",\"value\":\"#1f77b4\"}}},\"nonselection_glyph\":{\"type\":\"object\",\"name\":\"VBar\",\"id\":\"p1344\",\"attributes\":{\"x\":{\"type\":\"field\",\"field\":\"x\"},\"width\":{\"type\":\"value\",\"value\":0.8},\"top\":{\"type\":\"field\",\"field\":\"top\"},\"line_color\":{\"type\":\"value\",\"value\":\"#1f77b4\"},\"line_alpha\":{\"type\":\"value\",\"value\":0.1},\"fill_color\":{\"type\":\"value\",\"value\":\"#1f77b4\"},\"fill_alpha\":{\"type\":\"value\",\"value\":0.1},\"hatch_alpha\":{\"type\":\"value\",\"value\":0.1}}},\"muted_glyph\":{\"type\":\"object\",\"name\":\"VBar\",\"id\":\"p1345\",\"attributes\":{\"x\":{\"type\":\"field\",\"field\":\"x\"},\"width\":{\"type\":\"value\",\"value\":0.8},\"top\":{\"type\":\"field\",\"field\":\"top\"},\"line_color\":{\"type\":\"value\",\"value\":\"#1f77b4\"},\"line_alpha\":{\"type\":\"value\",\"value\":0.2},\"fill_color\":{\"type\":\"value\",\"value\":\"#1f77b4\"},\"fill_alpha\":{\"type\":\"value\",\"value\":0.2},\"hatch_alpha\":{\"type\":\"value\",\"value\":0.2}}}}}],\"toolbar\":{\"type\":\"object\",\"name\":\"Toolbar\",\"id\":\"p1319\",\"attributes\":{\"tools\":[{\"type\":\"object\",\"name\":\"PanTool\",\"id\":\"p1333\"},{\"type\":\"object\",\"name\":\"WheelZoomTool\",\"id\":\"p1334\"},{\"type\":\"object\",\"name\":\"BoxZoomTool\",\"id\":\"p1335\",\"attributes\":{\"overlay\":{\"type\":\"object\",\"name\":\"BoxAnnotation\",\"id\":\"p1336\",\"attributes\":{\"syncable\":false,\"level\":\"overlay\",\"visible\":false,\"left_units\":\"canvas\",\"right_units\":\"canvas\",\"bottom_units\":\"canvas\",\"top_units\":\"canvas\",\"line_color\":\"black\",\"line_alpha\":1.0,\"line_width\":2,\"line_dash\":[4,4],\"fill_color\":\"lightgrey\",\"fill_alpha\":0.5}}}},{\"type\":\"object\",\"name\":\"SaveTool\",\"id\":\"p1337\"},{\"type\":\"object\",\"name\":\"ResetTool\",\"id\":\"p1338\"},{\"type\":\"object\",\"name\":\"HelpTool\",\"id\":\"p1339\"}]}},\"left\":[{\"type\":\"object\",\"name\":\"LinearAxis\",\"id\":\"p1328\",\"attributes\":{\"ticker\":{\"type\":\"object\",\"name\":\"BasicTicker\",\"id\":\"p1329\",\"attributes\":{\"mantissas\":[1,2,5]}},\"formatter\":{\"type\":\"object\",\"name\":\"BasicTickFormatter\",\"id\":\"p1330\"},\"axis_label\":\"Average Organic Impression\",\"major_label_policy\":{\"type\":\"object\",\"name\":\"AllLabels\",\"id\":\"p1331\"},\"minor_tick_out\":0}}],\"below\":[{\"type\":\"object\",\"name\":\"CategoricalAxis\",\"id\":\"p1323\",\"attributes\":{\"ticker\":{\"type\":\"object\",\"name\":\"CategoricalTicker\",\"id\":\"p1324\"},\"formatter\":{\"type\":\"object\",\"name\":\"CategoricalTickFormatter\",\"id\":\"p1325\"},\"major_label_policy\":{\"type\":\"object\",\"name\":\"AllLabels\",\"id\":\"p1326\"}}}],\"center\":[{\"type\":\"object\",\"name\":\"Grid\",\"id\":\"p1327\",\"attributes\":{\"axis\":{\"id\":\"p1323\"}}},{\"type\":\"object\",\"name\":\"Grid\",\"id\":\"p1332\",\"attributes\":{\"dimension\":1,\"axis\":{\"id\":\"p1328\"}}}]}}]}};\n",
       "  const render_items = [{\"docid\":\"d25625e0-7c2e-4b9b-a14d-38c1175b9cb2\",\"roots\":{\"p1310\":\"b6e4bd39-178b-4e77-a8bc-aa24428c7342\"},\"root_ids\":[\"p1310\"]}];\n",
       "  root.Bokeh.embed.embed_items_notebook(docs_json, render_items);\n",
       "  }\n",
       "  if (root.Bokeh !== undefined) {\n",
       "    embed_document(root);\n",
       "  } else {\n",
       "    let attempts = 0;\n",
       "    const timer = setInterval(function(root) {\n",
       "      if (root.Bokeh !== undefined) {\n",
       "        clearInterval(timer);\n",
       "        embed_document(root);\n",
       "      } else {\n",
       "        attempts++;\n",
       "        if (attempts > 100) {\n",
       "          clearInterval(timer);\n",
       "          console.log(\"Bokeh: ERROR: Unable to run BokehJS code because BokehJS library is missing\");\n",
       "        }\n",
       "      }\n",
       "    }, 10, root)\n",
       "  }\n",
       "})(window);"
      ],
      "application/vnd.bokehjs_exec.v0+json": ""
     },
     "metadata": {
      "application/vnd.bokehjs_exec.v0+json": {
       "id": "p1310"
      }
     },
     "output_type": "display_data"
    }
   ],
   "source": [
    "# create a bar chart showing the average organic reach by content type\n",
    "from bokeh.plotting import figure, show\n",
    "\n",
    "x_range = org_reach[\"Content Type\"]\n",
    "y_range = org_reach[\"Organic Impressions\"]\n",
    "\n",
    "p = figure(\n",
    "    title=\"Average organic impressions of content\",\n",
    "    x_range=x_range,\n",
    "    height=400,\n",
    "    width=600,\n",
    "    y_axis_label=\"Average Organic Impression\",\n",
    ")\n",
    "\n",
    "p.vbar(x=x_range, top=y_range, width=0.8)\n",
    "\n",
    "p.yaxis.minor_tick_out = 0\n",
    "p.y_range.start = 1000\n",
    "\n",
    "show(p)"
   ]
  },
  {
   "cell_type": "code",
   "execution_count": null,
   "id": "c6245927",
   "metadata": {},
   "outputs": [],
   "source": []
  }
 ],
 "metadata": {
  "kernelspec": {
   "display_name": "Python 3 (ipykernel)",
   "language": "python",
   "name": "python3"
  },
  "language_info": {
   "codemirror_mode": {
    "name": "ipython",
    "version": 3
   },
   "file_extension": ".py",
   "mimetype": "text/x-python",
   "name": "python",
   "nbconvert_exporter": "python",
   "pygments_lexer": "ipython3",
   "version": "3.10.9"
  }
 },
 "nbformat": 4,
 "nbformat_minor": 5
}
