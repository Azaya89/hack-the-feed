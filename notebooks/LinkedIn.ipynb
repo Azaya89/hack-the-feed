{
 "cells": [
  {
   "cell_type": "code",
   "execution_count": null,
   "id": "1a24e1a0",
   "metadata": {
    "ExecuteTime": {
     "end_time": "2023-10-08T19:47:27.569884Z",
     "start_time": "2023-10-08T19:47:26.211803Z"
    }
   },
   "outputs": [],
   "source": [
    "import pandas as pd\n",
    "import numpy as np\n",
    "\n",
    "file = \"../data/linkedin.csv\"\n",
    "\n",
    "df = pd.read_csv(file, low_memory=False, parse_dates=[0])\n",
    "\n",
    "df.head(2)"
   ]
  },
  {
   "cell_type": "code",
   "execution_count": null,
   "id": "77b5e8dc",
   "metadata": {
    "ExecuteTime": {
     "end_time": "2023-10-08T19:47:27.626087Z",
     "start_time": "2023-10-08T19:47:27.574791Z"
    }
   },
   "outputs": [],
   "source": [
    "# Optimized the date column for data cleaning\n",
    "df[\"Date\"] = pd.to_datetime(df[\"Date\"], format=\"%m/%d/%Y %I:%M %p\")"
   ]
  },
  {
   "cell_type": "code",
   "execution_count": null,
   "id": "524757be",
   "metadata": {
    "ExecuteTime": {
     "end_time": "2023-10-08T19:47:27.639646Z",
     "start_time": "2023-10-08T19:47:27.631362Z"
    }
   },
   "outputs": [],
   "source": [
    "# increase pandas default max_rows so I can view all columns at once\n",
    "pd.options.display.max_rows = 200\n",
    "pd.options.display.max_columns = 200"
   ]
  },
  {
   "cell_type": "code",
   "execution_count": null,
   "id": "5e1a22d4",
   "metadata": {
    "ExecuteTime": {
     "end_time": "2023-10-08T19:47:27.661186Z",
     "start_time": "2023-10-08T19:47:27.647100Z"
    }
   },
   "outputs": [],
   "source": [
    "df.shape  # Number of rows and columns befor data cleaning"
   ]
  },
  {
   "cell_type": "code",
   "execution_count": null,
   "id": "dc939d4d",
   "metadata": {
    "ExecuteTime": {
     "end_time": "2023-10-08T19:47:27.703437Z",
     "start_time": "2023-10-08T19:47:27.687195Z"
    }
   },
   "outputs": [],
   "source": [
    "%cd .."
   ]
  },
  {
   "cell_type": "code",
   "execution_count": null,
   "id": "aebd3538",
   "metadata": {
    "ExecuteTime": {
     "end_time": "2023-10-08T19:47:27.735750Z",
     "start_time": "2023-10-08T19:47:27.714563Z"
    }
   },
   "outputs": [],
   "source": [
    "# Data Cleaning\n",
    "from src.clean_data import clean_df"
   ]
  },
  {
   "cell_type": "code",
   "execution_count": null,
   "id": "7c84de7c",
   "metadata": {
    "ExecuteTime": {
     "end_time": "2023-10-08T19:47:28.343705Z",
     "start_time": "2023-10-08T19:47:27.739881Z"
    }
   },
   "outputs": [],
   "source": [
    "linkedin_df = clean_df(df)"
   ]
  },
  {
   "cell_type": "code",
   "execution_count": null,
   "id": "cabaad56",
   "metadata": {
    "ExecuteTime": {
     "end_time": "2023-10-08T19:47:28.374370Z",
     "start_time": "2023-10-08T19:47:28.346574Z"
    }
   },
   "outputs": [],
   "source": [
    "linkedin_df.head()"
   ]
  },
  {
   "cell_type": "code",
   "execution_count": null,
   "id": "bc72d327",
   "metadata": {
    "ExecuteTime": {
     "end_time": "2023-10-08T19:47:28.392670Z",
     "start_time": "2023-10-08T19:47:28.386096Z"
    }
   },
   "outputs": [],
   "source": [
    "linkedin_df.shape  # Number of rows and columns after data cleaning"
   ]
  },
  {
   "cell_type": "code",
   "execution_count": null,
   "id": "2d3c925b",
   "metadata": {
    "ExecuteTime": {
     "end_time": "2023-10-08T19:47:28.426151Z",
     "start_time": "2023-10-08T19:47:28.417370Z"
    }
   },
   "outputs": [],
   "source": [
    "linkedin_df.columns"
   ]
  },
  {
   "cell_type": "code",
   "execution_count": null,
   "id": "2f4f5c2a",
   "metadata": {
    "ExecuteTime": {
     "end_time": "2023-10-08T19:47:28.440096Z",
     "start_time": "2023-10-08T19:47:28.431358Z"
    }
   },
   "outputs": [],
   "source": [
    "features_after_cleaning = list(\n",
    "    linkedin_df.columns\n",
    ")  # list of features after data cleaning"
   ]
  },
  {
   "cell_type": "code",
   "execution_count": null,
   "id": "60ea3521",
   "metadata": {
    "ExecuteTime": {
     "end_time": "2023-10-08T19:47:28.467992Z",
     "start_time": "2023-10-08T19:47:28.451434Z"
    }
   },
   "outputs": [],
   "source": [
    "len(features_after_cleaning)  # Number of features after data cleaning"
   ]
  },
  {
   "cell_type": "code",
   "execution_count": null,
   "id": "76dc4320",
   "metadata": {
    "ExecuteTime": {
     "end_time": "2023-10-08T19:47:28.493959Z",
     "start_time": "2023-10-08T19:47:28.488776Z"
    }
   },
   "outputs": [],
   "source": [
    "list_features = list(df.columns)  # list of features before data cleaning"
   ]
  },
  {
   "cell_type": "code",
   "execution_count": null,
   "id": "3082325f",
   "metadata": {
    "ExecuteTime": {
     "end_time": "2023-10-08T19:47:28.506076Z",
     "start_time": "2023-10-08T19:47:28.499268Z"
    }
   },
   "outputs": [],
   "source": [
    "len(list_features) - len(\n",
    "    features_after_cleaning\n",
    ")  # 126 features did not have values in them"
   ]
  },
  {
   "cell_type": "code",
   "execution_count": null,
   "id": "cd40a195",
   "metadata": {
    "ExecuteTime": {
     "end_time": "2023-10-08T19:47:28.561331Z",
     "start_time": "2023-10-08T19:47:28.510452Z"
    }
   },
   "outputs": [],
   "source": [
    "linkedin_df.info()  # A conscise summary of the cleaned dataframe"
   ]
  },
  {
   "cell_type": "code",
   "execution_count": null,
   "id": "561c6baa",
   "metadata": {
    "ExecuteTime": {
     "end_time": "2023-10-08T19:47:28.596628Z",
     "start_time": "2023-10-08T19:47:28.570280Z"
    }
   },
   "outputs": [],
   "source": [
    "# I need to convert the Engagement Rate (per Impression) data type to floats\n",
    "linkedin_df[\"Engagement Rate (per Impression)\"].tail()"
   ]
  },
  {
   "cell_type": "code",
   "execution_count": null,
   "id": "1055636f",
   "metadata": {
    "ExecuteTime": {
     "end_time": "2023-10-08T19:47:28.670686Z",
     "start_time": "2023-10-08T19:47:28.630080Z"
    }
   },
   "outputs": [],
   "source": [
    "# Remove the '%' sign\n",
    "linkedin_df[\"Engagement Rate (per Impression)\"] = linkedin_df[\n",
    "    \"Engagement Rate (per Impression)\"\n",
    "].str.replace(\"%\", \"\")\n",
    "\n",
    "# Remove the comma ','\n",
    "# insta_df['Engagement Rate (per Impression)'] = insta_df['Engagement Rate (per Impression)'].str.replace(',', '')\n",
    "\n",
    "\n",
    "# Convert to float\n",
    "linkedin_df[\"Engagement Rate (per Impression)\"] = linkedin_df[\n",
    "    \"Engagement Rate (per Impression)\"\n",
    "].astype(float)"
   ]
  },
  {
   "cell_type": "code",
   "execution_count": null,
   "id": "5ee9dd11",
   "metadata": {
    "ExecuteTime": {
     "end_time": "2023-10-08T19:47:28.721290Z",
     "start_time": "2023-10-08T19:47:28.691801Z"
    }
   },
   "outputs": [],
   "source": [
    "linkedin_df.info()  # Confirm the data type change"
   ]
  },
  {
   "cell_type": "markdown",
   "id": "e07fa180",
   "metadata": {},
   "source": [
    "## Analysis and Visualization\n",
    "\n",
    "### Impressions and Reach\n",
    "\n",
    "The following sub-sections provide insights on the Impressions, Reach, and Engagements of the LinkedIn posts.\n",
    "\n",
    "#### QUESTION: What type of content generates the most impressions?"
   ]
  },
  {
   "cell_type": "code",
   "execution_count": null,
   "id": "c04d8fd3",
   "metadata": {
    "ExecuteTime": {
     "end_time": "2023-10-08T19:47:28.763895Z",
     "start_time": "2023-10-08T19:47:28.726053Z"
    }
   },
   "outputs": [],
   "source": [
    "# create a slice of the dataframe containing non-zero values for the `Impression` column.\n",
    "valid_impressions = linkedin_df[\n",
    "    (linkedin_df[\"Impressions\"] != 0) & ~linkedin_df[\"Impressions\"].isna()\n",
    "]\n",
    "\n",
    "# group by `Content Type` and calculate the mean `Impressions for each content type\n",
    "content_df = (\n",
    "    valid_impressions.groupby(\"Content Type\")[\"Impressions\"]\n",
    "    .mean()\n",
    "    .reset_index()\n",
    "    .sort_values(\"Impressions\", ascending=False)\n",
    ")"
   ]
  },
  {
   "cell_type": "code",
   "execution_count": null,
   "id": "f558bf2c",
   "metadata": {
    "ExecuteTime": {
     "end_time": "2023-10-08T19:47:29.700140Z",
     "start_time": "2023-10-08T19:47:28.767151Z"
    }
   },
   "outputs": [],
   "source": [
    "# import necessary plotting libraries\n",
    "from bokeh.io import output_notebook\n",
    "\n",
    "output_notebook()"
   ]
  },
  {
   "cell_type": "code",
   "execution_count": null,
   "id": "f5fbd919",
   "metadata": {
    "ExecuteTime": {
     "end_time": "2023-10-08T19:47:30.054848Z",
     "start_time": "2023-10-08T19:47:29.769593Z"
    },
    "scrolled": true
   },
   "outputs": [],
   "source": [
    "# create a bar chart showing the average impressions by content type\n",
    "from bokeh.plotting import figure, output_file, show\n",
    "\n",
    "x_range = content_df[\"Content Type\"]\n",
    "y_range = content_df[\"Impressions\"]\n",
    "\n",
    "p = figure(\n",
    "    title=\"Average Impressions by Content Type\",\n",
    "    x_range=x_range,\n",
    "    height=400,\n",
    "    width=600,\n",
    "    y_axis_label=\"Average Impression\",\n",
    ")\n",
    "\n",
    "p.vbar(x=x_range, top=y_range, width=0.8)\n",
    "\n",
    "p.yaxis.minor_tick_out = 0\n",
    "p.y_range.start = 1000\n",
    "\n",
    "show(p)"
   ]
  },
  {
   "cell_type": "markdown",
   "id": "6b24eeaa",
   "metadata": {},
   "source": [
    "#### Question: What is the the trend of impressions over the years?"
   ]
  },
  {
   "cell_type": "code",
   "execution_count": null,
   "id": "0532c5d6",
   "metadata": {
    "ExecuteTime": {
     "end_time": "2023-10-08T19:47:30.755889Z",
     "start_time": "2023-10-08T19:47:30.058865Z"
    }
   },
   "outputs": [],
   "source": [
    "# import relevant plotting libraries\n",
    "%matplotlib inline\n",
    "import matplotlib.pyplot as plt\n",
    "\n",
    "plt.style.use(\"seaborn-v0_8-whitegrid\")"
   ]
  },
  {
   "cell_type": "code",
   "execution_count": null,
   "id": "321c9978",
   "metadata": {
    "ExecuteTime": {
     "end_time": "2023-10-08T19:47:30.770309Z",
     "start_time": "2023-10-08T19:47:30.758821Z"
    }
   },
   "outputs": [],
   "source": [
    "# I reseted the index and renamed it to date\n",
    "valid_impressions.reset_index(inplace=True)\n",
    "valid_impressions.rename(columns={\"index\": \"date\"}, inplace=True)"
   ]
  },
  {
   "cell_type": "code",
   "execution_count": null,
   "id": "95aa5398",
   "metadata": {
    "ExecuteTime": {
     "end_time": "2023-10-08T19:47:30.806268Z",
     "start_time": "2023-10-08T19:47:30.776966Z"
    }
   },
   "outputs": [],
   "source": [
    "valid_impressions.head(2)"
   ]
  },
  {
   "cell_type": "code",
   "execution_count": null,
   "id": "568c8763",
   "metadata": {
    "ExecuteTime": {
     "end_time": "2023-10-08T19:47:30.841149Z",
     "start_time": "2023-10-08T19:47:30.828826Z"
    }
   },
   "outputs": [],
   "source": [
    "# Converted the date column to a datetime format\n",
    "valid_impressions[\"Date\"] = pd.to_datetime(valid_impressions[\"Date\"])"
   ]
  },
  {
   "cell_type": "code",
   "execution_count": null,
   "id": "9ea153dc",
   "metadata": {
    "ExecuteTime": {
     "end_time": "2023-10-08T19:47:30.871719Z",
     "start_time": "2023-10-08T19:47:30.848807Z"
    }
   },
   "outputs": [],
   "source": [
    "# Set the date as index\n",
    "valid_impressions.set_index(\"Date\", inplace=True)"
   ]
  },
  {
   "cell_type": "code",
   "execution_count": null,
   "id": "2badbcec",
   "metadata": {
    "ExecuteTime": {
     "end_time": "2023-10-08T19:47:31.227719Z",
     "start_time": "2023-10-08T19:47:30.887494Z"
    }
   },
   "outputs": [],
   "source": [
    "# calculate the mean impressions per month\n",
    "mmi = valid_impressions[\"Impressions\"].resample(\"M\").mean()\n",
    "\n",
    "# forward fill the data for months with empty values and generate a line plot\n",
    "ax = mmi.fillna(method=\"ffill\").plot(title=\"Average Impressions over time\")\n",
    "\n",
    "plt.show();"
   ]
  },
  {
   "cell_type": "markdown",
   "id": "c4eab7c2",
   "metadata": {},
   "source": [
    "#### QUESTION: When is the best time to post on LinkedIn?"
   ]
  },
  {
   "cell_type": "code",
   "execution_count": null,
   "id": "03d805ce",
   "metadata": {
    "ExecuteTime": {
     "end_time": "2023-10-08T19:47:31.257473Z",
     "start_time": "2023-10-08T19:47:31.239883Z"
    }
   },
   "outputs": [],
   "source": [
    "# group the dataframe by content type and time period the post was made\n",
    "cbt = (\n",
    "    valid_impressions.groupby([\"Content Type\", \"Time Period\"])[\"Engagements\"]\n",
    "    .mean()\n",
    "    .reset_index()\n",
    ")\n",
    "\n",
    "time_period_order = [\"morning\", \"afternoon\", \"evening\"]\n",
    "\n",
    "# arrange the time period in order of morning, afternoon, and evening.\n",
    "cbt[\"Time Period\"] = pd.Categorical(\n",
    "    cbt[\"Time Period\"], categories=time_period_order, ordered=True\n",
    ")\n",
    "\n",
    "# sort the grouped dataframe by time period order\n",
    "cbt = cbt.sort_values([\"Content Type\", \"Time Period\"])\n",
    "cbt.reset_index(drop=True, inplace=True)"
   ]
  },
  {
   "cell_type": "code",
   "execution_count": null,
   "id": "8d1ecac6",
   "metadata": {
    "ExecuteTime": {
     "end_time": "2023-10-08T19:47:31.287875Z",
     "start_time": "2023-10-08T19:47:31.261768Z"
    }
   },
   "outputs": [],
   "source": [
    "# The unique contents\n",
    "cbt[\"Content Type\"].unique()"
   ]
  },
  {
   "cell_type": "code",
   "execution_count": null,
   "id": "4c3a8a82",
   "metadata": {
    "ExecuteTime": {
     "end_time": "2023-10-08T19:47:31.305535Z",
     "start_time": "2023-10-08T19:47:31.296919Z"
    }
   },
   "outputs": [],
   "source": [
    "# slice the grouped dataframe into content types\n",
    "document = cbt.iloc[:1]\n",
    "document.name = \"Document\"\n",
    "\n",
    "link = cbt.iloc[1:4]\n",
    "link.name = \"Links\"\n",
    "\n",
    "photo = cbt.iloc[4:7]\n",
    "photo.name = \"Photos\"\n",
    "\n",
    "text = cbt.iloc[9:12]\n",
    "text.name = \"Texts\"\n",
    "\n",
    "video = cbt.iloc[12:]\n",
    "video.name = \"Videos\"\n",
    "\n",
    "content = (document, link, photo, text, video)"
   ]
  },
  {
   "cell_type": "code",
   "execution_count": null,
   "id": "5782fe59",
   "metadata": {
    "ExecuteTime": {
     "end_time": "2023-10-08T19:47:31.330190Z",
     "start_time": "2023-10-08T19:47:31.311306Z"
    }
   },
   "outputs": [],
   "source": [
    "# create a function that plots a Bokeh bar chart for the time period data.\n",
    "def plot_bar(df):\n",
    "    p = figure(title=df.name, x_range=list(df[\"Time Period\"]), height=300, width=400)\n",
    "\n",
    "    p.vbar(x=\"Time Period\", top=\"Engagements\", color=\"#99CCFF\", source=df, width=0.8)\n",
    "\n",
    "    p.axis.major_tick_out = 0\n",
    "\n",
    "    p.xgrid.grid_line_color = None\n",
    "\n",
    "    p.yaxis.axis_label = \"Average Engagement\"\n",
    "    p.yaxis.minor_tick_out = 0\n",
    "    p.y_range.start = 0\n",
    "    p.y_range.end = 500\n",
    "\n",
    "    return p"
   ]
  },
  {
   "cell_type": "code",
   "execution_count": null,
   "id": "23a61229",
   "metadata": {
    "ExecuteTime": {
     "end_time": "2023-10-08T19:47:31.663078Z",
     "start_time": "2023-10-08T19:47:31.340209Z"
    }
   },
   "outputs": [],
   "source": [
    "# import the gridplot function to display the plots in a gridplot\n",
    "from bokeh.layouts import gridplot\n",
    "\n",
    "# create an empty list and append the bar plots in list\n",
    "plots = []\n",
    "for c in content:\n",
    "    plot = plot_bar(c)\n",
    "    plots.append(plot)\n",
    "\n",
    "# create a 2x2 layout for the plots and display it\n",
    "layout = gridplot(plots, ncols=2, toolbar_location=None)\n",
    "show(layout)"
   ]
  },
  {
   "cell_type": "markdown",
   "id": "5d7c3bc8",
   "metadata": {},
   "source": [
    "#### QUESTION: What type of content has the broadest appeal?"
   ]
  },
  {
   "cell_type": "code",
   "execution_count": null,
   "id": "f9c7c919",
   "metadata": {
    "ExecuteTime": {
     "end_time": "2023-10-08T19:47:31.686705Z",
     "start_time": "2023-10-08T19:47:31.672021Z"
    }
   },
   "outputs": [],
   "source": [
    "# group sliced dataframe by content type and calaculate the mean \"Organic Reach\"\n",
    "org_reach = (\n",
    "    valid_impressions.groupby(\"Content Type\")[\"Organic Impressions\"]\n",
    "    .mean()\n",
    "    .reset_index()\n",
    ")\n",
    "\n",
    "# sort the grouped in descending order\n",
    "org_reach.sort_values(\"Organic Impressions\", ascending=False, inplace=True)"
   ]
  },
  {
   "cell_type": "code",
   "execution_count": null,
   "id": "95ca1940",
   "metadata": {
    "ExecuteTime": {
     "end_time": "2023-10-08T19:47:32.020982Z",
     "start_time": "2023-10-08T19:47:31.698733Z"
    }
   },
   "outputs": [],
   "source": [
    "# create a bar chart showing the average organic reach by content type\n",
    "from bokeh.plotting import figure, show\n",
    "\n",
    "x_range = org_reach[\"Content Type\"]\n",
    "y_range = org_reach[\"Organic Impressions\"]\n",
    "\n",
    "p = figure(\n",
    "    title=\"Average organic impressions of content\",\n",
    "    x_range=x_range,\n",
    "    height=400,\n",
    "    width=600,\n",
    "    y_axis_label=\"Average Organic Impressions\",\n",
    ")\n",
    "\n",
    "p.vbar(x=x_range, top=y_range, width=0.8)\n",
    "\n",
    "p.yaxis.minor_tick_out = 0\n",
    "p.y_range.start = 1000\n",
    "\n",
    "show(p)"
   ]
  },
  {
   "cell_type": "markdown",
   "id": "ce49dba4",
   "metadata": {},
   "source": [
    "#### What type of contents have the most authentic engagements?"
   ]
  },
  {
   "cell_type": "code",
   "execution_count": null,
   "id": "fd95e577",
   "metadata": {
    "ExecuteTime": {
     "end_time": "2023-10-08T19:47:32.035057Z",
     "start_time": "2023-10-08T19:47:32.026838Z"
    }
   },
   "outputs": [],
   "source": [
    "# group sliced dataframe by content type and calaculate the mean \"Organic Reach\"\n",
    "org_reach = (\n",
    "    valid_impressions.groupby(\"Content Type\")[\"Organic Impressions\"]\n",
    "    .mean()\n",
    "    .reset_index()\n",
    ")\n",
    "\n",
    "# sort the grouped in descending order\n",
    "org_reach.sort_values(\"Organic Impressions\", ascending=False, inplace=True)"
   ]
  },
  {
   "cell_type": "code",
   "execution_count": null,
   "id": "e763889a",
   "metadata": {
    "ExecuteTime": {
     "end_time": "2023-10-08T19:47:32.195121Z",
     "start_time": "2023-10-08T19:47:32.038786Z"
    }
   },
   "outputs": [],
   "source": [
    "# create a bar chart showing the average organic reach by content type\n",
    "from bokeh.plotting import figure, show\n",
    "\n",
    "x_range = org_reach[\"Content Type\"]\n",
    "y_range = org_reach[\"Organic Impressions\"]\n",
    "\n",
    "p = figure(\n",
    "    title=\"Average organic impressions of content\",\n",
    "    x_range=x_range,\n",
    "    height=400,\n",
    "    width=600,\n",
    "    y_axis_label=\"Average Organic Impression\",\n",
    ")\n",
    "\n",
    "p.vbar(x=x_range, top=y_range, width=0.8)\n",
    "\n",
    "p.yaxis.minor_tick_out = 0\n",
    "p.y_range.start = 1000\n",
    "\n",
    "show(p)"
   ]
  },
  {
   "cell_type": "code",
   "execution_count": null,
   "id": "c6245927",
   "metadata": {},
   "outputs": [],
   "source": []
  }
 ],
 "metadata": {
  "kernelspec": {
   "display_name": "Python 3 (ipykernel)",
   "language": "python",
   "name": "python3"
  },
  "language_info": {
   "codemirror_mode": {
    "name": "ipython",
    "version": 3
   },
   "file_extension": ".py",
   "mimetype": "text/x-python",
   "name": "python",
   "nbconvert_exporter": "python",
   "pygments_lexer": "ipython3",
   "version": "3.11.5"
  }
 },
 "nbformat": 4,
 "nbformat_minor": 5
}
