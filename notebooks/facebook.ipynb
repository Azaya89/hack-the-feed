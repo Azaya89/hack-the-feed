{
 "cells": [
  {
   "cell_type": "code",
   "execution_count": null,
   "id": "f731e0c3",
   "metadata": {
    "scrolled": true
   },
   "outputs": [],
   "source": [
    "import pandas as pd\n",
    "import numpy as np\n",
    "\n",
    "file = \"../data/facebook.csv\"\n",
    "\n",
    "df = pd.read_csv(file, low_memory=False, parse_dates=[0])"
   ]
  },
  {
   "cell_type": "code",
   "execution_count": null,
   "id": "e9c61069",
   "metadata": {},
   "outputs": [],
   "source": [
    "%cd .."
   ]
  },
  {
   "cell_type": "code",
   "execution_count": null,
   "id": "0448184f",
   "metadata": {},
   "outputs": [],
   "source": [
    "from src.clean_data import clean_df"
   ]
  },
  {
   "cell_type": "code",
   "execution_count": null,
   "id": "73c64415",
   "metadata": {},
   "outputs": [],
   "source": [
    "new_df = clean_df(df)\n",
    "new_df.index = pd.to_datetime(new_df.index)\n",
    "new_df.head()"
   ]
  },
  {
   "cell_type": "code",
   "execution_count": null,
   "id": "107d662b",
   "metadata": {},
   "outputs": [],
   "source": [
    "impressions = []\n",
    "views = []\n",
    "clicks = []\n",
    "others = []\n",
    "\n",
    "for col in new_df.columns:\n",
    "    if \"Impressions\" in col or \"Reach\" in col:\n",
    "        impressions.append(col)\n",
    "    elif \"Clicks\" in col:\n",
    "        clicks.append(col)\n",
    "    elif \"Views\" in col:\n",
    "        views.append(col)\n",
    "    else:\n",
    "        others.append(col)"
   ]
  },
  {
   "cell_type": "markdown",
   "id": "5dc40e7d",
   "metadata": {},
   "source": [
    "## Impressions and Reach"
   ]
  },
  {
   "cell_type": "code",
   "execution_count": null,
   "id": "a8f185db",
   "metadata": {
    "scrolled": true
   },
   "outputs": [],
   "source": [
    "valid_impre = new_df[(new_df[\"Impressions\"] != 0) & ~new_df[\"Impressions\"].isna()]\n",
    "\n",
    "con_df = (\n",
    "    valid_impre.groupby(\"Content Type\")[\"Impressions\"]\n",
    "    .mean()\n",
    "    .reset_index()\n",
    "    .sort_values(\"Impressions\")\n",
    ")"
   ]
  },
  {
   "cell_type": "code",
   "execution_count": null,
   "id": "adaf6165",
   "metadata": {},
   "outputs": [],
   "source": [
    "from bokeh.io import output_notebook, export_png\n",
    "\n",
    "output_notebook()"
   ]
  },
  {
   "cell_type": "code",
   "execution_count": null,
   "id": "c01845e6",
   "metadata": {},
   "outputs": [],
   "source": [
    "from bokeh.plotting import figure, show\n",
    "\n",
    "p = figure(\n",
    "    title=\"Average Impression by Content Type\",\n",
    "    x_range=con_df[\"Content Type\"],\n",
    "    height=400,\n",
    "    width=600,\n",
    "    y_axis_label=\"Average Impression\",\n",
    ")\n",
    "\n",
    "p.vbar(x=con_df[\"Content Type\"], top=con_df[\"Impressions\"], width=0.8)\n",
    "\n",
    "p.y_range.start = 1000\n",
    "\n",
    "show(p)"
   ]
  },
  {
   "cell_type": "code",
   "execution_count": null,
   "id": "0fa15ff5",
   "metadata": {},
   "outputs": [],
   "source": [
    "%matplotlib inline\n",
    "import matplotlib.pyplot as plt\n",
    "\n",
    "plt.style.use(\"seaborn-v0_8-whitegrid\")"
   ]
  },
  {
   "cell_type": "code",
   "execution_count": null,
   "id": "aab42576",
   "metadata": {},
   "outputs": [],
   "source": [
    "mmi = valid_impre[\"Impressions\"].resample(\"M\").mean()\n",
    "ax = mmi.fillna(method=\"ffill\").plot(title=\"Average Impressions per month\")\n",
    "\n",
    "plt.savefig(\"docs/avg_month.png\")\n",
    "plt.show();"
   ]
  },
  {
   "cell_type": "code",
   "execution_count": null,
   "id": "736e3cc9",
   "metadata": {
    "scrolled": true
   },
   "outputs": [],
   "source": [
    "cbt = valid_impre.groupby([\"Content Type\", \"Time Period\"])[\"Reach\"].mean().reset_index()\n",
    "\n",
    "time_period_order = [\"morning\", \"afternoon\", \"evening\"]\n",
    "\n",
    "cbt[\"Time Period\"] = pd.Categorical(\n",
    "    cbt[\"Time Period\"], categories=time_period_order, ordered=True\n",
    ")\n",
    "cbt = cbt.sort_values([\"Content Type\", \"Time Period\"])\n",
    "cbt.reset_index(drop=True, inplace=True)"
   ]
  },
  {
   "cell_type": "code",
   "execution_count": null,
   "id": "1ae4c951",
   "metadata": {
    "scrolled": true
   },
   "outputs": [],
   "source": [
    "link = cbt.iloc[:3]\n",
    "link.name = \"Link\"\n",
    "\n",
    "photo = cbt.iloc[3:6]\n",
    "photo.name = \"Photo\"\n",
    "\n",
    "text = cbt.iloc[6:9]\n",
    "text.name = \"Text\"\n",
    "\n",
    "video = cbt.iloc[9:]\n",
    "video.name = \"Video\"\n",
    "\n",
    "content = (link, photo, text, video)"
   ]
  },
  {
   "cell_type": "code",
   "execution_count": null,
   "id": "6ac249d0",
   "metadata": {},
   "outputs": [],
   "source": [
    "def plot_bar(df):\n",
    "    p = figure(title=df.name, x_range=list(df[\"Time Period\"]), height=300, width=400)\n",
    "\n",
    "    p.vbar(x=\"Time Period\", top=\"Reach\", color=\"#99CCFF\", source=df, width=0.8)\n",
    "\n",
    "    p.xgrid.grid_line_color = None\n",
    "    p.xaxis.major_tick_out = 0\n",
    "    p.xaxis.axis_label = \"Time period\"\n",
    "    p.yaxis.axis_label = \"Average Reach\"\n",
    "    p.yaxis.minor_tick_out = 0\n",
    "    p.yaxis.major_tick_out = 0\n",
    "    p.y_range.start = 1000\n",
    "    p.y_range.end = 9000\n",
    "\n",
    "    return p"
   ]
  },
  {
   "cell_type": "code",
   "execution_count": null,
   "id": "de4e3b65",
   "metadata": {
    "scrolled": false
   },
   "outputs": [],
   "source": [
    "from bokeh.layouts import gridplot\n",
    "\n",
    "plots = []\n",
    "for c in content:\n",
    "    plot = plot_bar(c)\n",
    "    plots.append(plot)\n",
    "\n",
    "layout = gridplot(plots, ncols=2, toolbar_location=None)\n",
    "show(layout)"
   ]
  },
  {
   "cell_type": "code",
   "execution_count": null,
   "id": "5ec0bab2",
   "metadata": {},
   "outputs": [],
   "source": []
  }
 ],
 "metadata": {
  "kernelspec": {
   "display_name": "Python 3 (ipykernel)",
   "language": "python",
   "name": "python3"
  },
  "language_info": {
   "codemirror_mode": {
    "name": "ipython",
    "version": 3
   },
   "file_extension": ".py",
   "mimetype": "text/x-python",
   "name": "python",
   "nbconvert_exporter": "python",
   "pygments_lexer": "ipython3",
   "version": "3.11.5"
  }
 },
 "nbformat": 4,
 "nbformat_minor": 5
}
