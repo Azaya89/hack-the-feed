{
 "cells": [
  {
   "cell_type": "code",
   "execution_count": null,
   "id": "f731e0c3",
   "metadata": {},
   "outputs": [],
   "source": [
    "import pandas as pd\n",
    "import numpy as np\n",
    "\n",
    "file = \"../data/facebook.csv\"\n",
    "\n",
    "df = pd.read_csv(file, low_memory=False, parse_dates=[0])\n",
    "\n",
    "df.head()"
   ]
  },
  {
   "cell_type": "code",
   "execution_count": null,
   "id": "a15f713e",
   "metadata": {},
   "outputs": [],
   "source": [
    "def clean_df(df, columns_to_drop=None):\n",
    "    \"\"\"\n",
    "    Cleans and preprocesses a DataFrame.\n",
    "\n",
    "    Args:\n",
    "        df (pd.DataFrame): The DataFrame to be cleaned.\n",
    "        columns_to_drop (list of str, optional): A list of column names to drop from the DataFrame. Default is None.\n",
    "\n",
    "    Returns:\n",
    "        pd.DataFrame: The cleaned DataFrame.\n",
    "    \"\"\"\n",
    "    # Data Validation\n",
    "    if not isinstance(df, pd.DataFrame):\n",
    "        raise ValueError(\"Input 'df' must be a pandas DataFrame.\")\n",
    "\n",
    "    # Convert datetime column to date and time components\n",
    "    df[\"Time\"] = df[\"Date\"].dt.time\n",
    "    df[\"Date\"] = df[\"Date\"].dt.date\n",
    "\n",
    "    # Columns to drop\n",
    "    if columns_to_drop is None:\n",
    "        columns_to_drop = [\"Post Type\", \"Network\", \"Post ID\", \"Profile\"]\n",
    "\n",
    "    # Ensure specified columns to drop exist in DataFrame\n",
    "    non_existent_cols = [col for col in columns_to_drop if col not in df.columns]\n",
    "    if non_existent_cols:\n",
    "        raise ValueError(\n",
    "            f\"Columns to drop do not exist in the DataFrame: {', '.join(non_existent_cols)}\"\n",
    "        )\n",
    "\n",
    "    # Drop specified columns\n",
    "    df = df.drop(columns=columns_to_drop)\n",
    "\n",
    "    # Create 'Time Period' column based on time\n",
    "    time_periods = [\"morning\", \"afternoon\", \"evening\"]\n",
    "    conditions = [\n",
    "        (df[\"Time\"] >= pd.to_datetime(\"00:00:00\").time())\n",
    "        & (df[\"Time\"] < pd.to_datetime(\"12:00:00\").time()),\n",
    "        (df[\"Time\"] >= pd.to_datetime(\"12:00:00\").time())\n",
    "        & (df[\"Time\"] < pd.to_datetime(\"17:00:00\").time()),\n",
    "        (df[\"Time\"] >= pd.to_datetime(\"17:00:00\").time())\n",
    "        & (df[\"Time\"] <= pd.to_datetime(\"23:59:59\").time()),\n",
    "    ]\n",
    "    labels = time_periods\n",
    "\n",
    "    df[\"Time Period\"] = np.select(conditions, labels, default=\"unknown\")\n",
    "\n",
    "    # Set 'Date' as index and sort\n",
    "    df = df.set_index(\"Date\")\n",
    "    df = df.sort_values(\"Date\")\n",
    "\n",
    "    # Define a function for converting numbers to float\n",
    "    def convert_numbers_to_float(s):\n",
    "        if isinstance(s, str):\n",
    "            try:\n",
    "                return float(s.replace(\",\", \"\"))\n",
    "            except ValueError:\n",
    "                pass\n",
    "        return s\n",
    "\n",
    "    # Apply the 'convert_numbers_to_float' function to all DataFrame values\n",
    "    df = df.applymap(convert_numbers_to_float)\n",
    "\n",
    "    return df"
   ]
  },
  {
   "cell_type": "code",
   "execution_count": null,
   "id": "107d662b",
   "metadata": {},
   "outputs": [],
   "source": [
    "new_df = clean_df(df)\n",
    "new_df.head()"
   ]
  },
  {
   "cell_type": "code",
   "execution_count": null,
   "id": "d7f5f182",
   "metadata": {},
   "outputs": [],
   "source": [
    "impressions = []\n",
    "views = []\n",
    "clicks = []\n",
    "others = []\n",
    "\n",
    "for col in new_df.columns:\n",
    "    if \"Impressions\" in col:\n",
    "        impressions.append(col)\n",
    "    elif \"Clicks\" in col:\n",
    "        clicks.append(col)\n",
    "    elif \"Views\" in col:\n",
    "        views.append(col)\n",
    "    else:\n",
    "        others.append(col)"
   ]
  },
  {
   "cell_type": "code",
   "execution_count": null,
   "id": "9fbce35d",
   "metadata": {},
   "outputs": [],
   "source": []
  }
 ],
 "metadata": {
  "kernelspec": {
   "display_name": "Python 3 (ipykernel)",
   "language": "python",
   "name": "python3"
  },
  "language_info": {
   "codemirror_mode": {
    "name": "ipython",
    "version": 3
   },
   "file_extension": ".py",
   "mimetype": "text/x-python",
   "name": "python",
   "nbconvert_exporter": "python",
   "pygments_lexer": "ipython3",
   "version": "3.11.5"
  }
 },
 "nbformat": 4,
 "nbformat_minor": 5
}
