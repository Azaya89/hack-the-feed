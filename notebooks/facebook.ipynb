{
 "cells": [
  {
   "cell_type": "code",
   "execution_count": null,
   "id": "f731e0c3",
   "metadata": {
    "scrolled": true
   },
   "outputs": [],
   "source": [
    "import pandas as pd\n",
    "import numpy as np\n",
    "\n",
    "file = \"../data/facebook.csv\"\n",
    "\n",
    "df = pd.read_csv(file, low_memory=False, parse_dates=[0])\n",
    "\n",
    "df.head()"
   ]
  },
  {
   "cell_type": "code",
   "execution_count": null,
   "id": "e9c61069",
   "metadata": {},
   "outputs": [],
   "source": [
    "%cd .."
   ]
  },
  {
   "cell_type": "code",
   "execution_count": null,
   "id": "0448184f",
   "metadata": {},
   "outputs": [],
   "source": [
    "from src.clean_data import clean_df"
   ]
  },
  {
   "cell_type": "code",
   "execution_count": null,
   "id": "73c64415",
   "metadata": {},
   "outputs": [],
   "source": [
    "new_df = clean_df(df)\n",
    "new_df.head()"
   ]
  },
  {
   "cell_type": "code",
   "execution_count": null,
   "id": "107d662b",
   "metadata": {},
   "outputs": [],
   "source": [
    "impressions = []\n",
    "views = []\n",
    "clicks = []\n",
    "others = []\n",
    "\n",
    "for col in new_df.columns:\n",
    "    if \"Impressions\" in col:\n",
    "        impressions.append(col)\n",
    "    elif \"Clicks\" in col:\n",
    "        clicks.append(col)\n",
    "    elif \"Views\" in col:\n",
    "        views.append(col)\n",
    "    else:\n",
    "        others.append(col)"
   ]
  },
  {
   "cell_type": "code",
   "execution_count": null,
   "id": "be95c77f",
   "metadata": {},
   "outputs": [],
   "source": []
  }
 ],
 "metadata": {
  "kernelspec": {
   "display_name": "Python 3 (ipykernel)",
   "language": "python",
   "name": "python3"
  },
  "language_info": {
   "codemirror_mode": {
    "name": "ipython",
    "version": 3
   },
   "file_extension": ".py",
   "mimetype": "text/x-python",
   "name": "python",
   "nbconvert_exporter": "python",
   "pygments_lexer": "ipython3",
   "version": "3.11.5"
  }
 },
 "nbformat": 4,
 "nbformat_minor": 5
}
