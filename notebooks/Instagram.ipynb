{
 "cells": [
  {
   "cell_type": "code",
   "execution_count": null,
   "id": "1a24e1a0",
   "metadata": {
    "ExecuteTime": {
     "end_time": "2023-10-08T19:36:55.171742Z",
     "start_time": "2023-10-08T19:36:52.658294Z"
    }
   },
   "outputs": [],
   "source": [
    "import pandas as pd\n",
    "import numpy as np\n",
    "\n",
    "file = \"../data/instagram.csv\"\n",
    "\n",
    "df = pd.read_csv(file, low_memory=False, parse_dates=[0])\n",
    "\n",
    "df.head()"
   ]
  },
  {
   "cell_type": "code",
   "execution_count": null,
   "id": "524757be",
   "metadata": {
    "ExecuteTime": {
     "end_time": "2023-10-08T19:36:55.191119Z",
     "start_time": "2023-10-08T19:36:55.185729Z"
    }
   },
   "outputs": [],
   "source": [
    "# increase pandas default max_rows so I can view all columns at once\n",
    "pd.options.display.max_rows = 200\n",
    "pd.options.display.max_columns = 200"
   ]
  },
  {
   "cell_type": "code",
   "execution_count": null,
   "id": "1498394f",
   "metadata": {
    "ExecuteTime": {
     "end_time": "2023-10-08T19:36:55.344605Z",
     "start_time": "2023-10-08T19:36:55.226817Z"
    },
    "scrolled": false
   },
   "outputs": [],
   "source": [
    "df.head(2)"
   ]
  },
  {
   "cell_type": "code",
   "execution_count": null,
   "id": "a204cdad",
   "metadata": {
    "ExecuteTime": {
     "end_time": "2023-10-08T19:36:55.376712Z",
     "start_time": "2023-10-08T19:36:55.359159Z"
    }
   },
   "outputs": [],
   "source": [
    "# There are features without values in them\n",
    "# Here are randomly chosen variables without values"
   ]
  },
  {
   "cell_type": "code",
   "execution_count": null,
   "id": "23c25a61",
   "metadata": {
    "ExecuteTime": {
     "end_time": "2023-10-08T19:36:55.410117Z",
     "start_time": "2023-10-08T19:36:55.389399Z"
    }
   },
   "outputs": [],
   "source": [
    "df[\"Card Teaser Clicks\"].isnull().sum()"
   ]
  },
  {
   "cell_type": "code",
   "execution_count": null,
   "id": "cc8da756",
   "metadata": {
    "ExecuteTime": {
     "end_time": "2023-10-08T19:36:55.427428Z",
     "start_time": "2023-10-08T19:36:55.416587Z"
    }
   },
   "outputs": [],
   "source": [
    "df[\"Poll Votes\"].isnull().sum()"
   ]
  },
  {
   "cell_type": "code",
   "execution_count": null,
   "id": "a6946b82",
   "metadata": {
    "ExecuteTime": {
     "end_time": "2023-10-08T19:36:55.459393Z",
     "start_time": "2023-10-08T19:36:55.449065Z"
    }
   },
   "outputs": [],
   "source": [
    "df[\"Follow Video Views\"].isnull().sum()"
   ]
  },
  {
   "cell_type": "code",
   "execution_count": null,
   "id": "0a5cd50c",
   "metadata": {
    "ExecuteTime": {
     "end_time": "2023-10-08T19:36:55.523614Z",
     "start_time": "2023-10-08T19:36:55.489210Z"
    }
   },
   "outputs": [],
   "source": [
    "df[\"Negative Feedback\"].isnull().sum()"
   ]
  },
  {
   "cell_type": "code",
   "execution_count": null,
   "id": "737cfc46",
   "metadata": {
    "ExecuteTime": {
     "end_time": "2023-10-08T19:36:55.564699Z",
     "start_time": "2023-10-08T19:36:55.543168Z"
    }
   },
   "outputs": [],
   "source": [
    "df[\"Profile Clicks\"].isnull().sum()"
   ]
  },
  {
   "cell_type": "code",
   "execution_count": null,
   "id": "d6a3ccfa",
   "metadata": {
    "ExecuteTime": {
     "end_time": "2023-10-08T19:36:55.598004Z",
     "start_time": "2023-10-08T19:36:55.587090Z"
    }
   },
   "outputs": [],
   "source": [
    "df.shape  # Number of rows and columns before data cleaning"
   ]
  },
  {
   "cell_type": "code",
   "execution_count": null,
   "id": "ff0d1832",
   "metadata": {
    "ExecuteTime": {
     "end_time": "2023-10-08T19:36:55.615742Z",
     "start_time": "2023-10-08T19:36:55.602682Z"
    }
   },
   "outputs": [],
   "source": [
    "list_features = list(df.columns)  # A list of the column names"
   ]
  },
  {
   "cell_type": "code",
   "execution_count": null,
   "id": "1809c108",
   "metadata": {
    "ExecuteTime": {
     "end_time": "2023-10-08T19:36:55.645956Z",
     "start_time": "2023-10-08T19:36:55.625693Z"
    },
    "scrolled": false
   },
   "outputs": [],
   "source": [
    "list_features"
   ]
  },
  {
   "cell_type": "code",
   "execution_count": null,
   "id": "aac3b3bf",
   "metadata": {
    "ExecuteTime": {
     "end_time": "2023-10-08T19:36:55.662499Z",
     "start_time": "2023-10-08T19:36:55.651465Z"
    }
   },
   "outputs": [],
   "source": [
    "len(list_features)  # Total number of features before data cleaning"
   ]
  },
  {
   "cell_type": "code",
   "execution_count": null,
   "id": "dc939d4d",
   "metadata": {
    "ExecuteTime": {
     "end_time": "2023-10-08T19:36:55.690784Z",
     "start_time": "2023-10-08T19:36:55.669510Z"
    }
   },
   "outputs": [],
   "source": [
    "%cd .."
   ]
  },
  {
   "cell_type": "code",
   "execution_count": null,
   "id": "aebd3538",
   "metadata": {
    "ExecuteTime": {
     "end_time": "2023-10-08T19:36:55.714694Z",
     "start_time": "2023-10-08T19:36:55.700071Z"
    }
   },
   "outputs": [],
   "source": [
    "# Data Cleaning\n",
    "from src.clean_data import clean_df"
   ]
  },
  {
   "cell_type": "code",
   "execution_count": null,
   "id": "7c84de7c",
   "metadata": {
    "ExecuteTime": {
     "end_time": "2023-10-08T19:36:56.548581Z",
     "start_time": "2023-10-08T19:36:55.724269Z"
    }
   },
   "outputs": [],
   "source": [
    "insta_df = clean_df(df)\n",
    "insta_df.head()"
   ]
  },
  {
   "cell_type": "code",
   "execution_count": null,
   "id": "bc72d327",
   "metadata": {
    "ExecuteTime": {
     "end_time": "2023-10-08T19:36:56.566534Z",
     "start_time": "2023-10-08T19:36:56.556642Z"
    }
   },
   "outputs": [],
   "source": [
    "insta_df.shape  # Number of rows and columns after data cleaning"
   ]
  },
  {
   "cell_type": "code",
   "execution_count": null,
   "id": "2d3c925b",
   "metadata": {
    "ExecuteTime": {
     "end_time": "2023-10-08T19:36:56.593597Z",
     "start_time": "2023-10-08T19:36:56.576767Z"
    }
   },
   "outputs": [],
   "source": [
    "insta_df.columns"
   ]
  },
  {
   "cell_type": "code",
   "execution_count": null,
   "id": "2f4f5c2a",
   "metadata": {
    "ExecuteTime": {
     "end_time": "2023-10-08T19:36:56.627006Z",
     "start_time": "2023-10-08T19:36:56.596554Z"
    }
   },
   "outputs": [],
   "source": [
    "features_after_cleaning = list(insta_df.columns)  # list of features after data cleaning"
   ]
  },
  {
   "cell_type": "code",
   "execution_count": null,
   "id": "60ea3521",
   "metadata": {
    "ExecuteTime": {
     "end_time": "2023-10-08T19:36:56.656102Z",
     "start_time": "2023-10-08T19:36:56.643780Z"
    }
   },
   "outputs": [],
   "source": [
    "len(features_after_cleaning)  # Number of features after data cleaning"
   ]
  },
  {
   "cell_type": "code",
   "execution_count": null,
   "id": "3082325f",
   "metadata": {
    "ExecuteTime": {
     "end_time": "2023-10-08T19:36:56.730975Z",
     "start_time": "2023-10-08T19:36:56.667272Z"
    }
   },
   "outputs": [],
   "source": [
    "len(list_features) - len(\n",
    "    features_after_cleaning\n",
    ")  # 127 features did not have values in them"
   ]
  },
  {
   "cell_type": "code",
   "execution_count": null,
   "id": "223b879c",
   "metadata": {
    "ExecuteTime": {
     "end_time": "2023-10-08T19:36:56.793494Z",
     "start_time": "2023-10-08T19:36:56.735428Z"
    }
   },
   "outputs": [],
   "source": [
    "insta_df.info()  # A conscise summary of the cleaned dataframe"
   ]
  },
  {
   "cell_type": "code",
   "execution_count": null,
   "id": "83edaadb",
   "metadata": {
    "ExecuteTime": {
     "end_time": "2023-10-08T19:36:56.824589Z",
     "start_time": "2023-10-08T19:36:56.800676Z"
    }
   },
   "outputs": [],
   "source": [
    "# I need to convert the data types to float\n",
    "insta_df[[\"Engagement Rate (per Impression)\", \"Engagement Rate (per Reach)\"]].tail()"
   ]
  },
  {
   "cell_type": "code",
   "execution_count": null,
   "id": "480c8a38",
   "metadata": {
    "ExecuteTime": {
     "end_time": "2023-10-08T19:36:56.861936Z",
     "start_time": "2023-10-08T19:36:56.832916Z"
    }
   },
   "outputs": [],
   "source": [
    "# Remove the '%' sign\n",
    "insta_df[\"Engagement Rate (per Impression)\"] = insta_df[\n",
    "    \"Engagement Rate (per Impression)\"\n",
    "].str.replace(\"%\", \"\")\n",
    "\n",
    "# Remove the comma ','\n",
    "insta_df[\"Engagement Rate (per Impression)\"] = insta_df[\n",
    "    \"Engagement Rate (per Impression)\"\n",
    "].str.replace(\",\", \"\")\n",
    "\n",
    "\n",
    "# Convert to float\n",
    "insta_df[\"Engagement Rate (per Impression)\"] = insta_df[\n",
    "    \"Engagement Rate (per Impression)\"\n",
    "].astype(float)"
   ]
  },
  {
   "cell_type": "code",
   "execution_count": null,
   "id": "888dec60",
   "metadata": {
    "ExecuteTime": {
     "end_time": "2023-10-08T19:36:56.895475Z",
     "start_time": "2023-10-08T19:36:56.871745Z"
    }
   },
   "outputs": [],
   "source": [
    "# Remove the '%' sign\n",
    "insta_df[\"Engagement Rate (per Reach)\"] = insta_df[\n",
    "    \"Engagement Rate (per Reach)\"\n",
    "].str.replace(\"%\", \"\")\n",
    "\n",
    "# Remove the comma ',''\n",
    "insta_df[\"Engagement Rate (per Reach)\"] = insta_df[\n",
    "    \"Engagement Rate (per Reach)\"\n",
    "].str.replace(\",\", \"\")\n",
    "\n",
    "# Convert to float\n",
    "insta_df[\"Engagement Rate (per Reach)\"] = insta_df[\n",
    "    \"Engagement Rate (per Reach)\"\n",
    "].astype(float)"
   ]
  },
  {
   "cell_type": "code",
   "execution_count": null,
   "id": "0f34b965",
   "metadata": {
    "ExecuteTime": {
     "end_time": "2023-10-08T19:36:56.930762Z",
     "start_time": "2023-10-08T19:36:56.902599Z"
    }
   },
   "outputs": [],
   "source": [
    "insta_df.info()  # Confirm the data type change"
   ]
  },
  {
   "cell_type": "markdown",
   "id": "852a9964",
   "metadata": {},
   "source": [
    "## Analysis and Visualization\n",
    "\n",
    "### Impressions and Reach\n",
    "\n",
    "The following sub-sections provide insights on the Impressions, Reach, and Engagements of the Instagram posts.\n",
    "\n",
    "#### QUESTION: What type of content generates the most impressions?"
   ]
  },
  {
   "cell_type": "code",
   "execution_count": null,
   "id": "c04d8fd3",
   "metadata": {
    "ExecuteTime": {
     "end_time": "2023-10-08T19:36:56.966701Z",
     "start_time": "2023-10-08T19:36:56.938505Z"
    }
   },
   "outputs": [],
   "source": [
    "# create a slice of the dataframe containing non-zero values for the `Impression` column.\n",
    "valid_impressions = insta_df[\n",
    "    (insta_df[\"Impressions\"] != 0) & ~insta_df[\"Impressions\"].isna()\n",
    "]\n",
    "\n",
    "# group by `Content Type` and calculate the mean `Impressions for each content type\n",
    "content_df = (\n",
    "    valid_impressions.groupby(\"Content Type\")[\"Impressions\"]\n",
    "    .mean()\n",
    "    .reset_index()\n",
    "    .sort_values(\"Impressions\", ascending=False)\n",
    ")"
   ]
  },
  {
   "cell_type": "code",
   "execution_count": null,
   "id": "5bb6c6ca",
   "metadata": {
    "ExecuteTime": {
     "end_time": "2023-10-08T19:36:57.866280Z",
     "start_time": "2023-10-08T19:36:56.990436Z"
    }
   },
   "outputs": [],
   "source": [
    "# import necessary plotting libraries\n",
    "from bokeh.io import output_notebook\n",
    "\n",
    "output_notebook()"
   ]
  },
  {
   "cell_type": "code",
   "execution_count": null,
   "id": "4bd3e696",
   "metadata": {
    "ExecuteTime": {
     "end_time": "2023-10-08T19:36:58.079024Z",
     "start_time": "2023-10-08T19:36:57.899982Z"
    }
   },
   "outputs": [],
   "source": [
    "# create a bar chart showing the average impressions by content type\n",
    "from bokeh.plotting import figure, output_file, show\n",
    "\n",
    "x_range = content_df[\"Content Type\"]\n",
    "y_range = content_df[\"Impressions\"]\n",
    "\n",
    "p = figure(\n",
    "    title=\"Average Impressions by Content Type\",\n",
    "    x_range=x_range,\n",
    "    height=400,\n",
    "    width=600,\n",
    "    y_axis_label=\"Average Impression\",\n",
    ")\n",
    "\n",
    "p.vbar(x=x_range, top=y_range, width=0.8)\n",
    "\n",
    "p.yaxis.minor_tick_out = 0\n",
    "p.y_range.start = 1000\n",
    "\n",
    "show(p)"
   ]
  },
  {
   "cell_type": "markdown",
   "id": "8b5c8e5e",
   "metadata": {},
   "source": [
    "#### QUESTION: What is the trend of impressions over the years?"
   ]
  },
  {
   "cell_type": "code",
   "execution_count": null,
   "id": "a25045d9",
   "metadata": {
    "ExecuteTime": {
     "end_time": "2023-10-08T19:36:58.687513Z",
     "start_time": "2023-10-08T19:36:58.084301Z"
    }
   },
   "outputs": [],
   "source": [
    "# import relevant plotting libraries\n",
    "%matplotlib inline\n",
    "import matplotlib.pyplot as plt\n",
    "\n",
    "plt.style.use(\"seaborn-v0_8-whitegrid\")"
   ]
  },
  {
   "cell_type": "code",
   "execution_count": null,
   "id": "e8c419be",
   "metadata": {
    "ExecuteTime": {
     "end_time": "2023-10-08T19:36:58.709108Z",
     "start_time": "2023-10-08T19:36:58.690545Z"
    }
   },
   "outputs": [],
   "source": [
    "# I reseted the index and renamed it to date\n",
    "valid_impressions.reset_index(inplace=True)\n",
    "valid_impressions.rename(columns={\"index\": \"date\"}, inplace=True)"
   ]
  },
  {
   "cell_type": "code",
   "execution_count": null,
   "id": "213ab382",
   "metadata": {
    "ExecuteTime": {
     "end_time": "2023-10-08T19:36:58.758001Z",
     "start_time": "2023-10-08T19:36:58.716835Z"
    }
   },
   "outputs": [],
   "source": [
    "valid_impressions.head(2)"
   ]
  },
  {
   "cell_type": "code",
   "execution_count": null,
   "id": "10e50d80",
   "metadata": {
    "ExecuteTime": {
     "end_time": "2023-10-08T19:36:58.795249Z",
     "start_time": "2023-10-08T19:36:58.762850Z"
    }
   },
   "outputs": [],
   "source": [
    "# Converted the date column to a datetime format\n",
    "valid_impressions[\"Date\"] = pd.to_datetime(valid_impressions[\"Date\"])"
   ]
  },
  {
   "cell_type": "code",
   "execution_count": null,
   "id": "bb975b4a",
   "metadata": {
    "ExecuteTime": {
     "end_time": "2023-10-08T19:36:58.847368Z",
     "start_time": "2023-10-08T19:36:58.841236Z"
    }
   },
   "outputs": [],
   "source": [
    "# Set the date as index\n",
    "valid_impressions.set_index(\"Date\", inplace=True)"
   ]
  },
  {
   "cell_type": "code",
   "execution_count": null,
   "id": "91cebb2f",
   "metadata": {
    "ExecuteTime": {
     "end_time": "2023-10-08T19:36:58.944950Z",
     "start_time": "2023-10-08T19:36:58.866477Z"
    },
    "scrolled": true
   },
   "outputs": [],
   "source": [
    "valid_impressions.head(2)"
   ]
  },
  {
   "cell_type": "code",
   "execution_count": null,
   "id": "67d187ca",
   "metadata": {
    "ExecuteTime": {
     "end_time": "2023-10-08T19:36:59.662219Z",
     "start_time": "2023-10-08T19:36:58.961016Z"
    }
   },
   "outputs": [],
   "source": [
    "# calculate the mean impressions per month\n",
    "mmi = valid_impressions[\"Impressions\"].resample(\"M\").mean()\n",
    "\n",
    "# forward fill the data for months with empty values and generate a line plot\n",
    "ax = mmi.fillna(method=\"ffill\").plot(title=\"Average Impressions over time\")\n",
    "\n",
    "plt.show();"
   ]
  },
  {
   "cell_type": "markdown",
   "id": "ba9cbbd5",
   "metadata": {},
   "source": [
    "#### QUESTION: When is the best time to post on Instagram?"
   ]
  },
  {
   "cell_type": "code",
   "execution_count": null,
   "id": "eea7bbb6",
   "metadata": {
    "ExecuteTime": {
     "end_time": "2023-10-08T19:36:59.689493Z",
     "start_time": "2023-10-08T19:36:59.666855Z"
    }
   },
   "outputs": [],
   "source": [
    "# group the dataframe by content type and time period the post was made\n",
    "cbt = (\n",
    "    valid_impressions.groupby([\"Content Type\", \"Time Period\"])[\"Reach\"]\n",
    "    .mean()\n",
    "    .reset_index()\n",
    ")\n",
    "\n",
    "time_period_order = [\"morning\", \"afternoon\", \"evening\"]\n",
    "\n",
    "# arrange the time period in order of morning, afternoon, and evening.\n",
    "cbt[\"Time Period\"] = pd.Categorical(\n",
    "    cbt[\"Time Period\"], categories=time_period_order, ordered=True\n",
    ")\n",
    "\n",
    "# sort the grouped dataframe by time period order\n",
    "cbt = cbt.sort_values([\"Content Type\", \"Time Period\"])\n",
    "cbt.reset_index(drop=True, inplace=True)"
   ]
  },
  {
   "cell_type": "code",
   "execution_count": null,
   "id": "e7b455f0",
   "metadata": {
    "ExecuteTime": {
     "end_time": "2023-10-08T19:36:59.699711Z",
     "start_time": "2023-10-08T19:36:59.692683Z"
    }
   },
   "outputs": [],
   "source": [
    "# The unique contents\n",
    "cbt[\"Content Type\"].unique()"
   ]
  },
  {
   "cell_type": "code",
   "execution_count": null,
   "id": "cc5f886a",
   "metadata": {
    "ExecuteTime": {
     "end_time": "2023-10-08T19:36:59.713684Z",
     "start_time": "2023-10-08T19:36:59.703542Z"
    }
   },
   "outputs": [],
   "source": [
    "# slice the grouped dataframe into content types\n",
    "carousel = cbt.iloc[:3]\n",
    "carousel.name = \"Carousel\"\n",
    "\n",
    "photo = cbt.iloc[3:6]\n",
    "photo.name = \"Photos\"\n",
    "\n",
    "video = cbt.iloc[6:9]\n",
    "video.name = \"Videos\"\n",
    "\n",
    "content = (carousel, photo, video)"
   ]
  },
  {
   "cell_type": "code",
   "execution_count": null,
   "id": "c01d3b9c",
   "metadata": {
    "ExecuteTime": {
     "end_time": "2023-10-08T19:36:59.736846Z",
     "start_time": "2023-10-08T19:36:59.721413Z"
    }
   },
   "outputs": [],
   "source": [
    "# create a function that plots a Bokeh bar chart for the time period data.\n",
    "def plot_bar(df):\n",
    "    p = figure(title=df.name, x_range=list(df[\"Time Period\"]), height=300, width=400)\n",
    "\n",
    "    p.vbar(x=\"Time Period\", top=\"Reach\", color=\"#99CCFF\", source=df, width=0.8)\n",
    "\n",
    "    p.axis.major_tick_out = 0\n",
    "\n",
    "    p.xgrid.grid_line_color = None\n",
    "\n",
    "    p.yaxis.axis_label = \"Average Reach\"\n",
    "    p.yaxis.minor_tick_out = 0\n",
    "    p.y_range.start = 1000\n",
    "    p.y_range.end = 2500\n",
    "\n",
    "    return p"
   ]
  },
  {
   "cell_type": "code",
   "execution_count": null,
   "id": "3d816e6b",
   "metadata": {
    "ExecuteTime": {
     "end_time": "2023-10-08T19:36:59.984157Z",
     "start_time": "2023-10-08T19:36:59.741484Z"
    }
   },
   "outputs": [],
   "source": [
    "# import the gridplot function to display the plots in a gridplot\n",
    "from bokeh.layouts import gridplot\n",
    "\n",
    "# create an empty list and append the bar plots in list\n",
    "plots = []\n",
    "for c in content:\n",
    "    plot = plot_bar(c)\n",
    "    plots.append(plot)\n",
    "\n",
    "# create a 2x2 layout for the plots and display it\n",
    "layout = gridplot(plots, ncols=2, toolbar_location=None)\n",
    "show(layout)"
   ]
  },
  {
   "cell_type": "markdown",
   "id": "38db4959",
   "metadata": {},
   "source": [
    "#### QUESTION: What type of content has the broadest appeal?"
   ]
  },
  {
   "cell_type": "code",
   "execution_count": null,
   "id": "e9f620a7",
   "metadata": {
    "ExecuteTime": {
     "end_time": "2023-10-08T19:37:00.013741Z",
     "start_time": "2023-10-08T19:36:59.987777Z"
    }
   },
   "outputs": [],
   "source": [
    "# group sliced dataframe by content type and calaculate the mean \"Organic Reach\"\n",
    "org_reach = (\n",
    "    valid_impressions.groupby(\"Content Type\")[\"Organic Reach\"].mean().reset_index()\n",
    ")\n",
    "\n",
    "# sort the grouped in descending order\n",
    "org_reach.sort_values(\"Organic Reach\", ascending=False, inplace=True)"
   ]
  },
  {
   "cell_type": "code",
   "execution_count": null,
   "id": "e3492c2d",
   "metadata": {
    "ExecuteTime": {
     "end_time": "2023-10-08T19:37:00.381751Z",
     "start_time": "2023-10-08T19:37:00.023899Z"
    }
   },
   "outputs": [],
   "source": [
    "# create a bar chart showing the average organic reach by content type\n",
    "from bokeh.plotting import figure, show\n",
    "\n",
    "x_range = org_reach[\"Content Type\"]\n",
    "y_range = org_reach[\"Organic Reach\"]\n",
    "\n",
    "p = figure(\n",
    "    title=\"Average organic reach of content\",\n",
    "    x_range=x_range,\n",
    "    height=400,\n",
    "    width=600,\n",
    "    y_axis_label=\"Average Organic Reach\",\n",
    ")\n",
    "\n",
    "p.vbar(x=x_range, top=y_range, width=0.8)\n",
    "\n",
    "p.yaxis.minor_tick_out = 0\n",
    "p.y_range.start = 1000\n",
    "\n",
    "show(p)"
   ]
  },
  {
   "cell_type": "markdown",
   "id": "e04d5604",
   "metadata": {},
   "source": [
    "#### Question: What type of contents generate the most authentic engagements?"
   ]
  },
  {
   "cell_type": "code",
   "execution_count": null,
   "id": "35d655f8",
   "metadata": {
    "ExecuteTime": {
     "end_time": "2023-10-08T19:37:00.396207Z",
     "start_time": "2023-10-08T19:37:00.388441Z"
    }
   },
   "outputs": [],
   "source": [
    "# group sliced dataframe by content type and calaculate the mean \"Organic Reach\"\n",
    "org_reach = (\n",
    "    valid_impressions.groupby(\"Content Type\")[\"Organic Impressions\"]\n",
    "    .mean()\n",
    "    .reset_index()\n",
    ")\n",
    "\n",
    "# sort the grouped in descending order\n",
    "org_reach.sort_values(\"Organic Impressions\", ascending=False, inplace=True)"
   ]
  },
  {
   "cell_type": "code",
   "execution_count": null,
   "id": "1ccd5185",
   "metadata": {
    "ExecuteTime": {
     "end_time": "2023-10-08T19:37:00.598743Z",
     "start_time": "2023-10-08T19:37:00.400896Z"
    }
   },
   "outputs": [],
   "source": [
    "# create a bar chart showing the average organic reach by content type\n",
    "from bokeh.plotting import figure, show\n",
    "\n",
    "x_range = org_reach[\"Content Type\"]\n",
    "y_range = org_reach[\"Organic Impressions\"]\n",
    "\n",
    "p = figure(\n",
    "    title=\"Average organic impressions of content\",\n",
    "    x_range=x_range,\n",
    "    height=400,\n",
    "    width=600,\n",
    "    y_axis_label=\"Average Organic Impression\",\n",
    ")\n",
    "\n",
    "p.vbar(x=x_range, top=y_range, width=0.8)\n",
    "\n",
    "p.yaxis.minor_tick_out = 0\n",
    "p.y_range.start = 1000\n",
    "\n",
    "show(p)"
   ]
  }
 ],
 "metadata": {
  "kernelspec": {
   "display_name": "Python 3 (ipykernel)",
   "language": "python",
   "name": "python3"
  },
  "language_info": {
   "codemirror_mode": {
    "name": "ipython",
    "version": 3
   },
   "file_extension": ".py",
   "mimetype": "text/x-python",
   "name": "python",
   "nbconvert_exporter": "python",
   "pygments_lexer": "ipython3",
   "version": "3.11.5"
  }
 },
 "nbformat": 4,
 "nbformat_minor": 5
}
